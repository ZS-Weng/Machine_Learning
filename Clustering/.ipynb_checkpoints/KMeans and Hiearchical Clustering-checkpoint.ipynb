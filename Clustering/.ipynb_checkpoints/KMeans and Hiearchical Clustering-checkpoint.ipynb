{
 "cells": [
  {
   "cell_type": "markdown",
   "metadata": {},
   "source": [
    "# This notebook contains code to compare KMeans Clustering and Hierarchical clustering to determine which is more effective and some initial concepts on Cluster Drift\n",
    "\n",
    "- The accompanying Medium article can be found at "
   ]
  },
  {
   "cell_type": "code",
   "execution_count": 1,
   "metadata": {
    "id": "JNWuaM-8xtNA"
   },
   "outputs": [],
   "source": [
    "import pandas as pd \n",
    "import numpy as np \n",
    "from sklearn.decomposition import PCA\n",
    "from sklearn.manifold import TSNE \n",
    "import matplotlib.pyplot as plt\n",
    "from sklearn.cluster import KMeans\n",
    "%matplotlib inline"
   ]
  },
  {
   "cell_type": "code",
   "execution_count": 2,
   "metadata": {
    "id": "THmEV6xbJkzc"
   },
   "outputs": [],
   "source": [
    "df_raw = pd.read_csv(\"data/Sample_Superstore_v2.csv\",\n",
    "                     encoding='latin1')"
   ]
  },
  {
   "cell_type": "code",
   "execution_count": 3,
   "metadata": {
    "colab": {
     "base_uri": "https://localhost:8080/"
    },
    "id": "M5_58nG2x4eQ",
    "outputId": "ad57ba41-b4b2-45ad-909b-9f3ab71f92bc"
   },
   "outputs": [
    {
     "name": "stdout",
     "output_type": "stream",
     "text": [
      "<class 'pandas.core.frame.DataFrame'>\n",
      "RangeIndex: 9994 entries, 0 to 9993\n",
      "Data columns (total 21 columns):\n",
      " #   Column         Non-Null Count  Dtype  \n",
      "---  ------         --------------  -----  \n",
      " 0   Row ID         9994 non-null   int64  \n",
      " 1   Order ID       9994 non-null   object \n",
      " 2   Order Date     9994 non-null   object \n",
      " 3   Ship Date      9994 non-null   object \n",
      " 4   Ship Mode      9994 non-null   object \n",
      " 5   Customer ID    9994 non-null   object \n",
      " 6   Customer Name  9994 non-null   object \n",
      " 7   Segment        9994 non-null   object \n",
      " 8   Country        9994 non-null   object \n",
      " 9   City           9994 non-null   object \n",
      " 10  State          9994 non-null   object \n",
      " 11  Postal Code    9994 non-null   int64  \n",
      " 12  Region         9994 non-null   object \n",
      " 13  Product ID     9994 non-null   object \n",
      " 14  Category       9994 non-null   object \n",
      " 15  Sub-Category   9994 non-null   object \n",
      " 16  Product Name   9994 non-null   object \n",
      " 17  Sales          9994 non-null   float64\n",
      " 18  Quantity       9994 non-null   int64  \n",
      " 19  Discount       9994 non-null   float64\n",
      " 20  Profit         9994 non-null   float64\n",
      "dtypes: float64(3), int64(3), object(15)\n",
      "memory usage: 1.6+ MB\n"
     ]
    }
   ],
   "source": [
    "df_raw.info()"
   ]
  },
  {
   "cell_type": "code",
   "execution_count": 4,
   "metadata": {
    "colab": {
     "base_uri": "https://localhost:8080/",
     "height": 291
    },
    "id": "Qwj15CwZwCER",
    "outputId": "79d09e4a-7d4c-4e22-ae42-9d8701361f70"
   },
   "outputs": [
    {
     "data": {
      "text/html": [
       "<div>\n",
       "<style scoped>\n",
       "    .dataframe tbody tr th:only-of-type {\n",
       "        vertical-align: middle;\n",
       "    }\n",
       "\n",
       "    .dataframe tbody tr th {\n",
       "        vertical-align: top;\n",
       "    }\n",
       "\n",
       "    .dataframe thead th {\n",
       "        text-align: right;\n",
       "    }\n",
       "</style>\n",
       "<table border=\"1\" class=\"dataframe\">\n",
       "  <thead>\n",
       "    <tr style=\"text-align: right;\">\n",
       "      <th></th>\n",
       "      <th>Order ID</th>\n",
       "      <th>Order Date</th>\n",
       "      <th>Ship Date</th>\n",
       "      <th>Ship Mode</th>\n",
       "      <th>Customer ID</th>\n",
       "      <th>Customer Name</th>\n",
       "      <th>Segment</th>\n",
       "      <th>Country</th>\n",
       "      <th>City</th>\n",
       "      <th>State</th>\n",
       "      <th>Region</th>\n",
       "      <th>Product ID</th>\n",
       "      <th>Category</th>\n",
       "      <th>Sub-Category</th>\n",
       "      <th>Product Name</th>\n",
       "    </tr>\n",
       "  </thead>\n",
       "  <tbody>\n",
       "    <tr>\n",
       "      <th>count</th>\n",
       "      <td>9994</td>\n",
       "      <td>9994</td>\n",
       "      <td>9994</td>\n",
       "      <td>9994</td>\n",
       "      <td>9994</td>\n",
       "      <td>9994</td>\n",
       "      <td>9994</td>\n",
       "      <td>9994</td>\n",
       "      <td>9994</td>\n",
       "      <td>9994</td>\n",
       "      <td>9994</td>\n",
       "      <td>9994</td>\n",
       "      <td>9994</td>\n",
       "      <td>9994</td>\n",
       "      <td>9994</td>\n",
       "    </tr>\n",
       "    <tr>\n",
       "      <th>unique</th>\n",
       "      <td>5009</td>\n",
       "      <td>1237</td>\n",
       "      <td>1334</td>\n",
       "      <td>4</td>\n",
       "      <td>793</td>\n",
       "      <td>793</td>\n",
       "      <td>3</td>\n",
       "      <td>1</td>\n",
       "      <td>531</td>\n",
       "      <td>49</td>\n",
       "      <td>4</td>\n",
       "      <td>1862</td>\n",
       "      <td>3</td>\n",
       "      <td>17</td>\n",
       "      <td>1850</td>\n",
       "    </tr>\n",
       "    <tr>\n",
       "      <th>top</th>\n",
       "      <td>CA-2017-100111</td>\n",
       "      <td>9/5/2016</td>\n",
       "      <td>12/16/2015</td>\n",
       "      <td>Standard Class</td>\n",
       "      <td>WB-21850</td>\n",
       "      <td>William Brown</td>\n",
       "      <td>Consumer</td>\n",
       "      <td>United States</td>\n",
       "      <td>New York City</td>\n",
       "      <td>California</td>\n",
       "      <td>West</td>\n",
       "      <td>OFF-PA-10001970</td>\n",
       "      <td>Office Supplies</td>\n",
       "      <td>Binders</td>\n",
       "      <td>Staple envelope</td>\n",
       "    </tr>\n",
       "    <tr>\n",
       "      <th>freq</th>\n",
       "      <td>14</td>\n",
       "      <td>38</td>\n",
       "      <td>35</td>\n",
       "      <td>5968</td>\n",
       "      <td>37</td>\n",
       "      <td>37</td>\n",
       "      <td>5191</td>\n",
       "      <td>9994</td>\n",
       "      <td>915</td>\n",
       "      <td>2001</td>\n",
       "      <td>3203</td>\n",
       "      <td>19</td>\n",
       "      <td>6026</td>\n",
       "      <td>1523</td>\n",
       "      <td>48</td>\n",
       "    </tr>\n",
       "  </tbody>\n",
       "</table>\n",
       "</div>"
      ],
      "text/plain": [
       "              Order ID Order Date   Ship Date       Ship Mode Customer ID  \\\n",
       "count             9994       9994        9994            9994        9994   \n",
       "unique            5009       1237        1334               4         793   \n",
       "top     CA-2017-100111   9/5/2016  12/16/2015  Standard Class    WB-21850   \n",
       "freq                14         38          35            5968          37   \n",
       "\n",
       "        Customer Name   Segment        Country           City       State  \\\n",
       "count            9994      9994           9994           9994        9994   \n",
       "unique            793         3              1            531          49   \n",
       "top     William Brown  Consumer  United States  New York City  California   \n",
       "freq               37      5191           9994            915        2001   \n",
       "\n",
       "       Region       Product ID         Category Sub-Category     Product Name  \n",
       "count    9994             9994             9994         9994             9994  \n",
       "unique      4             1862                3           17             1850  \n",
       "top      West  OFF-PA-10001970  Office Supplies      Binders  Staple envelope  \n",
       "freq     3203               19             6026         1523               48  "
      ]
     },
     "execution_count": 4,
     "metadata": {},
     "output_type": "execute_result"
    }
   ],
   "source": [
    "df_raw.describe(include=['O'])"
   ]
  },
  {
   "cell_type": "code",
   "execution_count": 5,
   "metadata": {
    "id": "8vjhugNsxmqA"
   },
   "outputs": [],
   "source": [
    "df_key_fields = df_raw[['Customer ID', 'Sub-Category', 'Sales']].copy()"
   ]
  },
  {
   "cell_type": "code",
   "execution_count": 6,
   "metadata": {
    "id": "tFPhuLx0yF9C"
   },
   "outputs": [],
   "source": [
    "df_cust_sales = df_key_fields.pivot_table(values = 'Sales',\n",
    "                                          columns = 'Sub-Category',\n",
    "                                          aggfunc=np.sum,\n",
    "                                          index='Customer ID').reset_index()"
   ]
  },
  {
   "cell_type": "code",
   "execution_count": 7,
   "metadata": {},
   "outputs": [
    {
     "data": {
      "text/html": [
       "<div>\n",
       "<style scoped>\n",
       "    .dataframe tbody tr th:only-of-type {\n",
       "        vertical-align: middle;\n",
       "    }\n",
       "\n",
       "    .dataframe tbody tr th {\n",
       "        vertical-align: top;\n",
       "    }\n",
       "\n",
       "    .dataframe thead th {\n",
       "        text-align: right;\n",
       "    }\n",
       "</style>\n",
       "<table border=\"1\" class=\"dataframe\">\n",
       "  <thead>\n",
       "    <tr style=\"text-align: right;\">\n",
       "      <th>Sub-Category</th>\n",
       "      <th>Customer ID</th>\n",
       "      <th>Accessories</th>\n",
       "      <th>Appliances</th>\n",
       "      <th>Art</th>\n",
       "      <th>Binders</th>\n",
       "      <th>Bookcases</th>\n",
       "      <th>Chairs</th>\n",
       "      <th>Copiers</th>\n",
       "      <th>Envelopes</th>\n",
       "      <th>Fasteners</th>\n",
       "      <th>Furnishings</th>\n",
       "      <th>Labels</th>\n",
       "      <th>Machines</th>\n",
       "      <th>Paper</th>\n",
       "      <th>Phones</th>\n",
       "      <th>Storage</th>\n",
       "      <th>Supplies</th>\n",
       "      <th>Tables</th>\n",
       "    </tr>\n",
       "  </thead>\n",
       "  <tbody>\n",
       "    <tr>\n",
       "      <th>0</th>\n",
       "      <td>AA-10315</td>\n",
       "      <td>41.72</td>\n",
       "      <td>415.92</td>\n",
       "      <td>NaN</td>\n",
       "      <td>685.108</td>\n",
       "      <td>NaN</td>\n",
       "      <td>NaN</td>\n",
       "      <td>NaN</td>\n",
       "      <td>NaN</td>\n",
       "      <td>2.304</td>\n",
       "      <td>14.56</td>\n",
       "      <td>NaN</td>\n",
       "      <td>NaN</td>\n",
       "      <td>14.940</td>\n",
       "      <td>431.976</td>\n",
       "      <td>26.960</td>\n",
       "      <td>3930.072</td>\n",
       "      <td>NaN</td>\n",
       "    </tr>\n",
       "    <tr>\n",
       "      <th>1</th>\n",
       "      <td>AA-10375</td>\n",
       "      <td>649.95</td>\n",
       "      <td>NaN</td>\n",
       "      <td>5.248</td>\n",
       "      <td>74.004</td>\n",
       "      <td>NaN</td>\n",
       "      <td>NaN</td>\n",
       "      <td>NaN</td>\n",
       "      <td>NaN</td>\n",
       "      <td>NaN</td>\n",
       "      <td>28.40</td>\n",
       "      <td>NaN</td>\n",
       "      <td>NaN</td>\n",
       "      <td>80.080</td>\n",
       "      <td>116.980</td>\n",
       "      <td>101.728</td>\n",
       "      <td>NaN</td>\n",
       "      <td>NaN</td>\n",
       "    </tr>\n",
       "    <tr>\n",
       "      <th>2</th>\n",
       "      <td>AA-10480</td>\n",
       "      <td>479.97</td>\n",
       "      <td>NaN</td>\n",
       "      <td>8.640</td>\n",
       "      <td>NaN</td>\n",
       "      <td>NaN</td>\n",
       "      <td>NaN</td>\n",
       "      <td>NaN</td>\n",
       "      <td>NaN</td>\n",
       "      <td>NaN</td>\n",
       "      <td>27.46</td>\n",
       "      <td>NaN</td>\n",
       "      <td>NaN</td>\n",
       "      <td>108.522</td>\n",
       "      <td>209.970</td>\n",
       "      <td>508.110</td>\n",
       "      <td>NaN</td>\n",
       "      <td>447.84</td>\n",
       "    </tr>\n",
       "    <tr>\n",
       "      <th>3</th>\n",
       "      <td>AA-10645</td>\n",
       "      <td>NaN</td>\n",
       "      <td>NaN</td>\n",
       "      <td>5.280</td>\n",
       "      <td>113.940</td>\n",
       "      <td>1279.165</td>\n",
       "      <td>2347.888</td>\n",
       "      <td>NaN</td>\n",
       "      <td>43.96</td>\n",
       "      <td>NaN</td>\n",
       "      <td>123.66</td>\n",
       "      <td>NaN</td>\n",
       "      <td>NaN</td>\n",
       "      <td>119.280</td>\n",
       "      <td>354.682</td>\n",
       "      <td>699.080</td>\n",
       "      <td>NaN</td>\n",
       "      <td>NaN</td>\n",
       "    </tr>\n",
       "    <tr>\n",
       "      <th>4</th>\n",
       "      <td>AB-10015</td>\n",
       "      <td>NaN</td>\n",
       "      <td>NaN</td>\n",
       "      <td>17.940</td>\n",
       "      <td>NaN</td>\n",
       "      <td>341.960</td>\n",
       "      <td>48.712</td>\n",
       "      <td>NaN</td>\n",
       "      <td>NaN</td>\n",
       "      <td>NaN</td>\n",
       "      <td>NaN</td>\n",
       "      <td>NaN</td>\n",
       "      <td>NaN</td>\n",
       "      <td>NaN</td>\n",
       "      <td>221.980</td>\n",
       "      <td>255.564</td>\n",
       "      <td>NaN</td>\n",
       "      <td>NaN</td>\n",
       "    </tr>\n",
       "  </tbody>\n",
       "</table>\n",
       "</div>"
      ],
      "text/plain": [
       "Sub-Category Customer ID  Accessories  Appliances     Art  Binders  Bookcases  \\\n",
       "0               AA-10315        41.72      415.92     NaN  685.108        NaN   \n",
       "1               AA-10375       649.95         NaN   5.248   74.004        NaN   \n",
       "2               AA-10480       479.97         NaN   8.640      NaN        NaN   \n",
       "3               AA-10645          NaN         NaN   5.280  113.940   1279.165   \n",
       "4               AB-10015          NaN         NaN  17.940      NaN    341.960   \n",
       "\n",
       "Sub-Category    Chairs  Copiers  Envelopes  Fasteners  Furnishings  Labels  \\\n",
       "0                  NaN      NaN        NaN      2.304        14.56     NaN   \n",
       "1                  NaN      NaN        NaN        NaN        28.40     NaN   \n",
       "2                  NaN      NaN        NaN        NaN        27.46     NaN   \n",
       "3             2347.888      NaN      43.96        NaN       123.66     NaN   \n",
       "4               48.712      NaN        NaN        NaN          NaN     NaN   \n",
       "\n",
       "Sub-Category  Machines    Paper   Phones  Storage  Supplies  Tables  \n",
       "0                  NaN   14.940  431.976   26.960  3930.072     NaN  \n",
       "1                  NaN   80.080  116.980  101.728       NaN     NaN  \n",
       "2                  NaN  108.522  209.970  508.110       NaN  447.84  \n",
       "3                  NaN  119.280  354.682  699.080       NaN     NaN  \n",
       "4                  NaN      NaN  221.980  255.564       NaN     NaN  "
      ]
     },
     "execution_count": 7,
     "metadata": {},
     "output_type": "execute_result"
    }
   ],
   "source": [
    "df_cust_sales.head()"
   ]
  },
  {
   "cell_type": "code",
   "execution_count": 8,
   "metadata": {
    "id": "-B9TgER7IAYQ"
   },
   "outputs": [],
   "source": [
    "df_cust_sales.fillna(0, inplace=True)"
   ]
  },
  {
   "cell_type": "code",
   "execution_count": 9,
   "metadata": {
    "id": "YVip4qGvIF6e"
   },
   "outputs": [],
   "source": [
    "df_cust_sales.iloc[:,1:] = df_cust_sales.iloc[:,1:].applymap(lambda x: np.log(x+1))"
   ]
  },
  {
   "cell_type": "code",
   "execution_count": 10,
   "metadata": {
    "id": "cd_2x4yBImnl"
   },
   "outputs": [],
   "source": [
    "df_cust_sales.fillna(0.0, inplace=True)"
   ]
  },
  {
   "cell_type": "code",
   "execution_count": 11,
   "metadata": {
    "id": "U3aNCx2EGcpp"
   },
   "outputs": [],
   "source": [
    "df_for_pca = df_cust_sales.iloc[:,1:].copy()"
   ]
  },
  {
   "cell_type": "markdown",
   "metadata": {},
   "source": [
    "## Clustering by Employing K Means"
   ]
  },
  {
   "cell_type": "code",
   "execution_count": 12,
   "metadata": {
    "colab": {
     "base_uri": "https://localhost:8080/"
    },
    "id": "7ACzv5TKJTs-",
    "outputId": "ed143550-4d20-444d-a5df-f64927bc5679"
   },
   "outputs": [],
   "source": [
    "pca = PCA()\n",
    "df_pca = pca.fit_transform(df_for_pca)\n",
    "exp_var = np.cumsum(pca.explained_variance_ratio_)"
   ]
  },
  {
   "cell_type": "code",
   "execution_count": 13,
   "metadata": {
    "colab": {
     "base_uri": "https://localhost:8080/",
     "height": 279
    },
    "id": "0nR1PMXhJkcA",
    "outputId": "6ca9c2a7-b823-406b-8af7-5f542a318ca2"
   },
   "outputs": [
    {
     "data": {
      "image/png": "[encoded data removed]",
      "text/plain": [
       "<Figure size 432x288 with 1 Axes>"
      ]
     },
     "metadata": {
      "needs_background": "light"
     },
     "output_type": "display_data"
    }
   ],
   "source": [
    "plt.bar(range(1,df_pca.shape[1]+1),pca.explained_variance_ratio_,align='center')\n",
    "plt.step(range(1,df_pca.shape[1]+1 ), np.cumsum(pca.explained_variance_ratio_), where='mid')\n",
    "plt.ylabel('Explained variance ratio')\n",
    "plt.xlabel('Principal Components')\n",
    "\n",
    "plt.show()"
   ]
  },
  {
   "cell_type": "code",
   "execution_count": 28,
   "metadata": {},
   "outputs": [
    {
     "name": "stdout",
     "output_type": "stream",
     "text": [
      "Sub-Category         Accessories  Appliances       Art   Binders  Bookcases  \\\n",
      "Principal Component                                                           \n",
      "0                       0.299488    0.215222  0.130083  0.194586   0.113307   \n",
      "1                       0.291298    0.021033 -0.016075  0.072558  -0.039979   \n",
      "2                       0.015721   -0.036152 -0.056943  0.087310  -0.283600   \n",
      "3                      -0.297868   -0.335876 -0.093622 -0.145448   0.149217   \n",
      "4                      -0.681273   -0.011905 -0.012593 -0.061011   0.171333   \n",
      "5                      -0.319342    0.584014 -0.006413  0.046002  -0.656444   \n",
      "6                      -0.152519    0.586203  0.107409  0.140265   0.632479   \n",
      "7                      -0.173497   -0.315009 -0.065533  0.429541  -0.014539   \n",
      "8                       0.205509   -0.040925  0.068308  0.145188  -0.012197   \n",
      "9                       0.140604    0.081405 -0.079482 -0.690488   0.057778   \n",
      "10                      0.134558    0.065944  0.250953 -0.298765  -0.010023   \n",
      "11                      0.101481   -0.006252  0.098379  0.327667   0.028489   \n",
      "\n",
      "Sub-Category           Chairs   Copiers  Envelopes  Fasteners  Furnishings  \\\n",
      "Principal Component                                                          \n",
      "0                    0.535178  0.042313   0.087004   0.060649     0.212350   \n",
      "1                   -0.635167 -0.052101   0.016558   0.015314    -0.059105   \n",
      "2                    0.470937 -0.061283   0.023831   0.016170    -0.062724   \n",
      "3                    0.243897  0.020299  -0.080165  -0.024176    -0.142403   \n",
      "4                   -0.028390  0.053840   0.030915  -0.001927    -0.108113   \n",
      "5                   -0.043275  0.017114  -0.050135   0.002223    -0.076927   \n",
      "6                   -0.031966 -0.028167   0.043227   0.002361    -0.103043   \n",
      "7                   -0.094702  0.249329   0.017038   0.042351     0.030600   \n",
      "8                    0.090822  0.036773   0.023232   0.003087    -0.929067   \n",
      "9                    0.060074 -0.305503  -0.059784   0.007755    -0.093691   \n",
      "10                  -0.002762  0.824485   0.149817  -0.048146     0.025780   \n",
      "11                   0.021001 -0.238648  -0.139256   0.005121     0.074513   \n",
      "\n",
      "Sub-Category           Labels  Machines     Paper    Phones   Storage  \\\n",
      "Principal Component                                                     \n",
      "0                    0.068533  0.125778  0.229068  0.418006  0.340012   \n",
      "1                    0.033478  0.019278  0.035553  0.042597  0.047058   \n",
      "2                   -0.071225  0.020035 -0.058794 -0.676242 -0.129977   \n",
      "3                   -0.021558 -0.071642 -0.167269  0.476749 -0.497636   \n",
      "4                   -0.011000 -0.070442 -0.043196 -0.074845  0.643361   \n",
      "5                   -0.067258  0.128420 -0.042303  0.271010 -0.127634   \n",
      "6                   -0.016009  0.127434  0.001990 -0.191948 -0.339025   \n",
      "7                    0.026425  0.769194  0.090629 -0.021705 -0.057164   \n",
      "8                   -0.107667 -0.008929  0.046864  0.084155  0.135698   \n",
      "9                   -0.028820  0.584115 -0.130111 -0.008627  0.123143   \n",
      "10                  -0.103856  0.018250 -0.313424 -0.055839  0.008529   \n",
      "11                  -0.024063  0.035868 -0.858597  0.074233  0.154630   \n",
      "\n",
      "Sub-Category         Supplies    Tables  \n",
      "Principal Component                      \n",
      "0                    0.069695  0.289194  \n",
      "1                    0.068684  0.697083  \n",
      "2                    0.031285  0.439024  \n",
      "3                   -0.015091  0.387754  \n",
      "4                   -0.047096  0.239696  \n",
      "5                    0.015592  0.022065  \n",
      "6                    0.130243  0.048077  \n",
      "7                    0.013846 -0.054787  \n",
      "8                    0.071886 -0.111129  \n",
      "9                   -0.054013  0.026753  \n",
      "10                   0.067730  0.053513  \n",
      "11                   0.137245 -0.046153  \n"
     ]
    }
   ],
   "source": [
    "#Showing the breakdown of the components\n",
    "\n",
    "loadings = pd.DataFrame(pca.components_[0:12, :], \n",
    "                        columns=df_for_pca.columns)\n",
    "\n",
    "loadings.index.rename(\"Principal Component\", inplace=True)\n",
    "\n",
    "print(loadings)"
   ]
  },
  {
   "cell_type": "code",
   "execution_count": 22,
   "metadata": {},
   "outputs": [
    {
     "data": {
      "image/png": "[encoded data removed]",
      "text/plain": [
       "<Figure size 864x576 with 12 Axes>"
      ]
     },
     "metadata": {
      "needs_background": "light"
     },
     "output_type": "display_data"
    }
   ],
   "source": [
    "# Graphical Representation of the values of each Principal Component\n",
    "\n",
    "maxPC = 1.01 * loadings.loc[0:12, :].abs().to_numpy().max()\n",
    "\n",
    "f, axes = plt.subplots(12, 1, figsize=(12, 8), sharex=True)\n",
    "\n",
    "for i, ax in enumerate(axes):\n",
    "    pc_loadings = loadings.loc[i, :]\n",
    "    colors = ['C0' if l > 0 else 'C1' for l in pc_loadings]\n",
    "    ax.axhline(color='#888888')\n",
    "    pc_loadings.plot.bar(ax=ax, color=colors)\n",
    "    ax.set_ylabel(f'PC{i+1}')\n",
    "    ax.set_ylim(-maxPC, maxPC)\n",
    "\n",
    "plt.tight_layout()\n",
    "plt.show()"
   ]
  },
  {
   "cell_type": "code",
   "execution_count": 14,
   "metadata": {},
   "outputs": [
    {
     "data": {
      "text/plain": [
       "masked_array(data=[--, --, --, --, --, --, --, --, --, --, --, --,\n",
       "                   0.9012439180276832, 0.931518409133049,\n",
       "                   0.9609887384148906, 0.9866734590101903, 1.0],\n",
       "             mask=[ True,  True,  True,  True,  True,  True,  True,  True,\n",
       "                    True,  True,  True,  True, False, False, False, False,\n",
       "                   False],\n",
       "       fill_value=1e+20)"
      ]
     },
     "execution_count": 14,
     "metadata": {},
     "output_type": "execute_result"
    }
   ],
   "source": [
    "#Masking based on 90% variance ratio explained \n",
    "exp_var = np.ma.MaskedArray(exp_var, exp_var<0.9)\n",
    "exp_var"
   ]
  },
  {
   "cell_type": "code",
   "execution_count": 15,
   "metadata": {
    "id": "xmN1UrTPKep4"
   },
   "outputs": [
    {
     "name": "stdout",
     "output_type": "stream",
     "text": [
      "12\n"
     ]
    }
   ],
   "source": [
    "#Find number of components based on 90% variance ratio explained \n",
    "n_components = np.argmin(exp_var)\n",
    "print(n_components)"
   ]
  },
  {
   "cell_type": "code",
   "execution_count": 16,
   "metadata": {
    "id": "t5N6FfvJKesM"
   },
   "outputs": [],
   "source": [
    "pca_components = PCA(n_components = n_components)"
   ]
  },
  {
   "cell_type": "code",
   "execution_count": 17,
   "metadata": {
    "id": "Vf5CjWMRJ5px"
   },
   "outputs": [],
   "source": [
    "pca_arr = pca_components.fit_transform(df_for_pca)"
   ]
  },
  {
   "cell_type": "code",
   "execution_count": 20,
   "metadata": {
    "colab": {
     "base_uri": "https://localhost:8080/",
     "height": 315
    },
    "id": "m9gA6sfFKeuu",
    "outputId": "3e5072a9-9a9f-45b0-fc2e-e4f0503d76f9"
   },
   "outputs": [
    {
     "name": "stderr",
     "output_type": "stream",
     "text": [
      "C:\\Users\\wengz\\anaconda3\\lib\\site-packages\\sklearn\\cluster\\_kmeans.py:1036: UserWarning: KMeans is known to have a memory leak on Windows with MKL, when there are less chunks than available threads. You can avoid it by setting the environment variable OMP_NUM_THREADS=4.\n",
      "  warnings.warn(\n"
     ]
    },
    {
     "name": "stdout",
     "output_type": "stream",
     "text": [
      "29\n"
     ]
    },
    {
     "data": {
      "image/png": "[encoded data removed]",
      "text/plain": [
       "<Figure size 432x288 with 1 Axes>"
      ]
     },
     "metadata": {
      "needs_background": "light"
     },
     "output_type": "display_data"
    }
   ],
   "source": [
    "distortions = []\n",
    "for i in range(1,30):\n",
    "    km = KMeans(n_clusters=i,\n",
    "                init='k-means++',\n",
    "                n_init=10,\n",
    "                max_iter=300,\n",
    "                random_state=0)\n",
    "    km.fit(pca_arr)\n",
    "    distortions.append(km.inertia_)\n",
    "\n",
    "print(len(distortions))\n",
    "plt.plot(range(1,len(distortions)+1), distortions, marker='o')\n",
    "plt.xlabel('Number of Clusters')\n",
    "plt.ylabel('Distortion')\n",
    "plt.tight_layout()\n",
    "plt.show()"
   ]
  },
  {
   "cell_type": "code",
   "execution_count": 21,
   "metadata": {
    "id": "qiL8DpP0KexO"
   },
   "outputs": [],
   "source": [
    "km_final = KMeans(n_clusters=25,\n",
    "                init='k-means++',\n",
    "                n_init=10,\n",
    "                max_iter=300,\n",
    "                random_state=0)\n",
    "results = km_final.fit_predict(pca_arr)"
   ]
  },
  {
   "cell_type": "code",
   "execution_count": 22,
   "metadata": {},
   "outputs": [
    {
     "name": "stdout",
     "output_type": "stream",
     "text": [
      "Frequency of unique values of the said array:\n",
      "[[ 0  1  2  3  4  5  6  7  8  9 10 11 12 13 14 15 16 17 18 19 20 21 22 23\n",
      "  24]\n",
      " [38 24 35 29 38 33 33 33 34 22 34 17 42 37 28 30 23 36 25 41 41 28 26 31\n",
      "  35]]\n"
     ]
    }
   ],
   "source": [
    "unique_elements, counts_elements = np.unique(results, return_counts=True)\n",
    "print(\"Frequency of unique values of the said array:\")\n",
    "print(np.asarray((unique_elements, counts_elements)))"
   ]
  },
  {
   "cell_type": "code",
   "execution_count": 23,
   "metadata": {
    "id": "8nsUhV59Kezo"
   },
   "outputs": [
    {
     "data": {
      "image/png": "[encoded data removed]",
      "text/plain": [
       "<Figure size 432x288 with 1 Axes>"
      ]
     },
     "metadata": {
      "needs_background": "light"
     },
     "output_type": "display_data"
    }
   ],
   "source": [
    "from matplotlib import cm\n",
    "from sklearn.metrics import silhouette_samples\n",
    "\n",
    "cluster_labels = np.unique(results)\n",
    "n_clusters = cluster_labels.shape[0]\n",
    "silhouette_vals = silhouette_samples(pca_arr, results, metric='euclidean')\n",
    "y_ax_lower, y_ax_upper = 0, 0\n",
    "yticks = []\n",
    "for i, c in enumerate(cluster_labels):\n",
    "    c_silhouette_vals = silhouette_vals[results == c]\n",
    "    c_silhouette_vals.sort()\n",
    "    y_ax_upper += len(c_silhouette_vals)\n",
    "    color = cm.jet(float(i) / n_clusters)\n",
    "    plt.barh(range(y_ax_lower, y_ax_upper), c_silhouette_vals, height=1.0, \n",
    "             edgecolor='none', color=color)\n",
    "\n",
    "    yticks.append((y_ax_lower + y_ax_upper) / 2.)\n",
    "    y_ax_lower += len(c_silhouette_vals)\n",
    "    \n",
    "silhouette_avg = np.mean(silhouette_vals)\n",
    "plt.axvline(silhouette_avg, color=\"red\", linestyle=\"--\") \n",
    "\n",
    "plt.yticks(yticks, cluster_labels + 1)\n",
    "plt.ylabel('Cluster')\n",
    "plt.xlabel('Silhouette coefficient')\n",
    "\n",
    "plt.tight_layout()\n",
    "#plt.savefig('figures/10_04.png', dpi=300)\n",
    "plt.show()"
   ]
  },
  {
   "cell_type": "markdown",
   "metadata": {
    "id": "8wjNqvJKKe2E"
   },
   "source": [
    "## Clustering by employing Hierarchical Clustering"
   ]
  },
  {
   "cell_type": "code",
   "execution_count": 24,
   "metadata": {
    "id": "m02Q_MCZKe38"
   },
   "outputs": [],
   "source": [
    "from scipy.cluster.hierarchy import linkage\n",
    "from scipy.cluster.hierarchy import dendrogram\n",
    "from sklearn.cluster import AgglomerativeClustering"
   ]
  },
  {
   "cell_type": "code",
   "execution_count": 25,
   "metadata": {},
   "outputs": [],
   "source": [
    "row_clusters = linkage(df_for_pca.values, method='ward', metric='euclidean')\n",
    "df_hc = pd.DataFrame(row_clusters, \n",
    "                     columns=['row label 1', 'row label 2',\n",
    "                              'distance', 'no. of items in clust.'],\n",
    "                     index=[f'Merge {(i + 1)}'\n",
    "                            for i in range(row_clusters.shape[0])])"
   ]
  },
  {
   "cell_type": "code",
   "execution_count": 26,
   "metadata": {},
   "outputs": [
    {
     "data": {
      "text/html": [
       "<div>\n",
       "<style scoped>\n",
       "    .dataframe tbody tr th:only-of-type {\n",
       "        vertical-align: middle;\n",
       "    }\n",
       "\n",
       "    .dataframe tbody tr th {\n",
       "        vertical-align: top;\n",
       "    }\n",
       "\n",
       "    .dataframe thead th {\n",
       "        text-align: right;\n",
       "    }\n",
       "</style>\n",
       "<table border=\"1\" class=\"dataframe\">\n",
       "  <thead>\n",
       "    <tr style=\"text-align: right;\">\n",
       "      <th></th>\n",
       "      <th>row label 1</th>\n",
       "      <th>row label 2</th>\n",
       "      <th>distance</th>\n",
       "      <th>no. of items in clust.</th>\n",
       "    </tr>\n",
       "  </thead>\n",
       "  <tbody>\n",
       "    <tr>\n",
       "      <th>Merge 1</th>\n",
       "      <td>49.0</td>\n",
       "      <td>266.0</td>\n",
       "      <td>0.508526</td>\n",
       "      <td>2.0</td>\n",
       "    </tr>\n",
       "    <tr>\n",
       "      <th>Merge 2</th>\n",
       "      <td>145.0</td>\n",
       "      <td>456.0</td>\n",
       "      <td>1.022159</td>\n",
       "      <td>2.0</td>\n",
       "    </tr>\n",
       "    <tr>\n",
       "      <th>Merge 3</th>\n",
       "      <td>14.0</td>\n",
       "      <td>173.0</td>\n",
       "      <td>1.794629</td>\n",
       "      <td>2.0</td>\n",
       "    </tr>\n",
       "    <tr>\n",
       "      <th>Merge 4</th>\n",
       "      <td>25.0</td>\n",
       "      <td>97.0</td>\n",
       "      <td>1.981793</td>\n",
       "      <td>2.0</td>\n",
       "    </tr>\n",
       "    <tr>\n",
       "      <th>Merge 5</th>\n",
       "      <td>137.0</td>\n",
       "      <td>197.0</td>\n",
       "      <td>2.093164</td>\n",
       "      <td>2.0</td>\n",
       "    </tr>\n",
       "    <tr>\n",
       "      <th>Merge 6</th>\n",
       "      <td>512.0</td>\n",
       "      <td>535.0</td>\n",
       "      <td>2.377934</td>\n",
       "      <td>2.0</td>\n",
       "    </tr>\n",
       "    <tr>\n",
       "      <th>Merge 7</th>\n",
       "      <td>404.0</td>\n",
       "      <td>461.0</td>\n",
       "      <td>2.393377</td>\n",
       "      <td>2.0</td>\n",
       "    </tr>\n",
       "    <tr>\n",
       "      <th>Merge 8</th>\n",
       "      <td>134.0</td>\n",
       "      <td>561.0</td>\n",
       "      <td>2.491636</td>\n",
       "      <td>2.0</td>\n",
       "    </tr>\n",
       "    <tr>\n",
       "      <th>Merge 9</th>\n",
       "      <td>248.0</td>\n",
       "      <td>767.0</td>\n",
       "      <td>2.533164</td>\n",
       "      <td>2.0</td>\n",
       "    </tr>\n",
       "    <tr>\n",
       "      <th>Merge 10</th>\n",
       "      <td>611.0</td>\n",
       "      <td>681.0</td>\n",
       "      <td>2.586114</td>\n",
       "      <td>2.0</td>\n",
       "    </tr>\n",
       "  </tbody>\n",
       "</table>\n",
       "</div>"
      ],
      "text/plain": [
       "          row label 1  row label 2  distance  no. of items in clust.\n",
       "Merge 1          49.0        266.0  0.508526                     2.0\n",
       "Merge 2         145.0        456.0  1.022159                     2.0\n",
       "Merge 3          14.0        173.0  1.794629                     2.0\n",
       "Merge 4          25.0         97.0  1.981793                     2.0\n",
       "Merge 5         137.0        197.0  2.093164                     2.0\n",
       "Merge 6         512.0        535.0  2.377934                     2.0\n",
       "Merge 7         404.0        461.0  2.393377                     2.0\n",
       "Merge 8         134.0        561.0  2.491636                     2.0\n",
       "Merge 9         248.0        767.0  2.533164                     2.0\n",
       "Merge 10        611.0        681.0  2.586114                     2.0"
      ]
     },
     "execution_count": 26,
     "metadata": {},
     "output_type": "execute_result"
    }
   ],
   "source": [
    "df_hc.head(10)"
   ]
  },
  {
   "cell_type": "code",
   "execution_count": 27,
   "metadata": {},
   "outputs": [
    {
     "name": "stdout",
     "output_type": "stream",
     "text": [
      "673 14.984966352795185\n"
     ]
    }
   ],
   "source": [
    "# Finding the merge based on 60% of merges\n",
    "merge_threshold = 0.85\n",
    "row = int(merge_threshold * df_hc.shape[0])\n",
    "distance_threshold = df_hc.iloc[row,2]\n",
    "print(row, distance_threshold)"
   ]
  },
  {
   "cell_type": "code",
   "execution_count": 28,
   "metadata": {},
   "outputs": [
    {
     "data": {
      "image/png": "[encoded data removed]",
      "text/plain": [
       "<Figure size 14400x864 with 1 Axes>"
      ]
     },
     "metadata": {
      "needs_background": "light"
     },
     "output_type": "display_data"
    }
   ],
   "source": [
    "labels = df_cust_sales.iloc[:,0].values\n",
    "plt.figure(figsize=(200,12))\n",
    "row_dendr = dendrogram(row_clusters, \n",
    "                       labels=labels,\n",
    "                       color_threshold = distance_threshold\n",
    "                      )\n",
    "plt.ylabel('Euclidean distance')\n",
    "plt.xlabel('Customer ID')\n",
    "plt.show()"
   ]
  },
  {
   "cell_type": "code",
   "execution_count": 29,
   "metadata": {},
   "outputs": [],
   "source": [
    "#Use Agglomerative Clustering based on Threshold \n",
    "from sklearn.cluster import AgglomerativeClustering\n",
    "\n",
    "ac = AgglomerativeClustering(n_clusters=None, \n",
    "                             distance_threshold=distance_threshold,\n",
    "                             affinity='euclidean',\n",
    "                             linkage='ward')\n",
    "\n",
    "hc_cluster = ac.fit_predict(df_for_pca.values)"
   ]
  },
  {
   "cell_type": "code",
   "execution_count": 30,
   "metadata": {},
   "outputs": [
    {
     "data": {
      "text/plain": [
       "793"
      ]
     },
     "execution_count": 30,
     "metadata": {},
     "output_type": "execute_result"
    }
   ],
   "source": [
    "len(hc_cluster)"
   ]
  },
  {
   "cell_type": "code",
   "execution_count": 31,
   "metadata": {},
   "outputs": [],
   "source": [
    "#Joining details back\n",
    "\n",
    "df_cluster = pd.concat([pd.DataFrame(hc_cluster, columns=['Cluster']), df_cust_sales], axis=1)"
   ]
  },
  {
   "cell_type": "code",
   "execution_count": 32,
   "metadata": {},
   "outputs": [
    {
     "data": {
      "text/plain": [
       "120"
      ]
     },
     "execution_count": 32,
     "metadata": {},
     "output_type": "execute_result"
    }
   ],
   "source": [
    "df_cluster['Cluster'].nunique()"
   ]
  },
  {
   "cell_type": "code",
   "execution_count": 33,
   "metadata": {},
   "outputs": [
    {
     "data": {
      "text/html": [
       "<div>\n",
       "<style scoped>\n",
       "    .dataframe tbody tr th:only-of-type {\n",
       "        vertical-align: middle;\n",
       "    }\n",
       "\n",
       "    .dataframe tbody tr th {\n",
       "        vertical-align: top;\n",
       "    }\n",
       "\n",
       "    .dataframe thead th {\n",
       "        text-align: right;\n",
       "    }\n",
       "</style>\n",
       "<table border=\"1\" class=\"dataframe\">\n",
       "  <thead>\n",
       "    <tr style=\"text-align: right;\">\n",
       "      <th></th>\n",
       "      <th>Cluster</th>\n",
       "    </tr>\n",
       "  </thead>\n",
       "  <tbody>\n",
       "    <tr>\n",
       "      <th>44</th>\n",
       "      <td>16</td>\n",
       "    </tr>\n",
       "    <tr>\n",
       "      <th>37</th>\n",
       "      <td>15</td>\n",
       "    </tr>\n",
       "    <tr>\n",
       "      <th>17</th>\n",
       "      <td>14</td>\n",
       "    </tr>\n",
       "    <tr>\n",
       "      <th>1</th>\n",
       "      <td>14</td>\n",
       "    </tr>\n",
       "    <tr>\n",
       "      <th>2</th>\n",
       "      <td>13</td>\n",
       "    </tr>\n",
       "    <tr>\n",
       "      <th>...</th>\n",
       "      <td>...</td>\n",
       "    </tr>\n",
       "    <tr>\n",
       "      <th>49</th>\n",
       "      <td>3</td>\n",
       "    </tr>\n",
       "    <tr>\n",
       "      <th>102</th>\n",
       "      <td>2</td>\n",
       "    </tr>\n",
       "    <tr>\n",
       "      <th>118</th>\n",
       "      <td>2</td>\n",
       "    </tr>\n",
       "    <tr>\n",
       "      <th>113</th>\n",
       "      <td>2</td>\n",
       "    </tr>\n",
       "    <tr>\n",
       "      <th>76</th>\n",
       "      <td>2</td>\n",
       "    </tr>\n",
       "  </tbody>\n",
       "</table>\n",
       "<p>120 rows × 1 columns</p>\n",
       "</div>"
      ],
      "text/plain": [
       "     Cluster\n",
       "44        16\n",
       "37        15\n",
       "17        14\n",
       "1         14\n",
       "2         13\n",
       "..       ...\n",
       "49         3\n",
       "102        2\n",
       "118        2\n",
       "113        2\n",
       "76         2\n",
       "\n",
       "[120 rows x 1 columns]"
      ]
     },
     "execution_count": 33,
     "metadata": {},
     "output_type": "execute_result"
    }
   ],
   "source": [
    "df_cluster['Cluster'].value_counts().to_frame()"
   ]
  },
  {
   "cell_type": "code",
   "execution_count": 34,
   "metadata": {},
   "outputs": [],
   "source": [
    "# Cluster Heat Map Visualization\n",
    "import seaborn as sns\n",
    "\n",
    "df_plot_heatmap = df_cluster.groupby('Cluster').sum().applymap(lambda x: np.log(x+1))\n",
    "columns = list(df_plot_heatmap.sum(axis=0).sort_values(ascending=False).index)\n",
    "df_plot_heatmap_sort = df_plot_heatmap[columns]"
   ]
  },
  {
   "cell_type": "code",
   "execution_count": 35,
   "metadata": {},
   "outputs": [
    {
     "data": {
      "text/plain": [
       "<AxesSubplot:ylabel='Cluster'>"
      ]
     },
     "execution_count": 35,
     "metadata": {},
     "output_type": "execute_result"
    },
    {
     "data": {
      "image/png": "[encoded data removed]",
      "text/plain": [
       "<Figure size 1440x720 with 2 Axes>"
      ]
     },
     "metadata": {
      "needs_background": "light"
     },
     "output_type": "display_data"
    }
   ],
   "source": [
    "plt.figure(figsize=(20,10))\n",
    "sns.heatmap(df_plot_heatmap_sort,\n",
    "            cmap='Spectral_r')"
   ]
  },
  {
   "cell_type": "code",
   "execution_count": 36,
   "metadata": {},
   "outputs": [],
   "source": [
    "df_cluster_customer_count = df_cluster[['Cluster', 'Customer ID']].groupby('Cluster').nunique().reset_index()\n",
    "df_cluster_customer_count.columns = ['Cluster', 'Count of Customers in Cluster']"
   ]
  },
  {
   "cell_type": "code",
   "execution_count": 37,
   "metadata": {},
   "outputs": [
    {
     "data": {
      "text/html": [
       "<div>\n",
       "<style scoped>\n",
       "    .dataframe tbody tr th:only-of-type {\n",
       "        vertical-align: middle;\n",
       "    }\n",
       "\n",
       "    .dataframe tbody tr th {\n",
       "        vertical-align: top;\n",
       "    }\n",
       "\n",
       "    .dataframe thead th {\n",
       "        text-align: right;\n",
       "    }\n",
       "</style>\n",
       "<table border=\"1\" class=\"dataframe\">\n",
       "  <thead>\n",
       "    <tr style=\"text-align: right;\">\n",
       "      <th></th>\n",
       "      <th>Cluster</th>\n",
       "      <th>Count of Customers in Cluster</th>\n",
       "    </tr>\n",
       "  </thead>\n",
       "  <tbody>\n",
       "    <tr>\n",
       "      <th>0</th>\n",
       "      <td>0</td>\n",
       "      <td>11</td>\n",
       "    </tr>\n",
       "    <tr>\n",
       "      <th>1</th>\n",
       "      <td>1</td>\n",
       "      <td>14</td>\n",
       "    </tr>\n",
       "    <tr>\n",
       "      <th>2</th>\n",
       "      <td>2</td>\n",
       "      <td>13</td>\n",
       "    </tr>\n",
       "    <tr>\n",
       "      <th>3</th>\n",
       "      <td>3</td>\n",
       "      <td>4</td>\n",
       "    </tr>\n",
       "    <tr>\n",
       "      <th>4</th>\n",
       "      <td>4</td>\n",
       "      <td>4</td>\n",
       "    </tr>\n",
       "  </tbody>\n",
       "</table>\n",
       "</div>"
      ],
      "text/plain": [
       "   Cluster  Count of Customers in Cluster\n",
       "0        0                             11\n",
       "1        1                             14\n",
       "2        2                             13\n",
       "3        3                              4\n",
       "4        4                              4"
      ]
     },
     "execution_count": 37,
     "metadata": {},
     "output_type": "execute_result"
    }
   ],
   "source": [
    "df_cluster_customer_count.head()"
   ]
  },
  {
   "cell_type": "code",
   "execution_count": 38,
   "metadata": {},
   "outputs": [],
   "source": [
    "df_cluster_original_amount = df_key_fields.merge(df_cluster[['Cluster', 'Customer ID']],\n",
    "                                                 how='left',\n",
    "                                                 on = 'Customer ID')"
   ]
  },
  {
   "cell_type": "code",
   "execution_count": 39,
   "metadata": {},
   "outputs": [
    {
     "data": {
      "text/html": [
       "<div>\n",
       "<style scoped>\n",
       "    .dataframe tbody tr th:only-of-type {\n",
       "        vertical-align: middle;\n",
       "    }\n",
       "\n",
       "    .dataframe tbody tr th {\n",
       "        vertical-align: top;\n",
       "    }\n",
       "\n",
       "    .dataframe thead th {\n",
       "        text-align: right;\n",
       "    }\n",
       "</style>\n",
       "<table border=\"1\" class=\"dataframe\">\n",
       "  <thead>\n",
       "    <tr style=\"text-align: right;\">\n",
       "      <th></th>\n",
       "      <th>Customer ID</th>\n",
       "      <th>Sub-Category</th>\n",
       "      <th>Sales</th>\n",
       "      <th>Cluster</th>\n",
       "    </tr>\n",
       "  </thead>\n",
       "  <tbody>\n",
       "    <tr>\n",
       "      <th>0</th>\n",
       "      <td>CG-12520</td>\n",
       "      <td>Bookcases</td>\n",
       "      <td>261.9600</td>\n",
       "      <td>26</td>\n",
       "    </tr>\n",
       "    <tr>\n",
       "      <th>1</th>\n",
       "      <td>CG-12520</td>\n",
       "      <td>Chairs</td>\n",
       "      <td>731.9400</td>\n",
       "      <td>26</td>\n",
       "    </tr>\n",
       "    <tr>\n",
       "      <th>2</th>\n",
       "      <td>DV-13045</td>\n",
       "      <td>Labels</td>\n",
       "      <td>14.6200</td>\n",
       "      <td>40</td>\n",
       "    </tr>\n",
       "    <tr>\n",
       "      <th>3</th>\n",
       "      <td>SO-20335</td>\n",
       "      <td>Tables</td>\n",
       "      <td>957.5775</td>\n",
       "      <td>42</td>\n",
       "    </tr>\n",
       "    <tr>\n",
       "      <th>4</th>\n",
       "      <td>SO-20335</td>\n",
       "      <td>Storage</td>\n",
       "      <td>22.3680</td>\n",
       "      <td>42</td>\n",
       "    </tr>\n",
       "  </tbody>\n",
       "</table>\n",
       "</div>"
      ],
      "text/plain": [
       "  Customer ID Sub-Category     Sales  Cluster\n",
       "0    CG-12520    Bookcases  261.9600       26\n",
       "1    CG-12520       Chairs  731.9400       26\n",
       "2    DV-13045       Labels   14.6200       40\n",
       "3    SO-20335       Tables  957.5775       42\n",
       "4    SO-20335      Storage   22.3680       42"
      ]
     },
     "execution_count": 39,
     "metadata": {},
     "output_type": "execute_result"
    }
   ],
   "source": [
    "df_cluster_original_amount.head()"
   ]
  },
  {
   "cell_type": "code",
   "execution_count": 40,
   "metadata": {},
   "outputs": [],
   "source": [
    "df_cluster_cat_count = df_cluster_original_amount.groupby(['Cluster','Sub-Category'])\\\n",
    ".agg({'Sales':'sum', 'Customer ID':'nunique'}).reset_index()\n",
    "df_cluster_cat_count.columns = ['Cluster','Sub-Category','Sales','Count of Customers in Cluster SubCat']"
   ]
  },
  {
   "cell_type": "code",
   "execution_count": 41,
   "metadata": {},
   "outputs": [
    {
     "data": {
      "text/html": [
       "<div>\n",
       "<style scoped>\n",
       "    .dataframe tbody tr th:only-of-type {\n",
       "        vertical-align: middle;\n",
       "    }\n",
       "\n",
       "    .dataframe tbody tr th {\n",
       "        vertical-align: top;\n",
       "    }\n",
       "\n",
       "    .dataframe thead th {\n",
       "        text-align: right;\n",
       "    }\n",
       "</style>\n",
       "<table border=\"1\" class=\"dataframe\">\n",
       "  <thead>\n",
       "    <tr style=\"text-align: right;\">\n",
       "      <th></th>\n",
       "      <th>Cluster</th>\n",
       "      <th>Sub-Category</th>\n",
       "      <th>Sales</th>\n",
       "      <th>Count of Customers in Cluster SubCat</th>\n",
       "    </tr>\n",
       "  </thead>\n",
       "  <tbody>\n",
       "    <tr>\n",
       "      <th>0</th>\n",
       "      <td>0</td>\n",
       "      <td>Accessories</td>\n",
       "      <td>2337.294</td>\n",
       "      <td>9</td>\n",
       "    </tr>\n",
       "    <tr>\n",
       "      <th>1</th>\n",
       "      <td>0</td>\n",
       "      <td>Appliances</td>\n",
       "      <td>5576.404</td>\n",
       "      <td>11</td>\n",
       "    </tr>\n",
       "    <tr>\n",
       "      <th>2</th>\n",
       "      <td>0</td>\n",
       "      <td>Art</td>\n",
       "      <td>346.120</td>\n",
       "      <td>8</td>\n",
       "    </tr>\n",
       "    <tr>\n",
       "      <th>3</th>\n",
       "      <td>0</td>\n",
       "      <td>Binders</td>\n",
       "      <td>8250.038</td>\n",
       "      <td>10</td>\n",
       "    </tr>\n",
       "    <tr>\n",
       "      <th>4</th>\n",
       "      <td>0</td>\n",
       "      <td>Chairs</td>\n",
       "      <td>7597.798</td>\n",
       "      <td>11</td>\n",
       "    </tr>\n",
       "  </tbody>\n",
       "</table>\n",
       "</div>"
      ],
      "text/plain": [
       "   Cluster Sub-Category     Sales  Count of Customers in Cluster SubCat\n",
       "0        0  Accessories  2337.294                                     9\n",
       "1        0   Appliances  5576.404                                    11\n",
       "2        0          Art   346.120                                     8\n",
       "3        0      Binders  8250.038                                    10\n",
       "4        0       Chairs  7597.798                                    11"
      ]
     },
     "execution_count": 41,
     "metadata": {},
     "output_type": "execute_result"
    }
   ],
   "source": [
    "df_cluster_cat_count.head()"
   ]
  },
  {
   "cell_type": "code",
   "execution_count": 42,
   "metadata": {},
   "outputs": [],
   "source": [
    "df_cluster_cat = df_cluster_cat_count.merge(df_cluster_customer_count,\n",
    "                                            how='left',\n",
    "                                            on='Cluster')"
   ]
  },
  {
   "cell_type": "code",
   "execution_count": 43,
   "metadata": {},
   "outputs": [],
   "source": [
    "df_cluster_cat['Percent Customer in each SubCat'] = df_cluster_cat['Count of Customers in Cluster SubCat'] \\\n",
    "/ df_cluster_cat['Count of Customers in Cluster']"
   ]
  },
  {
   "cell_type": "code",
   "execution_count": 44,
   "metadata": {},
   "outputs": [
    {
     "data": {
      "text/html": [
       "<div>\n",
       "<style scoped>\n",
       "    .dataframe tbody tr th:only-of-type {\n",
       "        vertical-align: middle;\n",
       "    }\n",
       "\n",
       "    .dataframe tbody tr th {\n",
       "        vertical-align: top;\n",
       "    }\n",
       "\n",
       "    .dataframe thead th {\n",
       "        text-align: right;\n",
       "    }\n",
       "</style>\n",
       "<table border=\"1\" class=\"dataframe\">\n",
       "  <thead>\n",
       "    <tr style=\"text-align: right;\">\n",
       "      <th></th>\n",
       "      <th>Cluster</th>\n",
       "      <th>Sub-Category</th>\n",
       "      <th>Sales</th>\n",
       "      <th>Count of Customers in Cluster SubCat</th>\n",
       "      <th>Count of Customers in Cluster</th>\n",
       "      <th>Percent Customer in each SubCat</th>\n",
       "    </tr>\n",
       "  </thead>\n",
       "  <tbody>\n",
       "    <tr>\n",
       "      <th>0</th>\n",
       "      <td>0</td>\n",
       "      <td>Accessories</td>\n",
       "      <td>2337.294</td>\n",
       "      <td>9</td>\n",
       "      <td>11</td>\n",
       "      <td>0.818182</td>\n",
       "    </tr>\n",
       "    <tr>\n",
       "      <th>1</th>\n",
       "      <td>0</td>\n",
       "      <td>Appliances</td>\n",
       "      <td>5576.404</td>\n",
       "      <td>11</td>\n",
       "      <td>11</td>\n",
       "      <td>1.000000</td>\n",
       "    </tr>\n",
       "    <tr>\n",
       "      <th>2</th>\n",
       "      <td>0</td>\n",
       "      <td>Art</td>\n",
       "      <td>346.120</td>\n",
       "      <td>8</td>\n",
       "      <td>11</td>\n",
       "      <td>0.727273</td>\n",
       "    </tr>\n",
       "    <tr>\n",
       "      <th>3</th>\n",
       "      <td>0</td>\n",
       "      <td>Binders</td>\n",
       "      <td>8250.038</td>\n",
       "      <td>10</td>\n",
       "      <td>11</td>\n",
       "      <td>0.909091</td>\n",
       "    </tr>\n",
       "    <tr>\n",
       "      <th>4</th>\n",
       "      <td>0</td>\n",
       "      <td>Chairs</td>\n",
       "      <td>7597.798</td>\n",
       "      <td>11</td>\n",
       "      <td>11</td>\n",
       "      <td>1.000000</td>\n",
       "    </tr>\n",
       "  </tbody>\n",
       "</table>\n",
       "</div>"
      ],
      "text/plain": [
       "   Cluster Sub-Category     Sales  Count of Customers in Cluster SubCat  \\\n",
       "0        0  Accessories  2337.294                                     9   \n",
       "1        0   Appliances  5576.404                                    11   \n",
       "2        0          Art   346.120                                     8   \n",
       "3        0      Binders  8250.038                                    10   \n",
       "4        0       Chairs  7597.798                                    11   \n",
       "\n",
       "   Count of Customers in Cluster  Percent Customer in each SubCat  \n",
       "0                             11                         0.818182  \n",
       "1                             11                         1.000000  \n",
       "2                             11                         0.727273  \n",
       "3                             11                         0.909091  \n",
       "4                             11                         1.000000  "
      ]
     },
     "execution_count": 44,
     "metadata": {},
     "output_type": "execute_result"
    }
   ],
   "source": [
    "df_cluster_cat.head()"
   ]
  },
  {
   "cell_type": "code",
   "execution_count": 45,
   "metadata": {},
   "outputs": [
    {
     "data": {
      "text/plain": [
       "<AxesSubplot:>"
      ]
     },
     "execution_count": 45,
     "metadata": {},
     "output_type": "execute_result"
    },
    {
     "data": {
      "image/png": "[encoded data removed]",
      "text/plain": [
       "<Figure size 432x288 with 1 Axes>"
      ]
     },
     "metadata": {
      "needs_background": "light"
     },
     "output_type": "display_data"
    }
   ],
   "source": [
    "df_cluster_cat['Percent Customer in each SubCat'].hist()"
   ]
  },
  {
   "cell_type": "code",
   "execution_count": 46,
   "metadata": {},
   "outputs": [],
   "source": [
    "# Set parameters for customers with similar purchases and get the top 5 categories based on amount spent\n",
    "customer_coverage_percent = 0.8\n",
    "top_n_cat = 5"
   ]
  },
  {
   "cell_type": "code",
   "execution_count": 47,
   "metadata": {},
   "outputs": [],
   "source": [
    "mask_coverage = df_cluster_cat['Percent Customer in each SubCat'] >= customer_coverage_percent\n",
    "df_cluster_desc_gen = df_cluster_cat\\\n",
    ".loc[mask_coverage,['Cluster','Sub-Category','Sales','Count of Customers in Cluster']]\n",
    "df_cluster_desc_gen.sort_values(by=['Cluster','Sales'], \n",
    "                                ascending=[True,False],\n",
    "                                inplace=True) "
   ]
  },
  {
   "cell_type": "code",
   "execution_count": 48,
   "metadata": {},
   "outputs": [
    {
     "data": {
      "text/html": [
       "<div>\n",
       "<style scoped>\n",
       "    .dataframe tbody tr th:only-of-type {\n",
       "        vertical-align: middle;\n",
       "    }\n",
       "\n",
       "    .dataframe tbody tr th {\n",
       "        vertical-align: top;\n",
       "    }\n",
       "\n",
       "    .dataframe thead th {\n",
       "        text-align: right;\n",
       "    }\n",
       "</style>\n",
       "<table border=\"1\" class=\"dataframe\">\n",
       "  <thead>\n",
       "    <tr style=\"text-align: right;\">\n",
       "      <th></th>\n",
       "      <th>Cluster</th>\n",
       "      <th>Sub-Category</th>\n",
       "      <th>Sales</th>\n",
       "      <th>Count of Customers in Cluster</th>\n",
       "    </tr>\n",
       "  </thead>\n",
       "  <tbody>\n",
       "    <tr>\n",
       "      <th>3</th>\n",
       "      <td>0</td>\n",
       "      <td>Binders</td>\n",
       "      <td>8250.038</td>\n",
       "      <td>11</td>\n",
       "    </tr>\n",
       "    <tr>\n",
       "      <th>8</th>\n",
       "      <td>0</td>\n",
       "      <td>Machines</td>\n",
       "      <td>7915.091</td>\n",
       "      <td>11</td>\n",
       "    </tr>\n",
       "    <tr>\n",
       "      <th>4</th>\n",
       "      <td>0</td>\n",
       "      <td>Chairs</td>\n",
       "      <td>7597.798</td>\n",
       "      <td>11</td>\n",
       "    </tr>\n",
       "    <tr>\n",
       "      <th>10</th>\n",
       "      <td>0</td>\n",
       "      <td>Phones</td>\n",
       "      <td>7187.104</td>\n",
       "      <td>11</td>\n",
       "    </tr>\n",
       "    <tr>\n",
       "      <th>13</th>\n",
       "      <td>0</td>\n",
       "      <td>Tables</td>\n",
       "      <td>6827.768</td>\n",
       "      <td>11</td>\n",
       "    </tr>\n",
       "    <tr>\n",
       "      <th>11</th>\n",
       "      <td>0</td>\n",
       "      <td>Storage</td>\n",
       "      <td>5848.230</td>\n",
       "      <td>11</td>\n",
       "    </tr>\n",
       "    <tr>\n",
       "      <th>1</th>\n",
       "      <td>0</td>\n",
       "      <td>Appliances</td>\n",
       "      <td>5576.404</td>\n",
       "      <td>11</td>\n",
       "    </tr>\n",
       "    <tr>\n",
       "      <th>0</th>\n",
       "      <td>0</td>\n",
       "      <td>Accessories</td>\n",
       "      <td>2337.294</td>\n",
       "      <td>11</td>\n",
       "    </tr>\n",
       "    <tr>\n",
       "      <th>7</th>\n",
       "      <td>0</td>\n",
       "      <td>Furnishings</td>\n",
       "      <td>1974.370</td>\n",
       "      <td>11</td>\n",
       "    </tr>\n",
       "    <tr>\n",
       "      <th>9</th>\n",
       "      <td>0</td>\n",
       "      <td>Paper</td>\n",
       "      <td>1238.758</td>\n",
       "      <td>11</td>\n",
       "    </tr>\n",
       "    <tr>\n",
       "      <th>18</th>\n",
       "      <td>1</td>\n",
       "      <td>Chairs</td>\n",
       "      <td>15655.572</td>\n",
       "      <td>14</td>\n",
       "    </tr>\n",
       "    <tr>\n",
       "      <th>14</th>\n",
       "      <td>1</td>\n",
       "      <td>Accessories</td>\n",
       "      <td>5996.916</td>\n",
       "      <td>14</td>\n",
       "    </tr>\n",
       "    <tr>\n",
       "      <th>24</th>\n",
       "      <td>1</td>\n",
       "      <td>Storage</td>\n",
       "      <td>3461.038</td>\n",
       "      <td>14</td>\n",
       "    </tr>\n",
       "    <tr>\n",
       "      <th>23</th>\n",
       "      <td>1</td>\n",
       "      <td>Paper</td>\n",
       "      <td>1623.042</td>\n",
       "      <td>14</td>\n",
       "    </tr>\n",
       "    <tr>\n",
       "      <th>16</th>\n",
       "      <td>1</td>\n",
       "      <td>Binders</td>\n",
       "      <td>332.721</td>\n",
       "      <td>14</td>\n",
       "    </tr>\n",
       "    <tr>\n",
       "      <th>27</th>\n",
       "      <td>2</td>\n",
       "      <td>Accessories</td>\n",
       "      <td>9600.164</td>\n",
       "      <td>13</td>\n",
       "    </tr>\n",
       "    <tr>\n",
       "      <th>38</th>\n",
       "      <td>2</td>\n",
       "      <td>Phones</td>\n",
       "      <td>7506.644</td>\n",
       "      <td>13</td>\n",
       "    </tr>\n",
       "    <tr>\n",
       "      <th>34</th>\n",
       "      <td>2</td>\n",
       "      <td>Furnishings</td>\n",
       "      <td>2519.248</td>\n",
       "      <td>13</td>\n",
       "    </tr>\n",
       "    <tr>\n",
       "      <th>37</th>\n",
       "      <td>2</td>\n",
       "      <td>Paper</td>\n",
       "      <td>1089.626</td>\n",
       "      <td>13</td>\n",
       "    </tr>\n",
       "    <tr>\n",
       "      <th>51</th>\n",
       "      <td>3</td>\n",
       "      <td>Machines</td>\n",
       "      <td>10709.990</td>\n",
       "      <td>4</td>\n",
       "    </tr>\n",
       "  </tbody>\n",
       "</table>\n",
       "</div>"
      ],
      "text/plain": [
       "    Cluster Sub-Category      Sales  Count of Customers in Cluster\n",
       "3         0      Binders   8250.038                             11\n",
       "8         0     Machines   7915.091                             11\n",
       "4         0       Chairs   7597.798                             11\n",
       "10        0       Phones   7187.104                             11\n",
       "13        0       Tables   6827.768                             11\n",
       "11        0      Storage   5848.230                             11\n",
       "1         0   Appliances   5576.404                             11\n",
       "0         0  Accessories   2337.294                             11\n",
       "7         0  Furnishings   1974.370                             11\n",
       "9         0        Paper   1238.758                             11\n",
       "18        1       Chairs  15655.572                             14\n",
       "14        1  Accessories   5996.916                             14\n",
       "24        1      Storage   3461.038                             14\n",
       "23        1        Paper   1623.042                             14\n",
       "16        1      Binders    332.721                             14\n",
       "27        2  Accessories   9600.164                             13\n",
       "38        2       Phones   7506.644                             13\n",
       "34        2  Furnishings   2519.248                             13\n",
       "37        2        Paper   1089.626                             13\n",
       "51        3     Machines  10709.990                              4"
      ]
     },
     "execution_count": 48,
     "metadata": {},
     "output_type": "execute_result"
    }
   ],
   "source": [
    "df_cluster_desc_gen[0:20]"
   ]
  },
  {
   "cell_type": "code",
   "execution_count": 49,
   "metadata": {},
   "outputs": [],
   "source": [
    "set_cat = set(df_cluster_desc_gen['Cluster'])"
   ]
  },
  {
   "cell_type": "code",
   "execution_count": 50,
   "metadata": {},
   "outputs": [],
   "source": [
    "list_cluster = []\n",
    "list_desc = []\n",
    "\n",
    "for item in set_cat:\n",
    "    df_temp = df_cluster_desc_gen[df_cluster_desc_gen['Cluster']==item].reset_index().copy()\n",
    "    desc = '|'.join(df_temp.loc[0:top_n_cat-1, 'Sub-Category'].tolist())\n",
    "    list_cluster.append(item)\n",
    "    list_desc.append(desc)"
   ]
  },
  {
   "cell_type": "code",
   "execution_count": 51,
   "metadata": {},
   "outputs": [],
   "source": [
    "df_cluster_desc = pd.DataFrame({'Cluster': list_cluster,\n",
    "                                'Cluster Description': list_desc})"
   ]
  },
  {
   "cell_type": "code",
   "execution_count": 52,
   "metadata": {},
   "outputs": [
    {
     "data": {
      "text/html": [
       "<div>\n",
       "<style scoped>\n",
       "    .dataframe tbody tr th:only-of-type {\n",
       "        vertical-align: middle;\n",
       "    }\n",
       "\n",
       "    .dataframe tbody tr th {\n",
       "        vertical-align: top;\n",
       "    }\n",
       "\n",
       "    .dataframe thead th {\n",
       "        text-align: right;\n",
       "    }\n",
       "</style>\n",
       "<table border=\"1\" class=\"dataframe\">\n",
       "  <thead>\n",
       "    <tr style=\"text-align: right;\">\n",
       "      <th></th>\n",
       "      <th>Cluster</th>\n",
       "      <th>Cluster Description</th>\n",
       "    </tr>\n",
       "  </thead>\n",
       "  <tbody>\n",
       "    <tr>\n",
       "      <th>0</th>\n",
       "      <td>0</td>\n",
       "      <td>Binders|Machines|Chairs|Phones|Tables</td>\n",
       "    </tr>\n",
       "    <tr>\n",
       "      <th>1</th>\n",
       "      <td>1</td>\n",
       "      <td>Chairs|Accessories|Storage|Paper|Binders</td>\n",
       "    </tr>\n",
       "    <tr>\n",
       "      <th>2</th>\n",
       "      <td>2</td>\n",
       "      <td>Accessories|Phones|Furnishings|Paper</td>\n",
       "    </tr>\n",
       "    <tr>\n",
       "      <th>3</th>\n",
       "      <td>3</td>\n",
       "      <td>Machines|Chairs|Bookcases|Binders|Appliances</td>\n",
       "    </tr>\n",
       "    <tr>\n",
       "      <th>4</th>\n",
       "      <td>4</td>\n",
       "      <td>Machines|Tables|Appliances|Binders</td>\n",
       "    </tr>\n",
       "  </tbody>\n",
       "</table>\n",
       "</div>"
      ],
      "text/plain": [
       "   Cluster                           Cluster Description\n",
       "0        0         Binders|Machines|Chairs|Phones|Tables\n",
       "1        1      Chairs|Accessories|Storage|Paper|Binders\n",
       "2        2          Accessories|Phones|Furnishings|Paper\n",
       "3        3  Machines|Chairs|Bookcases|Binders|Appliances\n",
       "4        4            Machines|Tables|Appliances|Binders"
      ]
     },
     "execution_count": 52,
     "metadata": {},
     "output_type": "execute_result"
    }
   ],
   "source": [
    "df_cluster_desc.head()"
   ]
  },
  {
   "cell_type": "code",
   "execution_count": 53,
   "metadata": {},
   "outputs": [],
   "source": [
    "df_cluster_original_amount = df_key_fields.merge(df_cluster[['Cluster', 'Customer ID']],\n",
    "                                                 how='left',\n",
    "                                                 on = 'Customer ID')"
   ]
  },
  {
   "cell_type": "code",
   "execution_count": 54,
   "metadata": {},
   "outputs": [
    {
     "data": {
      "text/html": [
       "<div>\n",
       "<style scoped>\n",
       "    .dataframe tbody tr th:only-of-type {\n",
       "        vertical-align: middle;\n",
       "    }\n",
       "\n",
       "    .dataframe tbody tr th {\n",
       "        vertical-align: top;\n",
       "    }\n",
       "\n",
       "    .dataframe thead th {\n",
       "        text-align: right;\n",
       "    }\n",
       "</style>\n",
       "<table border=\"1\" class=\"dataframe\">\n",
       "  <thead>\n",
       "    <tr style=\"text-align: right;\">\n",
       "      <th></th>\n",
       "      <th>Customer ID</th>\n",
       "      <th>Sub-Category</th>\n",
       "      <th>Sales</th>\n",
       "      <th>Cluster</th>\n",
       "    </tr>\n",
       "  </thead>\n",
       "  <tbody>\n",
       "    <tr>\n",
       "      <th>0</th>\n",
       "      <td>CG-12520</td>\n",
       "      <td>Bookcases</td>\n",
       "      <td>261.9600</td>\n",
       "      <td>26</td>\n",
       "    </tr>\n",
       "    <tr>\n",
       "      <th>1</th>\n",
       "      <td>CG-12520</td>\n",
       "      <td>Chairs</td>\n",
       "      <td>731.9400</td>\n",
       "      <td>26</td>\n",
       "    </tr>\n",
       "    <tr>\n",
       "      <th>2</th>\n",
       "      <td>DV-13045</td>\n",
       "      <td>Labels</td>\n",
       "      <td>14.6200</td>\n",
       "      <td>40</td>\n",
       "    </tr>\n",
       "    <tr>\n",
       "      <th>3</th>\n",
       "      <td>SO-20335</td>\n",
       "      <td>Tables</td>\n",
       "      <td>957.5775</td>\n",
       "      <td>42</td>\n",
       "    </tr>\n",
       "    <tr>\n",
       "      <th>4</th>\n",
       "      <td>SO-20335</td>\n",
       "      <td>Storage</td>\n",
       "      <td>22.3680</td>\n",
       "      <td>42</td>\n",
       "    </tr>\n",
       "  </tbody>\n",
       "</table>\n",
       "</div>"
      ],
      "text/plain": [
       "  Customer ID Sub-Category     Sales  Cluster\n",
       "0    CG-12520    Bookcases  261.9600       26\n",
       "1    CG-12520       Chairs  731.9400       26\n",
       "2    DV-13045       Labels   14.6200       40\n",
       "3    SO-20335       Tables  957.5775       42\n",
       "4    SO-20335      Storage   22.3680       42"
      ]
     },
     "execution_count": 54,
     "metadata": {},
     "output_type": "execute_result"
    }
   ],
   "source": [
    "df_cluster_original_amount.head()"
   ]
  },
  {
   "cell_type": "code",
   "execution_count": 55,
   "metadata": {},
   "outputs": [],
   "source": [
    "df_cluster_sum_amount = df_cluster_original_amount[['Cluster','Sales','Customer ID']]\\\n",
    ".groupby('Cluster')\\\n",
    ".agg({'Customer ID':'nunique','Sales':'sum'})\\\n",
    ".reset_index()"
   ]
  },
  {
   "cell_type": "code",
   "execution_count": 56,
   "metadata": {},
   "outputs": [],
   "source": [
    "df_cluster_sum_amount.columns = ['Cluster', 'Count of Customers in Cluster', 'Cluster Sales']"
   ]
  },
  {
   "cell_type": "code",
   "execution_count": 57,
   "metadata": {},
   "outputs": [],
   "source": [
    "def two_sig_fig(x):\n",
    "    div = 10 ** (np.floor(np.log10(x)) - 1)\n",
    "    return (x // div) * div"
   ]
  },
  {
   "cell_type": "code",
   "execution_count": 58,
   "metadata": {},
   "outputs": [],
   "source": [
    "df_cluster_sum_amount['Cluster Sales Round'] = df_cluster_sum_amount['Cluster Sales'].apply(two_sig_fig).astype(int)"
   ]
  },
  {
   "cell_type": "code",
   "execution_count": 59,
   "metadata": {},
   "outputs": [],
   "source": [
    "df_cluster_desc_sales = df_cluster_desc.merge(df_cluster_sum_amount,\n",
    "                                              how='left',\n",
    "                                              on=['Cluster'])"
   ]
  },
  {
   "cell_type": "code",
   "execution_count": 60,
   "metadata": {},
   "outputs": [
    {
     "data": {
      "text/html": [
       "<div>\n",
       "<style scoped>\n",
       "    .dataframe tbody tr th:only-of-type {\n",
       "        vertical-align: middle;\n",
       "    }\n",
       "\n",
       "    .dataframe tbody tr th {\n",
       "        vertical-align: top;\n",
       "    }\n",
       "\n",
       "    .dataframe thead th {\n",
       "        text-align: right;\n",
       "    }\n",
       "</style>\n",
       "<table border=\"1\" class=\"dataframe\">\n",
       "  <thead>\n",
       "    <tr style=\"text-align: right;\">\n",
       "      <th></th>\n",
       "      <th>Cluster</th>\n",
       "      <th>Cluster Description</th>\n",
       "      <th>Count of Customers in Cluster</th>\n",
       "      <th>Cluster Sales</th>\n",
       "      <th>Cluster Sales Round</th>\n",
       "    </tr>\n",
       "  </thead>\n",
       "  <tbody>\n",
       "    <tr>\n",
       "      <th>0</th>\n",
       "      <td>0</td>\n",
       "      <td>Binders|Machines|Chairs|Phones|Tables</td>\n",
       "      <td>11</td>\n",
       "      <td>55906.783</td>\n",
       "      <td>55000</td>\n",
       "    </tr>\n",
       "    <tr>\n",
       "      <th>1</th>\n",
       "      <td>1</td>\n",
       "      <td>Chairs|Accessories|Storage|Paper|Binders</td>\n",
       "      <td>14</td>\n",
       "      <td>29833.351</td>\n",
       "      <td>29000</td>\n",
       "    </tr>\n",
       "    <tr>\n",
       "      <th>2</th>\n",
       "      <td>2</td>\n",
       "      <td>Accessories|Phones|Furnishings|Paper</td>\n",
       "      <td>13</td>\n",
       "      <td>24272.831</td>\n",
       "      <td>24000</td>\n",
       "    </tr>\n",
       "    <tr>\n",
       "      <th>3</th>\n",
       "      <td>3</td>\n",
       "      <td>Machines|Chairs|Bookcases|Binders|Appliances</td>\n",
       "      <td>4</td>\n",
       "      <td>34489.906</td>\n",
       "      <td>34000</td>\n",
       "    </tr>\n",
       "    <tr>\n",
       "      <th>4</th>\n",
       "      <td>4</td>\n",
       "      <td>Machines|Tables|Appliances|Binders</td>\n",
       "      <td>4</td>\n",
       "      <td>33048.645</td>\n",
       "      <td>33000</td>\n",
       "    </tr>\n",
       "  </tbody>\n",
       "</table>\n",
       "</div>"
      ],
      "text/plain": [
       "   Cluster                           Cluster Description  \\\n",
       "0        0         Binders|Machines|Chairs|Phones|Tables   \n",
       "1        1      Chairs|Accessories|Storage|Paper|Binders   \n",
       "2        2          Accessories|Phones|Furnishings|Paper   \n",
       "3        3  Machines|Chairs|Bookcases|Binders|Appliances   \n",
       "4        4            Machines|Tables|Appliances|Binders   \n",
       "\n",
       "   Count of Customers in Cluster  Cluster Sales  Cluster Sales Round  \n",
       "0                             11      55906.783                55000  \n",
       "1                             14      29833.351                29000  \n",
       "2                             13      24272.831                24000  \n",
       "3                              4      34489.906                34000  \n",
       "4                              4      33048.645                33000  "
      ]
     },
     "execution_count": 60,
     "metadata": {},
     "output_type": "execute_result"
    }
   ],
   "source": [
    "df_cluster_desc_sales.head()"
   ]
  },
  {
   "cell_type": "code",
   "execution_count": 61,
   "metadata": {},
   "outputs": [],
   "source": [
    "df_cluster_desc_sales['Cluster Desc Value'] = \\\n",
    "df_cluster_desc_sales['Cluster Description'] + \\\n",
    "\"__\" + \\\n",
    "df_cluster_desc_sales['Cluster Sales Round'].astype(str)"
   ]
  },
  {
   "cell_type": "code",
   "execution_count": 62,
   "metadata": {},
   "outputs": [],
   "source": [
    "df_cluster_desc_sales.drop(columns=['Cluster Sales Round'],\n",
    "                           inplace=True)"
   ]
  },
  {
   "cell_type": "code",
   "execution_count": 63,
   "metadata": {},
   "outputs": [],
   "source": [
    "df_cluster_desc_sales.sort_values(by=['Count of Customers in Cluster','Cluster Sales'],\n",
    "                                  ascending=[False,False],\n",
    "                                  inplace=True)"
   ]
  },
  {
   "cell_type": "code",
   "execution_count": 64,
   "metadata": {},
   "outputs": [],
   "source": [
    "df_cluster_desc_sales.reset_index(drop=True, \n",
    "                                  inplace=True)"
   ]
  },
  {
   "cell_type": "code",
   "execution_count": 65,
   "metadata": {},
   "outputs": [],
   "source": [
    "df_cluster_desc_sales['Group ID'] = df_cluster_desc_sales.index+1"
   ]
  },
  {
   "cell_type": "code",
   "execution_count": 66,
   "metadata": {},
   "outputs": [
    {
     "data": {
      "text/html": [
       "<div>\n",
       "<style scoped>\n",
       "    .dataframe tbody tr th:only-of-type {\n",
       "        vertical-align: middle;\n",
       "    }\n",
       "\n",
       "    .dataframe tbody tr th {\n",
       "        vertical-align: top;\n",
       "    }\n",
       "\n",
       "    .dataframe thead th {\n",
       "        text-align: right;\n",
       "    }\n",
       "</style>\n",
       "<table border=\"1\" class=\"dataframe\">\n",
       "  <thead>\n",
       "    <tr style=\"text-align: right;\">\n",
       "      <th></th>\n",
       "      <th>Cluster</th>\n",
       "      <th>Cluster Description</th>\n",
       "      <th>Count of Customers in Cluster</th>\n",
       "      <th>Cluster Sales</th>\n",
       "      <th>Cluster Desc Value</th>\n",
       "      <th>Group ID</th>\n",
       "    </tr>\n",
       "  </thead>\n",
       "  <tbody>\n",
       "    <tr>\n",
       "      <th>0</th>\n",
       "      <td>44</td>\n",
       "      <td>Accessories|Storage|Binders|Paper|Art</td>\n",
       "      <td>16</td>\n",
       "      <td>16138.809</td>\n",
       "      <td>Accessories|Storage|Binders|Paper|Art__16000</td>\n",
       "      <td>1</td>\n",
       "    </tr>\n",
       "    <tr>\n",
       "      <th>1</th>\n",
       "      <td>17</td>\n",
       "      <td>Tables|Accessories|Phones|Storage</td>\n",
       "      <td>14</td>\n",
       "      <td>38989.639</td>\n",
       "      <td>Tables|Accessories|Phones|Storage__38000</td>\n",
       "      <td>2</td>\n",
       "    </tr>\n",
       "    <tr>\n",
       "      <th>2</th>\n",
       "      <td>1</td>\n",
       "      <td>Chairs|Accessories|Storage|Paper|Binders</td>\n",
       "      <td>14</td>\n",
       "      <td>29833.351</td>\n",
       "      <td>Chairs|Accessories|Storage|Paper|Binders__29000</td>\n",
       "      <td>3</td>\n",
       "    </tr>\n",
       "    <tr>\n",
       "      <th>3</th>\n",
       "      <td>2</td>\n",
       "      <td>Accessories|Phones|Furnishings|Paper</td>\n",
       "      <td>13</td>\n",
       "      <td>24272.831</td>\n",
       "      <td>Accessories|Phones|Furnishings|Paper__24000</td>\n",
       "      <td>4</td>\n",
       "    </tr>\n",
       "    <tr>\n",
       "      <th>4</th>\n",
       "      <td>59</td>\n",
       "      <td>Accessories</td>\n",
       "      <td>13</td>\n",
       "      <td>11010.415</td>\n",
       "      <td>Accessories__11000</td>\n",
       "      <td>5</td>\n",
       "    </tr>\n",
       "  </tbody>\n",
       "</table>\n",
       "</div>"
      ],
      "text/plain": [
       "   Cluster                       Cluster Description  \\\n",
       "0       44     Accessories|Storage|Binders|Paper|Art   \n",
       "1       17         Tables|Accessories|Phones|Storage   \n",
       "2        1  Chairs|Accessories|Storage|Paper|Binders   \n",
       "3        2      Accessories|Phones|Furnishings|Paper   \n",
       "4       59                               Accessories   \n",
       "\n",
       "   Count of Customers in Cluster  Cluster Sales  \\\n",
       "0                             16      16138.809   \n",
       "1                             14      38989.639   \n",
       "2                             14      29833.351   \n",
       "3                             13      24272.831   \n",
       "4                             13      11010.415   \n",
       "\n",
       "                                Cluster Desc Value  Group ID  \n",
       "0     Accessories|Storage|Binders|Paper|Art__16000         1  \n",
       "1         Tables|Accessories|Phones|Storage__38000         2  \n",
       "2  Chairs|Accessories|Storage|Paper|Binders__29000         3  \n",
       "3      Accessories|Phones|Furnishings|Paper__24000         4  \n",
       "4                               Accessories__11000         5  "
      ]
     },
     "execution_count": 66,
     "metadata": {},
     "output_type": "execute_result"
    }
   ],
   "source": [
    "df_cluster_desc_sales.head()"
   ]
  },
  {
   "cell_type": "code",
   "execution_count": 67,
   "metadata": {},
   "outputs": [],
   "source": [
    "mask = df_cluster_desc_sales['Cluster Description'].isna()\n",
    "df_cluster_desc_sales.loc[mask,'Group ID'] = -1"
   ]
  },
  {
   "cell_type": "code",
   "execution_count": 68,
   "metadata": {},
   "outputs": [],
   "source": [
    "df_cluster_final = df_cluster[['Cluster', 'Customer ID']]\\\n",
    ".merge(df_cluster_desc_sales,\n",
    "       how='left',\n",
    "       on='Cluster')"
   ]
  },
  {
   "cell_type": "code",
   "execution_count": 69,
   "metadata": {},
   "outputs": [],
   "source": [
    "assert df_cluster_final.shape[0] == df_cust_sales.shape[0] ,\\\n",
    "\"The number of rows for customers should be the same\""
   ]
  },
  {
   "cell_type": "code",
   "execution_count": 70,
   "metadata": {},
   "outputs": [
    {
     "data": {
      "text/html": [
       "<div>\n",
       "<style scoped>\n",
       "    .dataframe tbody tr th:only-of-type {\n",
       "        vertical-align: middle;\n",
       "    }\n",
       "\n",
       "    .dataframe tbody tr th {\n",
       "        vertical-align: top;\n",
       "    }\n",
       "\n",
       "    .dataframe thead th {\n",
       "        text-align: right;\n",
       "    }\n",
       "</style>\n",
       "<table border=\"1\" class=\"dataframe\">\n",
       "  <thead>\n",
       "    <tr style=\"text-align: right;\">\n",
       "      <th></th>\n",
       "      <th>Cluster</th>\n",
       "      <th>Customer ID</th>\n",
       "      <th>Cluster Description</th>\n",
       "      <th>Count of Customers in Cluster</th>\n",
       "      <th>Cluster Sales</th>\n",
       "      <th>Cluster Desc Value</th>\n",
       "      <th>Group ID</th>\n",
       "    </tr>\n",
       "  </thead>\n",
       "  <tbody>\n",
       "    <tr>\n",
       "      <th>0</th>\n",
       "      <td>60</td>\n",
       "      <td>AA-10315</td>\n",
       "      <td>Supplies|Binders|Appliances|Storage|Accessories</td>\n",
       "      <td>4.0</td>\n",
       "      <td>13138.3210</td>\n",
       "      <td>Supplies|Binders|Appliances|Storage|Accessorie...</td>\n",
       "      <td>99.0</td>\n",
       "    </tr>\n",
       "    <tr>\n",
       "      <th>1</th>\n",
       "      <td>2</td>\n",
       "      <td>AA-10375</td>\n",
       "      <td>Accessories|Phones|Furnishings|Paper</td>\n",
       "      <td>13.0</td>\n",
       "      <td>24272.8310</td>\n",
       "      <td>Accessories|Phones|Furnishings|Paper__24000</td>\n",
       "      <td>4.0</td>\n",
       "    </tr>\n",
       "    <tr>\n",
       "      <th>2</th>\n",
       "      <td>7</td>\n",
       "      <td>AA-10480</td>\n",
       "      <td>Phones|Tables|Storage|Accessories|Paper</td>\n",
       "      <td>10.0</td>\n",
       "      <td>26257.8980</td>\n",
       "      <td>Phones|Tables|Storage|Accessories|Paper__26000</td>\n",
       "      <td>17.0</td>\n",
       "    </tr>\n",
       "    <tr>\n",
       "      <th>3</th>\n",
       "      <td>22</td>\n",
       "      <td>AA-10645</td>\n",
       "      <td>Chairs|Bookcases|Phones|Storage|Furnishings</td>\n",
       "      <td>7.0</td>\n",
       "      <td>24793.1025</td>\n",
       "      <td>Chairs|Bookcases|Phones|Storage|Furnishings__2...</td>\n",
       "      <td>43.0</td>\n",
       "    </tr>\n",
       "    <tr>\n",
       "      <th>4</th>\n",
       "      <td>29</td>\n",
       "      <td>AB-10015</td>\n",
       "      <td>Phones|Chairs|Bookcases|Art</td>\n",
       "      <td>10.0</td>\n",
       "      <td>23205.7794</td>\n",
       "      <td>Phones|Chairs|Bookcases|Art__23000</td>\n",
       "      <td>19.0</td>\n",
       "    </tr>\n",
       "  </tbody>\n",
       "</table>\n",
       "</div>"
      ],
      "text/plain": [
       "   Cluster Customer ID                              Cluster Description  \\\n",
       "0       60    AA-10315  Supplies|Binders|Appliances|Storage|Accessories   \n",
       "1        2    AA-10375             Accessories|Phones|Furnishings|Paper   \n",
       "2        7    AA-10480          Phones|Tables|Storage|Accessories|Paper   \n",
       "3       22    AA-10645      Chairs|Bookcases|Phones|Storage|Furnishings   \n",
       "4       29    AB-10015                      Phones|Chairs|Bookcases|Art   \n",
       "\n",
       "   Count of Customers in Cluster  Cluster Sales  \\\n",
       "0                            4.0     13138.3210   \n",
       "1                           13.0     24272.8310   \n",
       "2                           10.0     26257.8980   \n",
       "3                            7.0     24793.1025   \n",
       "4                           10.0     23205.7794   \n",
       "\n",
       "                                  Cluster Desc Value  Group ID  \n",
       "0  Supplies|Binders|Appliances|Storage|Accessorie...      99.0  \n",
       "1        Accessories|Phones|Furnishings|Paper__24000       4.0  \n",
       "2     Phones|Tables|Storage|Accessories|Paper__26000      17.0  \n",
       "3  Chairs|Bookcases|Phones|Storage|Furnishings__2...      43.0  \n",
       "4                 Phones|Chairs|Bookcases|Art__23000      19.0  "
      ]
     },
     "execution_count": 70,
     "metadata": {},
     "output_type": "execute_result"
    }
   ],
   "source": [
    "df_cluster_final.head()"
   ]
  },
  {
   "cell_type": "code",
   "execution_count": 71,
   "metadata": {},
   "outputs": [],
   "source": [
    "df_data_w_cluster = df_raw.merge(df_cluster_final,\n",
    "                                how='left',\n",
    "                                on='Customer ID')"
   ]
  },
  {
   "cell_type": "code",
   "execution_count": 72,
   "metadata": {},
   "outputs": [
    {
     "data": {
      "text/plain": [
       "(9994, 27)"
      ]
     },
     "execution_count": 72,
     "metadata": {},
     "output_type": "execute_result"
    }
   ],
   "source": [
    "df_data_w_cluster.shape"
   ]
  },
  {
   "cell_type": "code",
   "execution_count": 73,
   "metadata": {},
   "outputs": [
    {
     "data": {
      "text/html": [
       "<div>\n",
       "<style scoped>\n",
       "    .dataframe tbody tr th:only-of-type {\n",
       "        vertical-align: middle;\n",
       "    }\n",
       "\n",
       "    .dataframe tbody tr th {\n",
       "        vertical-align: top;\n",
       "    }\n",
       "\n",
       "    .dataframe thead th {\n",
       "        text-align: right;\n",
       "    }\n",
       "</style>\n",
       "<table border=\"1\" class=\"dataframe\">\n",
       "  <thead>\n",
       "    <tr style=\"text-align: right;\">\n",
       "      <th></th>\n",
       "      <th>Row ID</th>\n",
       "      <th>Order ID</th>\n",
       "      <th>Order Date</th>\n",
       "      <th>Ship Date</th>\n",
       "      <th>Ship Mode</th>\n",
       "      <th>Customer ID</th>\n",
       "      <th>Customer Name</th>\n",
       "      <th>Segment</th>\n",
       "      <th>Country</th>\n",
       "      <th>City</th>\n",
       "      <th>...</th>\n",
       "      <th>Sales</th>\n",
       "      <th>Quantity</th>\n",
       "      <th>Discount</th>\n",
       "      <th>Profit</th>\n",
       "      <th>Cluster</th>\n",
       "      <th>Cluster Description</th>\n",
       "      <th>Count of Customers in Cluster</th>\n",
       "      <th>Cluster Sales</th>\n",
       "      <th>Cluster Desc Value</th>\n",
       "      <th>Group ID</th>\n",
       "    </tr>\n",
       "  </thead>\n",
       "  <tbody>\n",
       "    <tr>\n",
       "      <th>0</th>\n",
       "      <td>1</td>\n",
       "      <td>CA-2016-152156</td>\n",
       "      <td>11/8/2016</td>\n",
       "      <td>11/11/2016</td>\n",
       "      <td>Second Class</td>\n",
       "      <td>CG-12520</td>\n",
       "      <td>Claire Gute</td>\n",
       "      <td>Consumer</td>\n",
       "      <td>United States</td>\n",
       "      <td>Henderson</td>\n",
       "      <td>...</td>\n",
       "      <td>261.9600</td>\n",
       "      <td>2</td>\n",
       "      <td>0.00</td>\n",
       "      <td>41.9136</td>\n",
       "      <td>26</td>\n",
       "      <td>Chairs|Bookcases|Storage|Paper</td>\n",
       "      <td>8.0</td>\n",
       "      <td>11637.5500</td>\n",
       "      <td>Chairs|Bookcases|Storage|Paper__11000</td>\n",
       "      <td>36.0</td>\n",
       "    </tr>\n",
       "    <tr>\n",
       "      <th>1</th>\n",
       "      <td>2</td>\n",
       "      <td>CA-2016-152156</td>\n",
       "      <td>11/8/2016</td>\n",
       "      <td>11/11/2016</td>\n",
       "      <td>Second Class</td>\n",
       "      <td>CG-12520</td>\n",
       "      <td>Claire Gute</td>\n",
       "      <td>Consumer</td>\n",
       "      <td>United States</td>\n",
       "      <td>Henderson</td>\n",
       "      <td>...</td>\n",
       "      <td>731.9400</td>\n",
       "      <td>3</td>\n",
       "      <td>0.00</td>\n",
       "      <td>219.5820</td>\n",
       "      <td>26</td>\n",
       "      <td>Chairs|Bookcases|Storage|Paper</td>\n",
       "      <td>8.0</td>\n",
       "      <td>11637.5500</td>\n",
       "      <td>Chairs|Bookcases|Storage|Paper__11000</td>\n",
       "      <td>36.0</td>\n",
       "    </tr>\n",
       "    <tr>\n",
       "      <th>2</th>\n",
       "      <td>3</td>\n",
       "      <td>CA-2016-138688</td>\n",
       "      <td>6/12/2016</td>\n",
       "      <td>6/16/2016</td>\n",
       "      <td>Second Class</td>\n",
       "      <td>DV-13045</td>\n",
       "      <td>Darrin Van Huff</td>\n",
       "      <td>Corporate</td>\n",
       "      <td>United States</td>\n",
       "      <td>Los Angeles</td>\n",
       "      <td>...</td>\n",
       "      <td>14.6200</td>\n",
       "      <td>2</td>\n",
       "      <td>0.00</td>\n",
       "      <td>6.8714</td>\n",
       "      <td>40</td>\n",
       "      <td>Chairs|Tables|Phones|Art</td>\n",
       "      <td>10.0</td>\n",
       "      <td>20829.0090</td>\n",
       "      <td>Chairs|Tables|Phones|Art__20000</td>\n",
       "      <td>20.0</td>\n",
       "    </tr>\n",
       "    <tr>\n",
       "      <th>3</th>\n",
       "      <td>4</td>\n",
       "      <td>US-2015-108966</td>\n",
       "      <td>10/11/2015</td>\n",
       "      <td>10/18/2015</td>\n",
       "      <td>Standard Class</td>\n",
       "      <td>SO-20335</td>\n",
       "      <td>Sean O'Donnell</td>\n",
       "      <td>Consumer</td>\n",
       "      <td>United States</td>\n",
       "      <td>Fort Lauderdale</td>\n",
       "      <td>...</td>\n",
       "      <td>957.5775</td>\n",
       "      <td>5</td>\n",
       "      <td>0.45</td>\n",
       "      <td>-383.0310</td>\n",
       "      <td>42</td>\n",
       "      <td>Phones|Chairs|Tables|Storage|Paper</td>\n",
       "      <td>8.0</td>\n",
       "      <td>18415.9575</td>\n",
       "      <td>Phones|Chairs|Tables|Storage|Paper__18000</td>\n",
       "      <td>34.0</td>\n",
       "    </tr>\n",
       "    <tr>\n",
       "      <th>4</th>\n",
       "      <td>5</td>\n",
       "      <td>US-2015-108966</td>\n",
       "      <td>10/11/2015</td>\n",
       "      <td>10/18/2015</td>\n",
       "      <td>Standard Class</td>\n",
       "      <td>SO-20335</td>\n",
       "      <td>Sean O'Donnell</td>\n",
       "      <td>Consumer</td>\n",
       "      <td>United States</td>\n",
       "      <td>Fort Lauderdale</td>\n",
       "      <td>...</td>\n",
       "      <td>22.3680</td>\n",
       "      <td>2</td>\n",
       "      <td>0.20</td>\n",
       "      <td>2.5164</td>\n",
       "      <td>42</td>\n",
       "      <td>Phones|Chairs|Tables|Storage|Paper</td>\n",
       "      <td>8.0</td>\n",
       "      <td>18415.9575</td>\n",
       "      <td>Phones|Chairs|Tables|Storage|Paper__18000</td>\n",
       "      <td>34.0</td>\n",
       "    </tr>\n",
       "  </tbody>\n",
       "</table>\n",
       "<p>5 rows × 27 columns</p>\n",
       "</div>"
      ],
      "text/plain": [
       "   Row ID        Order ID  Order Date   Ship Date       Ship Mode Customer ID  \\\n",
       "0       1  CA-2016-152156   11/8/2016  11/11/2016    Second Class    CG-12520   \n",
       "1       2  CA-2016-152156   11/8/2016  11/11/2016    Second Class    CG-12520   \n",
       "2       3  CA-2016-138688   6/12/2016   6/16/2016    Second Class    DV-13045   \n",
       "3       4  US-2015-108966  10/11/2015  10/18/2015  Standard Class    SO-20335   \n",
       "4       5  US-2015-108966  10/11/2015  10/18/2015  Standard Class    SO-20335   \n",
       "\n",
       "     Customer Name    Segment        Country             City  ...     Sales  \\\n",
       "0      Claire Gute   Consumer  United States        Henderson  ...  261.9600   \n",
       "1      Claire Gute   Consumer  United States        Henderson  ...  731.9400   \n",
       "2  Darrin Van Huff  Corporate  United States      Los Angeles  ...   14.6200   \n",
       "3   Sean O'Donnell   Consumer  United States  Fort Lauderdale  ...  957.5775   \n",
       "4   Sean O'Donnell   Consumer  United States  Fort Lauderdale  ...   22.3680   \n",
       "\n",
       "   Quantity Discount    Profit Cluster                 Cluster Description  \\\n",
       "0         2     0.00   41.9136      26      Chairs|Bookcases|Storage|Paper   \n",
       "1         3     0.00  219.5820      26      Chairs|Bookcases|Storage|Paper   \n",
       "2         2     0.00    6.8714      40            Chairs|Tables|Phones|Art   \n",
       "3         5     0.45 -383.0310      42  Phones|Chairs|Tables|Storage|Paper   \n",
       "4         2     0.20    2.5164      42  Phones|Chairs|Tables|Storage|Paper   \n",
       "\n",
       "  Count of Customers in Cluster  Cluster Sales  \\\n",
       "0                           8.0     11637.5500   \n",
       "1                           8.0     11637.5500   \n",
       "2                          10.0     20829.0090   \n",
       "3                           8.0     18415.9575   \n",
       "4                           8.0     18415.9575   \n",
       "\n",
       "                          Cluster Desc Value  Group ID  \n",
       "0      Chairs|Bookcases|Storage|Paper__11000      36.0  \n",
       "1      Chairs|Bookcases|Storage|Paper__11000      36.0  \n",
       "2            Chairs|Tables|Phones|Art__20000      20.0  \n",
       "3  Phones|Chairs|Tables|Storage|Paper__18000      34.0  \n",
       "4  Phones|Chairs|Tables|Storage|Paper__18000      34.0  \n",
       "\n",
       "[5 rows x 27 columns]"
      ]
     },
     "execution_count": 73,
     "metadata": {},
     "output_type": "execute_result"
    }
   ],
   "source": [
    "df_data_w_cluster.head()"
   ]
  },
  {
   "cell_type": "code",
   "execution_count": null,
   "metadata": {},
   "outputs": [],
   "source": []
  }
 ],
 "metadata": {
  "colab": {
   "provenance": []
  },
  "kernelspec": {
   "display_name": "Python [conda env:pytorch_env]",
   "language": "python",
   "name": "conda-env-pytorch_env-py"
  },
  "language_info": {
   "codemirror_mode": {
    "name": "ipython",
    "version": 3
   },
   "file_extension": ".py",
   "mimetype": "text/x-python",
   "name": "python",
   "nbconvert_exporter": "python",
   "pygments_lexer": "ipython3",
   "version": "3.10.4"
  },
  "toc": {
   "base_numbering": 1,
   "nav_menu": {},
   "number_sections": true,
   "sideBar": true,
   "skip_h1_title": false,
   "title_cell": "Table of Contents",
   "title_sidebar": "Contents",
   "toc_cell": false,
   "toc_position": {},
   "toc_section_display": true,
   "toc_window_display": false
  }
 },
 "nbformat": 4,
 "nbformat_minor": 1
}
