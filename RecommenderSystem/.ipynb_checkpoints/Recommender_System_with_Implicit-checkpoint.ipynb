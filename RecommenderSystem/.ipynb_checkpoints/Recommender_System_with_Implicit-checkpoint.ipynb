{
 "cells": [
  {
   "cell_type": "markdown",
   "metadata": {
    "id": "T6JxD38WapDU"
   },
   "source": [
    "Install the necessary libraries "
   ]
  },
  {
   "cell_type": "code",
   "execution_count": 1,
   "metadata": {
    "colab": {
     "base_uri": "https://localhost:8080/"
    },
    "id": "7aG8WST2b7zF",
    "outputId": "2bbdd1d4-8635-4ce4-fe96-4d3bc4d3bb5c"
   },
   "outputs": [
    {
     "name": "stdout",
     "output_type": "stream",
     "text": [
      "Requirement already satisfied: implicit in c:\\users\\wengz\\anaconda3\\envs\\pytorch_env\\lib\\site-packages (0.6.1)\n",
      "Requirement already satisfied: tqdm>=4.27 in c:\\users\\wengz\\anaconda3\\envs\\pytorch_env\\lib\\site-packages (from implicit) (4.64.1)\n",
      "Requirement already satisfied: scipy>=0.16 in c:\\users\\wengz\\anaconda3\\envs\\pytorch_env\\lib\\site-packages (from implicit) (1.9.1)\n",
      "Requirement already satisfied: numpy in c:\\users\\wengz\\anaconda3\\envs\\pytorch_env\\lib\\site-packages (from implicit) (1.23.2)\n",
      "Requirement already satisfied: colorama in c:\\users\\wengz\\anaconda3\\envs\\pytorch_env\\lib\\site-packages (from tqdm>=4.27->implicit) (0.4.5)\n"
     ]
    }
   ],
   "source": [
    "#!pip install implicit"
   ]
  },
  {
   "cell_type": "code",
   "execution_count": 4,
   "metadata": {
    "id": "A5sWS2S6afV_"
   },
   "outputs": [],
   "source": [
    "import pandas as pd \n",
    "import numpy as np \n",
    "import implicit\n",
    "import scipy.sparse as sparse"
   ]
  },
  {
   "cell_type": "code",
   "execution_count": 7,
   "metadata": {
    "id": "CoraciRlaodE"
   },
   "outputs": [],
   "source": [
    "#Read in dataset\n",
    "df_raw = pd.read_excel(\"./data/Online Retail.xlsx\")"
   ]
  },
  {
   "cell_type": "code",
   "execution_count": 8,
   "metadata": {
    "colab": {
     "base_uri": "https://localhost:8080/"
    },
    "id": "Blrdnp4CAL7q",
    "outputId": "670ecd1e-34e7-46fa-8e0a-7f5b1717c6d1"
   },
   "outputs": [
    {
     "name": "stdout",
     "output_type": "stream",
     "text": [
      "<class 'pandas.core.frame.DataFrame'>\n",
      "RangeIndex: 541909 entries, 0 to 541908\n",
      "Data columns (total 8 columns):\n",
      " #   Column       Non-Null Count   Dtype         \n",
      "---  ------       --------------   -----         \n",
      " 0   InvoiceNo    541909 non-null  object        \n",
      " 1   StockCode    541909 non-null  object        \n",
      " 2   Description  540455 non-null  object        \n",
      " 3   Quantity     541909 non-null  int64         \n",
      " 4   InvoiceDate  541909 non-null  datetime64[ns]\n",
      " 5   UnitPrice    541909 non-null  float64       \n",
      " 6   CustomerID   406829 non-null  float64       \n",
      " 7   Country      541909 non-null  object        \n",
      "dtypes: datetime64[ns](1), float64(2), int64(1), object(4)\n",
      "memory usage: 33.1+ MB\n"
     ]
    }
   ],
   "source": [
    "df_raw.info()"
   ]
  },
  {
   "cell_type": "code",
   "execution_count": 9,
   "metadata": {
    "id": "ske4ExspeQIY"
   },
   "outputs": [],
   "source": [
    "#Dropping records with no CustomerID\n",
    "df_raw.dropna(subset=['CustomerID'],\n",
    "                      inplace=True)"
   ]
  },
  {
   "cell_type": "code",
   "execution_count": 10,
   "metadata": {
    "id": "HQaPVj_jk3MU"
   },
   "outputs": [],
   "source": [
    "df_raw['CustomerID'] = df_raw['CustomerID'].astype('int64')\n",
    "df_raw['StockCode'] = df_raw['StockCode'].astype('str')"
   ]
  },
  {
   "cell_type": "code",
   "execution_count": 11,
   "metadata": {
    "id": "O72FzRM1lYJp"
   },
   "outputs": [],
   "source": [
    "df_raw['Sales'] = df_raw['Quantity'] * df_raw['UnitPrice']"
   ]
  },
  {
   "cell_type": "code",
   "execution_count": 12,
   "metadata": {
    "colab": {
     "base_uri": "https://localhost:8080/"
    },
    "id": "3HU39F0Edmli",
    "outputId": "69f98748-2f29-4d39-ee48-8969724af4f2"
   },
   "outputs": [
    {
     "name": "stdout",
     "output_type": "stream",
     "text": [
      "<class 'pandas.core.frame.DataFrame'>\n",
      "Int64Index: 406829 entries, 0 to 541908\n",
      "Data columns (total 9 columns):\n",
      " #   Column       Non-Null Count   Dtype         \n",
      "---  ------       --------------   -----         \n",
      " 0   InvoiceNo    406829 non-null  object        \n",
      " 1   StockCode    406829 non-null  object        \n",
      " 2   Description  406829 non-null  object        \n",
      " 3   Quantity     406829 non-null  int64         \n",
      " 4   InvoiceDate  406829 non-null  datetime64[ns]\n",
      " 5   UnitPrice    406829 non-null  float64       \n",
      " 6   CustomerID   406829 non-null  int64         \n",
      " 7   Country      406829 non-null  object        \n",
      " 8   Sales        406829 non-null  float64       \n",
      "dtypes: datetime64[ns](1), float64(2), int64(2), object(4)\n",
      "memory usage: 31.0+ MB\n"
     ]
    }
   ],
   "source": [
    "df_raw.info()"
   ]
  },
  {
   "cell_type": "markdown",
   "metadata": {
    "id": "7Jj33HpYEoXf"
   },
   "source": [
    "## Filter out records on for Customers who bought more than n items"
   ]
  },
  {
   "cell_type": "code",
   "execution_count": 13,
   "metadata": {
    "id": "nCHpUysXuOgu"
   },
   "outputs": [],
   "source": [
    "df_items_per_cust = df_raw.groupby(['CustomerID'])\\\n",
    ".agg({'StockCode': 'nunique'}).reset_index()"
   ]
  },
  {
   "cell_type": "code",
   "execution_count": 14,
   "metadata": {
    "id": "YXo-JhGHBCr-"
   },
   "outputs": [],
   "source": [
    "df_items_per_cust.columns = ['CustomerID', 'Count_item_cust']"
   ]
  },
  {
   "cell_type": "code",
   "execution_count": 15,
   "metadata": {
    "id": "K9dfIyP_BNKk"
   },
   "outputs": [],
   "source": [
    "#Setting of THreshold\n",
    "item_in_cust_threshold = 6"
   ]
  },
  {
   "cell_type": "code",
   "execution_count": 16,
   "metadata": {
    "id": "aBRWlTbnyMed"
   },
   "outputs": [],
   "source": [
    "#Filtering Results\n",
    "mask = df_items_per_cust['Count_item_cust'] >= item_in_cust_threshold\n",
    "valid_cust= set(df_items_per_cust.loc[mask, 'CustomerID'].tolist())"
   ]
  },
  {
   "cell_type": "code",
   "execution_count": 17,
   "metadata": {
    "id": "sJ31w-XbD2oE"
   },
   "outputs": [],
   "source": [
    "df_filter_cust = df_raw[df_raw['CustomerID'].isin(valid_cust)].copy()"
   ]
  },
  {
   "cell_type": "code",
   "execution_count": 18,
   "metadata": {
    "id": "bXYZesQeyRA0"
   },
   "outputs": [],
   "source": [
    "invoiceno_filter_cust = set(df_filter_cust['InvoiceNo'].tolist())"
   ]
  },
  {
   "cell_type": "markdown",
   "metadata": {
    "id": "D57DRfzVE87W"
   },
   "source": [
    "## Filter out items only for those that are bought by multiple customers"
   ]
  },
  {
   "cell_type": "code",
   "execution_count": 19,
   "metadata": {
    "id": "58wD_YMtFGsn"
   },
   "outputs": [],
   "source": [
    "df_custs_per_item = df_raw.groupby(['StockCode'])\\\n",
    ".agg({'CustomerID': 'nunique'}).reset_index()"
   ]
  },
  {
   "cell_type": "code",
   "execution_count": 20,
   "metadata": {
    "id": "84bDeuyAFGyn"
   },
   "outputs": [],
   "source": [
    "df_custs_per_item.columns = ['StockCode', 'Count_cust_item']"
   ]
  },
  {
   "cell_type": "code",
   "execution_count": 21,
   "metadata": {
    "colab": {
     "base_uri": "https://localhost:8080/"
    },
    "id": "sjp8dddPFgYH",
    "outputId": "f56731b1-cf4b-43a6-980a-237122efe50c"
   },
   "outputs": [
    {
     "data": {
      "text/plain": [
       "1      189\n",
       "2      145\n",
       "3      116\n",
       "6       83\n",
       "5       81\n",
       "      ... \n",
       "407      1\n",
       "274      1\n",
       "319      1\n",
       "256      1\n",
       "379      1\n",
       "Name: Count_cust_item, Length: 379, dtype: int64"
      ]
     },
     "execution_count": 21,
     "metadata": {},
     "output_type": "execute_result"
    }
   ],
   "source": [
    "df_custs_per_item['Count_cust_item'].value_counts()"
   ]
  },
  {
   "cell_type": "code",
   "execution_count": 22,
   "metadata": {
    "id": "Q3fs2BmOFggP"
   },
   "outputs": [],
   "source": [
    "# Set threshold \n",
    "cust_in_item_threshold = 6"
   ]
  },
  {
   "cell_type": "code",
   "execution_count": 23,
   "metadata": {
    "id": "ce2t_9s1ymOD"
   },
   "outputs": [],
   "source": [
    "mask = df_custs_per_item['Count_cust_item'] >= cust_in_item_threshold\n",
    "valid_stockcode = set(df_custs_per_item.loc[mask, 'StockCode'].tolist())"
   ]
  },
  {
   "cell_type": "code",
   "execution_count": 24,
   "metadata": {
    "id": "0WPfiiU_GOCQ"
   },
   "outputs": [],
   "source": [
    "df_filter_item = df_raw[df_raw['StockCode'].isin(valid_stockcode)].copy()"
   ]
  },
  {
   "cell_type": "code",
   "execution_count": 25,
   "metadata": {
    "id": "K71Gid3Ay_nA"
   },
   "outputs": [],
   "source": [
    "invoiceno_filter_item = set(df_filter_item['InvoiceNo'].tolist())"
   ]
  },
  {
   "cell_type": "code",
   "execution_count": 26,
   "metadata": {
    "id": "Rzf9wIZgzPTM"
   },
   "outputs": [],
   "source": [
    "invoiceno_intersect = set.intersection(invoiceno_filter_item,invoiceno_filter_cust)"
   ]
  },
  {
   "cell_type": "code",
   "execution_count": 27,
   "metadata": {
    "colab": {
     "base_uri": "https://localhost:8080/"
    },
    "id": "4e6vVFGKGOJn",
    "outputId": "e7613c3a-1766-43a6-9512-a14d01ec916d"
   },
   "outputs": [
    {
     "name": "stdout",
     "output_type": "stream",
     "text": [
      "No. of invoice after filtering customer: 21604\n",
      "No. of invoice after filtering item: 22136\n",
      "No. of invoice from intersect: 21557\n"
     ]
    }
   ],
   "source": [
    "print(f\"No. of invoice after filtering customer: {len(invoiceno_filter_cust)}\")\n",
    "print(f\"No. of invoice after filtering item: {len(invoiceno_filter_item)}\")\n",
    "print(f\"No. of invoice from intersect: {len(invoiceno_intersect)}\")"
   ]
  },
  {
   "cell_type": "code",
   "execution_count": 28,
   "metadata": {
    "id": "zooqgQiPGOMR"
   },
   "outputs": [],
   "source": [
    "df_filter_cust_item = df_raw[df_raw['InvoiceNo'].isin(invoiceno_intersect)].copy()"
   ]
  },
  {
   "cell_type": "code",
   "execution_count": 29,
   "metadata": {
    "colab": {
     "base_uri": "https://localhost:8080/"
    },
    "id": "w8fncnQd0pdx",
    "outputId": "f24099b6-b32c-4035-d393-a7726b924949"
   },
   "outputs": [
    {
     "name": "stdout",
     "output_type": "stream",
     "text": [
      "<class 'pandas.core.frame.DataFrame'>\n",
      "Int64Index: 405521 entries, 0 to 541908\n",
      "Data columns (total 9 columns):\n",
      " #   Column       Non-Null Count   Dtype         \n",
      "---  ------       --------------   -----         \n",
      " 0   InvoiceNo    405521 non-null  object        \n",
      " 1   StockCode    405521 non-null  object        \n",
      " 2   Description  405521 non-null  object        \n",
      " 3   Quantity     405521 non-null  int64         \n",
      " 4   InvoiceDate  405521 non-null  datetime64[ns]\n",
      " 5   UnitPrice    405521 non-null  float64       \n",
      " 6   CustomerID   405521 non-null  int64         \n",
      " 7   Country      405521 non-null  object        \n",
      " 8   Sales        405521 non-null  float64       \n",
      "dtypes: datetime64[ns](1), float64(2), int64(2), object(4)\n",
      "memory usage: 30.9+ MB\n"
     ]
    }
   ],
   "source": [
    "df_filter_cust_item.info()"
   ]
  },
  {
   "cell_type": "markdown",
   "metadata": {
    "id": "TUtZKQFPbpQK"
   },
   "source": [
    "## Apply Collaborative Filtering with Implicit LIbrary"
   ]
  },
  {
   "cell_type": "code",
   "execution_count": 30,
   "metadata": {
    "id": "kmuSG55pb6t7"
   },
   "outputs": [],
   "source": [
    "unique_customers = df_filter_cust_item['CustomerID'].unique()\n",
    "cust_ids = dict(zip(unique_customers, np.arange(unique_customers.shape[0], dtype=np.int32)))\n",
    "\n",
    "unique_items = df_filter_cust_item['StockCode'].unique()\n",
    "item_ids = dict(zip(unique_items, np.arange(unique_items.shape[0], dtype=np.int32)))\n",
    "\n",
    "df_filter_cust_item['cust_id'] = df_filter_cust_item['CustomerID'].apply(lambda i : cust_ids[i])\n",
    "df_filter_cust_item['item_id'] = df_filter_cust_item['StockCode'].apply(lambda i : item_ids[i])"
   ]
  },
  {
   "cell_type": "code",
   "execution_count": 31,
   "metadata": {
    "colab": {
     "base_uri": "https://localhost:8080/"
    },
    "id": "NytFLFqkdgTi",
    "outputId": "c239fcdb-60b9-4b9a-9f24-be9ccd2126f6"
   },
   "outputs": [
    {
     "name": "stdout",
     "output_type": "stream",
     "text": [
      "4017, 3671\n"
     ]
    }
   ],
   "source": [
    "print(f\"{len(cust_ids)}, {len(item_ids)}\")"
   ]
  },
  {
   "cell_type": "code",
   "execution_count": 32,
   "metadata": {
    "colab": {
     "base_uri": "https://localhost:8080/",
     "height": 407
    },
    "id": "olA-y-xLkjuV",
    "outputId": "86b9d04e-1b4e-4451-9036-7539629ebeaf"
   },
   "outputs": [
    {
     "data": {
      "text/html": [
       "<div>\n",
       "<style scoped>\n",
       "    .dataframe tbody tr th:only-of-type {\n",
       "        vertical-align: middle;\n",
       "    }\n",
       "\n",
       "    .dataframe tbody tr th {\n",
       "        vertical-align: top;\n",
       "    }\n",
       "\n",
       "    .dataframe thead th {\n",
       "        text-align: right;\n",
       "    }\n",
       "</style>\n",
       "<table border=\"1\" class=\"dataframe\">\n",
       "  <thead>\n",
       "    <tr style=\"text-align: right;\">\n",
       "      <th></th>\n",
       "      <th>InvoiceNo</th>\n",
       "      <th>StockCode</th>\n",
       "      <th>Description</th>\n",
       "      <th>Quantity</th>\n",
       "      <th>InvoiceDate</th>\n",
       "      <th>UnitPrice</th>\n",
       "      <th>CustomerID</th>\n",
       "      <th>Country</th>\n",
       "      <th>Sales</th>\n",
       "      <th>cust_id</th>\n",
       "      <th>item_id</th>\n",
       "    </tr>\n",
       "  </thead>\n",
       "  <tbody>\n",
       "    <tr>\n",
       "      <th>143930</th>\n",
       "      <td>548714</td>\n",
       "      <td>10002</td>\n",
       "      <td>INFLATABLE POLITICAL GLOBE</td>\n",
       "      <td>2</td>\n",
       "      <td>2011-04-03 15:07:00</td>\n",
       "      <td>0.85</td>\n",
       "      <td>17337</td>\n",
       "      <td>United Kingdom</td>\n",
       "      <td>1.70</td>\n",
       "      <td>1329</td>\n",
       "      <td>31</td>\n",
       "    </tr>\n",
       "    <tr>\n",
       "      <th>160128</th>\n",
       "      <td>550452</td>\n",
       "      <td>10002</td>\n",
       "      <td>INFLATABLE POLITICAL GLOBE</td>\n",
       "      <td>1</td>\n",
       "      <td>2011-04-18 12:56:00</td>\n",
       "      <td>0.85</td>\n",
       "      <td>14525</td>\n",
       "      <td>United Kingdom</td>\n",
       "      <td>0.85</td>\n",
       "      <td>679</td>\n",
       "      <td>31</td>\n",
       "    </tr>\n",
       "    <tr>\n",
       "      <th>5466</th>\n",
       "      <td>536863</td>\n",
       "      <td>10002</td>\n",
       "      <td>INFLATABLE POLITICAL GLOBE</td>\n",
       "      <td>1</td>\n",
       "      <td>2010-12-03 11:19:00</td>\n",
       "      <td>0.85</td>\n",
       "      <td>17967</td>\n",
       "      <td>United Kingdom</td>\n",
       "      <td>0.85</td>\n",
       "      <td>202</td>\n",
       "      <td>31</td>\n",
       "    </tr>\n",
       "    <tr>\n",
       "      <th>75792</th>\n",
       "      <td>542610</td>\n",
       "      <td>10002</td>\n",
       "      <td>INFLATABLE POLITICAL GLOBE</td>\n",
       "      <td>14</td>\n",
       "      <td>2011-01-30 14:05:00</td>\n",
       "      <td>0.85</td>\n",
       "      <td>13148</td>\n",
       "      <td>United Kingdom</td>\n",
       "      <td>11.90</td>\n",
       "      <td>602</td>\n",
       "      <td>31</td>\n",
       "    </tr>\n",
       "    <tr>\n",
       "      <th>20617</th>\n",
       "      <td>538069</td>\n",
       "      <td>10002</td>\n",
       "      <td>INFLATABLE POLITICAL GLOBE</td>\n",
       "      <td>8</td>\n",
       "      <td>2010-12-09 14:08:00</td>\n",
       "      <td>0.85</td>\n",
       "      <td>16795</td>\n",
       "      <td>United Kingdom</td>\n",
       "      <td>6.80</td>\n",
       "      <td>544</td>\n",
       "      <td>31</td>\n",
       "    </tr>\n",
       "    <tr>\n",
       "      <th>21507</th>\n",
       "      <td>538086</td>\n",
       "      <td>10002</td>\n",
       "      <td>INFLATABLE POLITICAL GLOBE</td>\n",
       "      <td>10</td>\n",
       "      <td>2010-12-09 14:44:00</td>\n",
       "      <td>0.85</td>\n",
       "      <td>12872</td>\n",
       "      <td>United Kingdom</td>\n",
       "      <td>8.50</td>\n",
       "      <td>553</td>\n",
       "      <td>31</td>\n",
       "    </tr>\n",
       "    <tr>\n",
       "      <th>21551</th>\n",
       "      <td>538093</td>\n",
       "      <td>10002</td>\n",
       "      <td>INFLATABLE POLITICAL GLOBE</td>\n",
       "      <td>12</td>\n",
       "      <td>2010-12-09 14:49:00</td>\n",
       "      <td>0.85</td>\n",
       "      <td>12682</td>\n",
       "      <td>France</td>\n",
       "      <td>10.20</td>\n",
       "      <td>217</td>\n",
       "      <td>31</td>\n",
       "    </tr>\n",
       "    <tr>\n",
       "      <th>77513</th>\n",
       "      <td>542735</td>\n",
       "      <td>10002</td>\n",
       "      <td>INFLATABLE POLITICAL GLOBE</td>\n",
       "      <td>12</td>\n",
       "      <td>2011-01-31 15:36:00</td>\n",
       "      <td>0.85</td>\n",
       "      <td>12681</td>\n",
       "      <td>France</td>\n",
       "      <td>10.20</td>\n",
       "      <td>380</td>\n",
       "      <td>31</td>\n",
       "    </tr>\n",
       "    <tr>\n",
       "      <th>22380</th>\n",
       "      <td>538167</td>\n",
       "      <td>10002</td>\n",
       "      <td>INFLATABLE POLITICAL GLOBE</td>\n",
       "      <td>12</td>\n",
       "      <td>2010-12-09 18:58:00</td>\n",
       "      <td>0.85</td>\n",
       "      <td>14713</td>\n",
       "      <td>United Kingdom</td>\n",
       "      <td>10.20</td>\n",
       "      <td>575</td>\n",
       "      <td>31</td>\n",
       "    </tr>\n",
       "    <tr>\n",
       "      <th>23275</th>\n",
       "      <td>538196</td>\n",
       "      <td>10002</td>\n",
       "      <td>INFLATABLE POLITICAL GLOBE</td>\n",
       "      <td>36</td>\n",
       "      <td>2010-12-10 10:56:00</td>\n",
       "      <td>0.85</td>\n",
       "      <td>12731</td>\n",
       "      <td>France</td>\n",
       "      <td>30.60</td>\n",
       "      <td>588</td>\n",
       "      <td>31</td>\n",
       "    </tr>\n",
       "  </tbody>\n",
       "</table>\n",
       "</div>"
      ],
      "text/plain": [
       "       InvoiceNo StockCode                  Description  Quantity  \\\n",
       "143930    548714     10002  INFLATABLE POLITICAL GLOBE          2   \n",
       "160128    550452     10002  INFLATABLE POLITICAL GLOBE          1   \n",
       "5466      536863     10002  INFLATABLE POLITICAL GLOBE          1   \n",
       "75792     542610     10002  INFLATABLE POLITICAL GLOBE         14   \n",
       "20617     538069     10002  INFLATABLE POLITICAL GLOBE          8   \n",
       "21507     538086     10002  INFLATABLE POLITICAL GLOBE         10   \n",
       "21551     538093     10002  INFLATABLE POLITICAL GLOBE         12   \n",
       "77513     542735     10002  INFLATABLE POLITICAL GLOBE         12   \n",
       "22380     538167     10002  INFLATABLE POLITICAL GLOBE         12   \n",
       "23275     538196     10002  INFLATABLE POLITICAL GLOBE         36   \n",
       "\n",
       "               InvoiceDate  UnitPrice  CustomerID         Country  Sales  \\\n",
       "143930 2011-04-03 15:07:00       0.85       17337  United Kingdom   1.70   \n",
       "160128 2011-04-18 12:56:00       0.85       14525  United Kingdom   0.85   \n",
       "5466   2010-12-03 11:19:00       0.85       17967  United Kingdom   0.85   \n",
       "75792  2011-01-30 14:05:00       0.85       13148  United Kingdom  11.90   \n",
       "20617  2010-12-09 14:08:00       0.85       16795  United Kingdom   6.80   \n",
       "21507  2010-12-09 14:44:00       0.85       12872  United Kingdom   8.50   \n",
       "21551  2010-12-09 14:49:00       0.85       12682          France  10.20   \n",
       "77513  2011-01-31 15:36:00       0.85       12681          France  10.20   \n",
       "22380  2010-12-09 18:58:00       0.85       14713  United Kingdom  10.20   \n",
       "23275  2010-12-10 10:56:00       0.85       12731          France  30.60   \n",
       "\n",
       "        cust_id  item_id  \n",
       "143930     1329       31  \n",
       "160128      679       31  \n",
       "5466        202       31  \n",
       "75792       602       31  \n",
       "20617       544       31  \n",
       "21507       553       31  \n",
       "21551       217       31  \n",
       "77513       380       31  \n",
       "22380       575       31  \n",
       "23275       588       31  "
      ]
     },
     "execution_count": 32,
     "metadata": {},
     "output_type": "execute_result"
    }
   ],
   "source": [
    "df_filter_cust_item.sort_values(by=['StockCode'], inplace=True)\n",
    "df_filter_cust_item.head(10)"
   ]
  },
  {
   "cell_type": "code",
   "execution_count": 33,
   "metadata": {
    "id": "hwbUihCgx48O"
   },
   "outputs": [],
   "source": [
    "df_cust_item_qty = df_filter_cust_item.groupby(['cust_id','item_id'])\\\n",
    ".agg({'Quantity':'sum'}).reset_index()"
   ]
  },
  {
   "cell_type": "code",
   "execution_count": 34,
   "metadata": {
    "colab": {
     "base_uri": "https://localhost:8080/",
     "height": 206
    },
    "id": "XGABaNXNyOTj",
    "outputId": "aa334be7-3e8c-420c-8ee8-eb0269dfc8ea"
   },
   "outputs": [
    {
     "data": {
      "text/html": [
       "<div>\n",
       "<style scoped>\n",
       "    .dataframe tbody tr th:only-of-type {\n",
       "        vertical-align: middle;\n",
       "    }\n",
       "\n",
       "    .dataframe tbody tr th {\n",
       "        vertical-align: top;\n",
       "    }\n",
       "\n",
       "    .dataframe thead th {\n",
       "        text-align: right;\n",
       "    }\n",
       "</style>\n",
       "<table border=\"1\" class=\"dataframe\">\n",
       "  <thead>\n",
       "    <tr style=\"text-align: right;\">\n",
       "      <th></th>\n",
       "      <th>cust_id</th>\n",
       "      <th>item_id</th>\n",
       "      <th>Quantity</th>\n",
       "    </tr>\n",
       "  </thead>\n",
       "  <tbody>\n",
       "    <tr>\n",
       "      <th>0</th>\n",
       "      <td>0</td>\n",
       "      <td>0</td>\n",
       "      <td>122</td>\n",
       "    </tr>\n",
       "    <tr>\n",
       "      <th>1</th>\n",
       "      <td>0</td>\n",
       "      <td>1</td>\n",
       "      <td>122</td>\n",
       "    </tr>\n",
       "    <tr>\n",
       "      <th>2</th>\n",
       "      <td>0</td>\n",
       "      <td>2</td>\n",
       "      <td>108</td>\n",
       "    </tr>\n",
       "    <tr>\n",
       "      <th>3</th>\n",
       "      <td>0</td>\n",
       "      <td>3</td>\n",
       "      <td>110</td>\n",
       "    </tr>\n",
       "    <tr>\n",
       "      <th>4</th>\n",
       "      <td>0</td>\n",
       "      <td>4</td>\n",
       "      <td>104</td>\n",
       "    </tr>\n",
       "  </tbody>\n",
       "</table>\n",
       "</div>"
      ],
      "text/plain": [
       "   cust_id  item_id  Quantity\n",
       "0        0        0       122\n",
       "1        0        1       122\n",
       "2        0        2       108\n",
       "3        0        3       110\n",
       "4        0        4       104"
      ]
     },
     "execution_count": 34,
     "metadata": {},
     "output_type": "execute_result"
    }
   ],
   "source": [
    "df_cust_item_qty.head()"
   ]
  },
  {
   "cell_type": "code",
   "execution_count": 35,
   "metadata": {
    "id": "73ZvqkhfuY6k"
   },
   "outputs": [],
   "source": [
    "#Create Sparse Matrix\n",
    "\n",
    "sparse_customer_item = \\\n",
    "sparse.csr_matrix((df_cust_item_qty['Quantity'].astype(float), (df_cust_item_qty['cust_id'],df_cust_item_qty['item_id'])))"
   ]
  },
  {
   "cell_type": "code",
   "execution_count": 36,
   "metadata": {
    "colab": {
     "base_uri": "https://localhost:8080/"
    },
    "id": "AkoztbIZti-l",
    "outputId": "9422ed0c-efba-4708-b065-1fb6b18775eb"
   },
   "outputs": [
    {
     "data": {
      "text/plain": [
       "<4017x3671 sparse matrix of type '<class 'numpy.float64'>'\n",
       "\twith 266596 stored elements in Compressed Sparse Row format>"
      ]
     },
     "execution_count": 36,
     "metadata": {},
     "output_type": "execute_result"
    }
   ],
   "source": [
    "sparse_customer_item"
   ]
  },
  {
   "cell_type": "code",
   "execution_count": 37,
   "metadata": {
    "id": "rcVYG4m4t7C5"
   },
   "outputs": [],
   "source": [
    "model = implicit.als.AlternatingLeastSquares(num_threads=1)"
   ]
  },
  {
   "cell_type": "code",
   "execution_count": 38,
   "metadata": {
    "colab": {
     "base_uri": "https://localhost:8080/",
     "height": 49,
     "referenced_widgets": [
      "ffae296d0f6c4a59aaca434d98cbeff8",
      "3d638fe0c8944f5bbcc766e33ccc4388",
      "3bd0d1caddc74e9a9253c0d4d15b1ff9",
      "f7fe802bfecd491abe7c0899b8761054",
      "40ff878a2af2433ca0067a3da3297b43",
      "1671afa07ae44da79f10c65c37e744b0",
      "e348de68a4394dbc8e93d9cb5d72fc91",
      "a4859e1fa80641b9bc0f5d033c9cb923",
      "c315e4e5ecb24bb7b9ed34803d40ac56",
      "620ca54a977c4fe7a88a906dac07d351",
      "9895dec0b664479c8c2006331fb0dacd"
     ]
    },
    "id": "pGKc2RRtyoZG",
    "outputId": "d10d1c0e-86bb-4408-8bc9-0df27a88b7cd"
   },
   "outputs": [
    {
     "data": {
      "application/vnd.jupyter.widget-view+json": {
       "model_id": "ee1024b1820d4e4cb2c03c7fcecacc8b",
       "version_major": 2,
       "version_minor": 0
      },
      "text/plain": [
       "  0%|          | 0/15 [00:00<?, ?it/s]"
      ]
     },
     "metadata": {},
     "output_type": "display_data"
    }
   ],
   "source": [
    "model.fit(sparse_customer_item)"
   ]
  },
  {
   "cell_type": "markdown",
   "metadata": {
    "id": "zoFU7x27zPJO"
   },
   "source": [
    "## Generate Similar Items"
   ]
  },
  {
   "cell_type": "code",
   "execution_count": 39,
   "metadata": {
    "id": "JM8UohoozDru"
   },
   "outputs": [],
   "source": [
    "ref_item_id = df_filter_cust_item['item_id'].unique()"
   ]
  },
  {
   "cell_type": "code",
   "execution_count": 40,
   "metadata": {
    "id": "9xUVMYHdzdmQ"
   },
   "outputs": [],
   "source": [
    "item_arr, score_arr = model.similar_items(ref_item_id, N=10)"
   ]
  },
  {
   "cell_type": "code",
   "execution_count": 41,
   "metadata": {
    "id": "_Enh6DRrzedQ"
   },
   "outputs": [],
   "source": [
    "df_item_temp = pd.DataFrame(item_arr)"
   ]
  },
  {
   "cell_type": "code",
   "execution_count": 42,
   "metadata": {
    "id": "QcQ5Ddm00G1u"
   },
   "outputs": [],
   "source": [
    "df_item_temp['Ref Item ID'] = ref_item_id"
   ]
  },
  {
   "cell_type": "code",
   "execution_count": 43,
   "metadata": {
    "colab": {
     "base_uri": "https://localhost:8080/",
     "height": 206
    },
    "id": "3Wu9eIN0012i",
    "outputId": "ddb8fcac-d1be-4599-8822-cd5403e30a23"
   },
   "outputs": [
    {
     "data": {
      "text/html": [
       "<div>\n",
       "<style scoped>\n",
       "    .dataframe tbody tr th:only-of-type {\n",
       "        vertical-align: middle;\n",
       "    }\n",
       "\n",
       "    .dataframe tbody tr th {\n",
       "        vertical-align: top;\n",
       "    }\n",
       "\n",
       "    .dataframe thead th {\n",
       "        text-align: right;\n",
       "    }\n",
       "</style>\n",
       "<table border=\"1\" class=\"dataframe\">\n",
       "  <thead>\n",
       "    <tr style=\"text-align: right;\">\n",
       "      <th></th>\n",
       "      <th>0</th>\n",
       "      <th>1</th>\n",
       "      <th>2</th>\n",
       "      <th>3</th>\n",
       "      <th>4</th>\n",
       "      <th>5</th>\n",
       "      <th>6</th>\n",
       "      <th>7</th>\n",
       "      <th>8</th>\n",
       "      <th>9</th>\n",
       "      <th>Ref Item ID</th>\n",
       "    </tr>\n",
       "  </thead>\n",
       "  <tbody>\n",
       "    <tr>\n",
       "      <th>0</th>\n",
       "      <td>31</td>\n",
       "      <td>250</td>\n",
       "      <td>3188</td>\n",
       "      <td>2915</td>\n",
       "      <td>2056</td>\n",
       "      <td>3517</td>\n",
       "      <td>3030</td>\n",
       "      <td>2101</td>\n",
       "      <td>2678</td>\n",
       "      <td>2479</td>\n",
       "      <td>31</td>\n",
       "    </tr>\n",
       "    <tr>\n",
       "      <th>1</th>\n",
       "      <td>2761</td>\n",
       "      <td>1584</td>\n",
       "      <td>220</td>\n",
       "      <td>3241</td>\n",
       "      <td>155</td>\n",
       "      <td>744</td>\n",
       "      <td>106</td>\n",
       "      <td>328</td>\n",
       "      <td>2296</td>\n",
       "      <td>350</td>\n",
       "      <td>2761</td>\n",
       "    </tr>\n",
       "    <tr>\n",
       "      <th>2</th>\n",
       "      <td>1334</td>\n",
       "      <td>2814</td>\n",
       "      <td>2474</td>\n",
       "      <td>2105</td>\n",
       "      <td>1890</td>\n",
       "      <td>1085</td>\n",
       "      <td>2033</td>\n",
       "      <td>2876</td>\n",
       "      <td>3382</td>\n",
       "      <td>2056</td>\n",
       "      <td>1334</td>\n",
       "    </tr>\n",
       "    <tr>\n",
       "      <th>3</th>\n",
       "      <td>1333</td>\n",
       "      <td>1421</td>\n",
       "      <td>2475</td>\n",
       "      <td>1418</td>\n",
       "      <td>2733</td>\n",
       "      <td>2736</td>\n",
       "      <td>1896</td>\n",
       "      <td>3113</td>\n",
       "      <td>3496</td>\n",
       "      <td>3501</td>\n",
       "      <td>1333</td>\n",
       "    </tr>\n",
       "    <tr>\n",
       "      <th>4</th>\n",
       "      <td>1790</td>\n",
       "      <td>1125</td>\n",
       "      <td>856</td>\n",
       "      <td>749</td>\n",
       "      <td>443</td>\n",
       "      <td>1157</td>\n",
       "      <td>1062</td>\n",
       "      <td>347</td>\n",
       "      <td>316</td>\n",
       "      <td>3233</td>\n",
       "      <td>1790</td>\n",
       "    </tr>\n",
       "  </tbody>\n",
       "</table>\n",
       "</div>"
      ],
      "text/plain": [
       "      0     1     2     3     4     5     6     7     8     9  Ref Item ID\n",
       "0    31   250  3188  2915  2056  3517  3030  2101  2678  2479           31\n",
       "1  2761  1584   220  3241   155   744   106   328  2296   350         2761\n",
       "2  1334  2814  2474  2105  1890  1085  2033  2876  3382  2056         1334\n",
       "3  1333  1421  2475  1418  2733  2736  1896  3113  3496  3501         1333\n",
       "4  1790  1125   856   749   443  1157  1062   347   316  3233         1790"
      ]
     },
     "execution_count": 43,
     "metadata": {},
     "output_type": "execute_result"
    }
   ],
   "source": [
    "df_item_temp.head()"
   ]
  },
  {
   "cell_type": "code",
   "execution_count": 44,
   "metadata": {
    "id": "xSp6WgXt03hH"
   },
   "outputs": [],
   "source": [
    "df_item_rank= pd.melt(df_item_temp,\n",
    "                  id_vars = ['Ref Item ID'],\n",
    "                  var_name = ['Item Rank'],\n",
    "                  value_name = 'Related Item ID')"
   ]
  },
  {
   "cell_type": "code",
   "execution_count": 45,
   "metadata": {
    "colab": {
     "base_uri": "https://localhost:8080/",
     "height": 676
    },
    "id": "EyC90Q5N1KcU",
    "outputId": "f146afb7-c900-45c6-8167-690826c58e14"
   },
   "outputs": [
    {
     "data": {
      "text/html": [
       "<div>\n",
       "<style scoped>\n",
       "    .dataframe tbody tr th:only-of-type {\n",
       "        vertical-align: middle;\n",
       "    }\n",
       "\n",
       "    .dataframe tbody tr th {\n",
       "        vertical-align: top;\n",
       "    }\n",
       "\n",
       "    .dataframe thead th {\n",
       "        text-align: right;\n",
       "    }\n",
       "</style>\n",
       "<table border=\"1\" class=\"dataframe\">\n",
       "  <thead>\n",
       "    <tr style=\"text-align: right;\">\n",
       "      <th></th>\n",
       "      <th>Ref Item ID</th>\n",
       "      <th>Item Rank</th>\n",
       "      <th>Related Item ID</th>\n",
       "    </tr>\n",
       "  </thead>\n",
       "  <tbody>\n",
       "    <tr>\n",
       "      <th>3239</th>\n",
       "      <td>0</td>\n",
       "      <td>0</td>\n",
       "      <td>0</td>\n",
       "    </tr>\n",
       "    <tr>\n",
       "      <th>6910</th>\n",
       "      <td>0</td>\n",
       "      <td>1</td>\n",
       "      <td>57</td>\n",
       "    </tr>\n",
       "    <tr>\n",
       "      <th>10581</th>\n",
       "      <td>0</td>\n",
       "      <td>2</td>\n",
       "      <td>260</td>\n",
       "    </tr>\n",
       "    <tr>\n",
       "      <th>14252</th>\n",
       "      <td>0</td>\n",
       "      <td>3</td>\n",
       "      <td>2807</td>\n",
       "    </tr>\n",
       "    <tr>\n",
       "      <th>17923</th>\n",
       "      <td>0</td>\n",
       "      <td>4</td>\n",
       "      <td>127</td>\n",
       "    </tr>\n",
       "    <tr>\n",
       "      <th>21594</th>\n",
       "      <td>0</td>\n",
       "      <td>5</td>\n",
       "      <td>126</td>\n",
       "    </tr>\n",
       "    <tr>\n",
       "      <th>25265</th>\n",
       "      <td>0</td>\n",
       "      <td>6</td>\n",
       "      <td>130</td>\n",
       "    </tr>\n",
       "    <tr>\n",
       "      <th>28936</th>\n",
       "      <td>0</td>\n",
       "      <td>7</td>\n",
       "      <td>125</td>\n",
       "    </tr>\n",
       "    <tr>\n",
       "      <th>32607</th>\n",
       "      <td>0</td>\n",
       "      <td>8</td>\n",
       "      <td>1863</td>\n",
       "    </tr>\n",
       "    <tr>\n",
       "      <th>36278</th>\n",
       "      <td>0</td>\n",
       "      <td>9</td>\n",
       "      <td>1066</td>\n",
       "    </tr>\n",
       "    <tr>\n",
       "      <th>2642</th>\n",
       "      <td>1</td>\n",
       "      <td>0</td>\n",
       "      <td>1</td>\n",
       "    </tr>\n",
       "    <tr>\n",
       "      <th>6313</th>\n",
       "      <td>1</td>\n",
       "      <td>1</td>\n",
       "      <td>551</td>\n",
       "    </tr>\n",
       "    <tr>\n",
       "      <th>9984</th>\n",
       "      <td>1</td>\n",
       "      <td>2</td>\n",
       "      <td>128</td>\n",
       "    </tr>\n",
       "    <tr>\n",
       "      <th>13655</th>\n",
       "      <td>1</td>\n",
       "      <td>3</td>\n",
       "      <td>121</td>\n",
       "    </tr>\n",
       "    <tr>\n",
       "      <th>17326</th>\n",
       "      <td>1</td>\n",
       "      <td>4</td>\n",
       "      <td>1789</td>\n",
       "    </tr>\n",
       "    <tr>\n",
       "      <th>20997</th>\n",
       "      <td>1</td>\n",
       "      <td>5</td>\n",
       "      <td>2167</td>\n",
       "    </tr>\n",
       "    <tr>\n",
       "      <th>24668</th>\n",
       "      <td>1</td>\n",
       "      <td>6</td>\n",
       "      <td>1549</td>\n",
       "    </tr>\n",
       "    <tr>\n",
       "      <th>28339</th>\n",
       "      <td>1</td>\n",
       "      <td>7</td>\n",
       "      <td>2770</td>\n",
       "    </tr>\n",
       "    <tr>\n",
       "      <th>32010</th>\n",
       "      <td>1</td>\n",
       "      <td>8</td>\n",
       "      <td>1449</td>\n",
       "    </tr>\n",
       "    <tr>\n",
       "      <th>35681</th>\n",
       "      <td>1</td>\n",
       "      <td>9</td>\n",
       "      <td>1288</td>\n",
       "    </tr>\n",
       "  </tbody>\n",
       "</table>\n",
       "</div>"
      ],
      "text/plain": [
       "       Ref Item ID Item Rank  Related Item ID\n",
       "3239             0         0                0\n",
       "6910             0         1               57\n",
       "10581            0         2              260\n",
       "14252            0         3             2807\n",
       "17923            0         4              127\n",
       "21594            0         5              126\n",
       "25265            0         6              130\n",
       "28936            0         7              125\n",
       "32607            0         8             1863\n",
       "36278            0         9             1066\n",
       "2642             1         0                1\n",
       "6313             1         1              551\n",
       "9984             1         2              128\n",
       "13655            1         3              121\n",
       "17326            1         4             1789\n",
       "20997            1         5             2167\n",
       "24668            1         6             1549\n",
       "28339            1         7             2770\n",
       "32010            1         8             1449\n",
       "35681            1         9             1288"
      ]
     },
     "execution_count": 45,
     "metadata": {},
     "output_type": "execute_result"
    }
   ],
   "source": [
    "df_item_rank.sort_values(['Ref Item ID','Item Rank']).head(20)"
   ]
  },
  {
   "cell_type": "code",
   "execution_count": 46,
   "metadata": {
    "id": "JXvxxpZ_1YCB"
   },
   "outputs": [],
   "source": [
    " df_score_temp = pd.DataFrame(score_arr)"
   ]
  },
  {
   "cell_type": "code",
   "execution_count": 47,
   "metadata": {
    "id": "nr9HqJU9FaTL"
   },
   "outputs": [],
   "source": [
    "df_score_temp['Ref Item ID'] = ref_item_id"
   ]
  },
  {
   "cell_type": "code",
   "execution_count": 48,
   "metadata": {
    "id": "Uh5TCk6dFaV6"
   },
   "outputs": [],
   "source": [
    "df_score_rank= pd.melt(df_score_temp,\n",
    "                  id_vars = ['Ref Item ID'],\n",
    "                  var_name = ['Item Rank'],\n",
    "                  value_name = 'Score')"
   ]
  },
  {
   "cell_type": "code",
   "execution_count": 49,
   "metadata": {
    "colab": {
     "base_uri": "https://localhost:8080/",
     "height": 676
    },
    "id": "iFZ0D2t7FaYh",
    "outputId": "77f9239a-2f47-42c0-fecd-ab691168e238"
   },
   "outputs": [
    {
     "data": {
      "text/html": [
       "<div>\n",
       "<style scoped>\n",
       "    .dataframe tbody tr th:only-of-type {\n",
       "        vertical-align: middle;\n",
       "    }\n",
       "\n",
       "    .dataframe tbody tr th {\n",
       "        vertical-align: top;\n",
       "    }\n",
       "\n",
       "    .dataframe thead th {\n",
       "        text-align: right;\n",
       "    }\n",
       "</style>\n",
       "<table border=\"1\" class=\"dataframe\">\n",
       "  <thead>\n",
       "    <tr style=\"text-align: right;\">\n",
       "      <th></th>\n",
       "      <th>Ref Item ID</th>\n",
       "      <th>Item Rank</th>\n",
       "      <th>Score</th>\n",
       "    </tr>\n",
       "  </thead>\n",
       "  <tbody>\n",
       "    <tr>\n",
       "      <th>3239</th>\n",
       "      <td>0</td>\n",
       "      <td>0</td>\n",
       "      <td>1.000000</td>\n",
       "    </tr>\n",
       "    <tr>\n",
       "      <th>6910</th>\n",
       "      <td>0</td>\n",
       "      <td>1</td>\n",
       "      <td>0.667216</td>\n",
       "    </tr>\n",
       "    <tr>\n",
       "      <th>10581</th>\n",
       "      <td>0</td>\n",
       "      <td>2</td>\n",
       "      <td>0.664136</td>\n",
       "    </tr>\n",
       "    <tr>\n",
       "      <th>14252</th>\n",
       "      <td>0</td>\n",
       "      <td>3</td>\n",
       "      <td>0.473840</td>\n",
       "    </tr>\n",
       "    <tr>\n",
       "      <th>17923</th>\n",
       "      <td>0</td>\n",
       "      <td>4</td>\n",
       "      <td>0.455786</td>\n",
       "    </tr>\n",
       "    <tr>\n",
       "      <th>21594</th>\n",
       "      <td>0</td>\n",
       "      <td>5</td>\n",
       "      <td>0.452273</td>\n",
       "    </tr>\n",
       "    <tr>\n",
       "      <th>25265</th>\n",
       "      <td>0</td>\n",
       "      <td>6</td>\n",
       "      <td>0.417402</td>\n",
       "    </tr>\n",
       "    <tr>\n",
       "      <th>28936</th>\n",
       "      <td>0</td>\n",
       "      <td>7</td>\n",
       "      <td>0.405208</td>\n",
       "    </tr>\n",
       "    <tr>\n",
       "      <th>32607</th>\n",
       "      <td>0</td>\n",
       "      <td>8</td>\n",
       "      <td>0.397636</td>\n",
       "    </tr>\n",
       "    <tr>\n",
       "      <th>36278</th>\n",
       "      <td>0</td>\n",
       "      <td>9</td>\n",
       "      <td>0.387182</td>\n",
       "    </tr>\n",
       "    <tr>\n",
       "      <th>2642</th>\n",
       "      <td>1</td>\n",
       "      <td>0</td>\n",
       "      <td>1.000000</td>\n",
       "    </tr>\n",
       "    <tr>\n",
       "      <th>6313</th>\n",
       "      <td>1</td>\n",
       "      <td>1</td>\n",
       "      <td>0.608832</td>\n",
       "    </tr>\n",
       "    <tr>\n",
       "      <th>9984</th>\n",
       "      <td>1</td>\n",
       "      <td>2</td>\n",
       "      <td>0.585151</td>\n",
       "    </tr>\n",
       "    <tr>\n",
       "      <th>13655</th>\n",
       "      <td>1</td>\n",
       "      <td>3</td>\n",
       "      <td>0.549025</td>\n",
       "    </tr>\n",
       "    <tr>\n",
       "      <th>17326</th>\n",
       "      <td>1</td>\n",
       "      <td>4</td>\n",
       "      <td>0.538055</td>\n",
       "    </tr>\n",
       "    <tr>\n",
       "      <th>20997</th>\n",
       "      <td>1</td>\n",
       "      <td>5</td>\n",
       "      <td>0.537988</td>\n",
       "    </tr>\n",
       "    <tr>\n",
       "      <th>24668</th>\n",
       "      <td>1</td>\n",
       "      <td>6</td>\n",
       "      <td>0.535174</td>\n",
       "    </tr>\n",
       "    <tr>\n",
       "      <th>28339</th>\n",
       "      <td>1</td>\n",
       "      <td>7</td>\n",
       "      <td>0.528683</td>\n",
       "    </tr>\n",
       "    <tr>\n",
       "      <th>32010</th>\n",
       "      <td>1</td>\n",
       "      <td>8</td>\n",
       "      <td>0.527962</td>\n",
       "    </tr>\n",
       "    <tr>\n",
       "      <th>35681</th>\n",
       "      <td>1</td>\n",
       "      <td>9</td>\n",
       "      <td>0.525040</td>\n",
       "    </tr>\n",
       "  </tbody>\n",
       "</table>\n",
       "</div>"
      ],
      "text/plain": [
       "       Ref Item ID Item Rank     Score\n",
       "3239             0         0  1.000000\n",
       "6910             0         1  0.667216\n",
       "10581            0         2  0.664136\n",
       "14252            0         3  0.473840\n",
       "17923            0         4  0.455786\n",
       "21594            0         5  0.452273\n",
       "25265            0         6  0.417402\n",
       "28936            0         7  0.405208\n",
       "32607            0         8  0.397636\n",
       "36278            0         9  0.387182\n",
       "2642             1         0  1.000000\n",
       "6313             1         1  0.608832\n",
       "9984             1         2  0.585151\n",
       "13655            1         3  0.549025\n",
       "17326            1         4  0.538055\n",
       "20997            1         5  0.537988\n",
       "24668            1         6  0.535174\n",
       "28339            1         7  0.528683\n",
       "32010            1         8  0.527962\n",
       "35681            1         9  0.525040"
      ]
     },
     "execution_count": 49,
     "metadata": {},
     "output_type": "execute_result"
    }
   ],
   "source": [
    "df_score_rank.sort_values(['Ref Item ID','Item Rank']).head(20)"
   ]
  },
  {
   "cell_type": "code",
   "execution_count": 50,
   "metadata": {
    "id": "UdAmDnDXFaa2"
   },
   "outputs": [],
   "source": [
    "df_item_score = df_item_rank.merge(df_score_rank,\n",
    "                                   how='inner',\n",
    "                                   on=['Ref Item ID','Item Rank'])"
   ]
  },
  {
   "cell_type": "code",
   "execution_count": 51,
   "metadata": {
    "id": "EKR_W2cdFadd"
   },
   "outputs": [],
   "source": [
    "df_item_score.sort_values(['Ref Item ID','Item Rank'],\n",
    "                          inplace=True)"
   ]
  },
  {
   "cell_type": "code",
   "execution_count": 52,
   "metadata": {
    "colab": {
     "base_uri": "https://localhost:8080/",
     "height": 676
    },
    "id": "-Ex3byMKGrXW",
    "outputId": "7afb35ad-a697-482d-c2b8-f8360913218b"
   },
   "outputs": [
    {
     "data": {
      "text/html": [
       "<div>\n",
       "<style scoped>\n",
       "    .dataframe tbody tr th:only-of-type {\n",
       "        vertical-align: middle;\n",
       "    }\n",
       "\n",
       "    .dataframe tbody tr th {\n",
       "        vertical-align: top;\n",
       "    }\n",
       "\n",
       "    .dataframe thead th {\n",
       "        text-align: right;\n",
       "    }\n",
       "</style>\n",
       "<table border=\"1\" class=\"dataframe\">\n",
       "  <thead>\n",
       "    <tr style=\"text-align: right;\">\n",
       "      <th></th>\n",
       "      <th>Ref Item ID</th>\n",
       "      <th>Item Rank</th>\n",
       "      <th>Related Item ID</th>\n",
       "      <th>Score</th>\n",
       "    </tr>\n",
       "  </thead>\n",
       "  <tbody>\n",
       "    <tr>\n",
       "      <th>3239</th>\n",
       "      <td>0</td>\n",
       "      <td>0</td>\n",
       "      <td>0</td>\n",
       "      <td>1.000000</td>\n",
       "    </tr>\n",
       "    <tr>\n",
       "      <th>6910</th>\n",
       "      <td>0</td>\n",
       "      <td>1</td>\n",
       "      <td>57</td>\n",
       "      <td>0.667216</td>\n",
       "    </tr>\n",
       "    <tr>\n",
       "      <th>10581</th>\n",
       "      <td>0</td>\n",
       "      <td>2</td>\n",
       "      <td>260</td>\n",
       "      <td>0.664136</td>\n",
       "    </tr>\n",
       "    <tr>\n",
       "      <th>14252</th>\n",
       "      <td>0</td>\n",
       "      <td>3</td>\n",
       "      <td>2807</td>\n",
       "      <td>0.473840</td>\n",
       "    </tr>\n",
       "    <tr>\n",
       "      <th>17923</th>\n",
       "      <td>0</td>\n",
       "      <td>4</td>\n",
       "      <td>127</td>\n",
       "      <td>0.455786</td>\n",
       "    </tr>\n",
       "    <tr>\n",
       "      <th>21594</th>\n",
       "      <td>0</td>\n",
       "      <td>5</td>\n",
       "      <td>126</td>\n",
       "      <td>0.452273</td>\n",
       "    </tr>\n",
       "    <tr>\n",
       "      <th>25265</th>\n",
       "      <td>0</td>\n",
       "      <td>6</td>\n",
       "      <td>130</td>\n",
       "      <td>0.417402</td>\n",
       "    </tr>\n",
       "    <tr>\n",
       "      <th>28936</th>\n",
       "      <td>0</td>\n",
       "      <td>7</td>\n",
       "      <td>125</td>\n",
       "      <td>0.405208</td>\n",
       "    </tr>\n",
       "    <tr>\n",
       "      <th>32607</th>\n",
       "      <td>0</td>\n",
       "      <td>8</td>\n",
       "      <td>1863</td>\n",
       "      <td>0.397636</td>\n",
       "    </tr>\n",
       "    <tr>\n",
       "      <th>36278</th>\n",
       "      <td>0</td>\n",
       "      <td>9</td>\n",
       "      <td>1066</td>\n",
       "      <td>0.387182</td>\n",
       "    </tr>\n",
       "    <tr>\n",
       "      <th>2642</th>\n",
       "      <td>1</td>\n",
       "      <td>0</td>\n",
       "      <td>1</td>\n",
       "      <td>1.000000</td>\n",
       "    </tr>\n",
       "    <tr>\n",
       "      <th>6313</th>\n",
       "      <td>1</td>\n",
       "      <td>1</td>\n",
       "      <td>551</td>\n",
       "      <td>0.608832</td>\n",
       "    </tr>\n",
       "    <tr>\n",
       "      <th>9984</th>\n",
       "      <td>1</td>\n",
       "      <td>2</td>\n",
       "      <td>128</td>\n",
       "      <td>0.585151</td>\n",
       "    </tr>\n",
       "    <tr>\n",
       "      <th>13655</th>\n",
       "      <td>1</td>\n",
       "      <td>3</td>\n",
       "      <td>121</td>\n",
       "      <td>0.549025</td>\n",
       "    </tr>\n",
       "    <tr>\n",
       "      <th>17326</th>\n",
       "      <td>1</td>\n",
       "      <td>4</td>\n",
       "      <td>1789</td>\n",
       "      <td>0.538055</td>\n",
       "    </tr>\n",
       "    <tr>\n",
       "      <th>20997</th>\n",
       "      <td>1</td>\n",
       "      <td>5</td>\n",
       "      <td>2167</td>\n",
       "      <td>0.537988</td>\n",
       "    </tr>\n",
       "    <tr>\n",
       "      <th>24668</th>\n",
       "      <td>1</td>\n",
       "      <td>6</td>\n",
       "      <td>1549</td>\n",
       "      <td>0.535174</td>\n",
       "    </tr>\n",
       "    <tr>\n",
       "      <th>28339</th>\n",
       "      <td>1</td>\n",
       "      <td>7</td>\n",
       "      <td>2770</td>\n",
       "      <td>0.528683</td>\n",
       "    </tr>\n",
       "    <tr>\n",
       "      <th>32010</th>\n",
       "      <td>1</td>\n",
       "      <td>8</td>\n",
       "      <td>1449</td>\n",
       "      <td>0.527962</td>\n",
       "    </tr>\n",
       "    <tr>\n",
       "      <th>35681</th>\n",
       "      <td>1</td>\n",
       "      <td>9</td>\n",
       "      <td>1288</td>\n",
       "      <td>0.525040</td>\n",
       "    </tr>\n",
       "  </tbody>\n",
       "</table>\n",
       "</div>"
      ],
      "text/plain": [
       "       Ref Item ID Item Rank  Related Item ID     Score\n",
       "3239             0         0                0  1.000000\n",
       "6910             0         1               57  0.667216\n",
       "10581            0         2              260  0.664136\n",
       "14252            0         3             2807  0.473840\n",
       "17923            0         4              127  0.455786\n",
       "21594            0         5              126  0.452273\n",
       "25265            0         6              130  0.417402\n",
       "28936            0         7              125  0.405208\n",
       "32607            0         8             1863  0.397636\n",
       "36278            0         9             1066  0.387182\n",
       "2642             1         0                1  1.000000\n",
       "6313             1         1              551  0.608832\n",
       "9984             1         2              128  0.585151\n",
       "13655            1         3              121  0.549025\n",
       "17326            1         4             1789  0.538055\n",
       "20997            1         5             2167  0.537988\n",
       "24668            1         6             1549  0.535174\n",
       "28339            1         7             2770  0.528683\n",
       "32010            1         8             1449  0.527962\n",
       "35681            1         9             1288  0.525040"
      ]
     },
     "execution_count": 52,
     "metadata": {},
     "output_type": "execute_result"
    }
   ],
   "source": [
    "df_item_score.head(20)"
   ]
  },
  {
   "cell_type": "code",
   "execution_count": null,
   "metadata": {
    "id": "xSPSZBEXGtPO"
   },
   "outputs": [],
   "source": []
  }
 ],
 "metadata": {
  "colab": {
   "provenance": []
  },
  "kernelspec": {
   "display_name": "Python [conda env:pytorch_env]",
   "language": "python",
   "name": "conda-env-pytorch_env-py"
  },
  "language_info": {
   "codemirror_mode": {
    "name": "ipython",
    "version": 3
   },
   "file_extension": ".py",
   "mimetype": "text/x-python",
   "name": "python",
   "nbconvert_exporter": "python",
   "pygments_lexer": "ipython3",
   "version": "3.10.4"
  },
  "toc": {
   "base_numbering": 1,
   "nav_menu": {},
   "number_sections": true,
   "sideBar": true,
   "skip_h1_title": false,
   "title_cell": "Table of Contents",
   "title_sidebar": "Contents",
   "toc_cell": false,
   "toc_position": {},
   "toc_section_display": true,
   "toc_window_display": false
  },
  "widgets": {
   "application/vnd.jupyter.widget-state+json": {
    "1671afa07ae44da79f10c65c37e744b0": {
     "model_module": "@jupyter-widgets/base",
     "model_module_version": "1.2.0",
     "model_name": "LayoutModel",
     "state": {
      "_model_module": "@jupyter-widgets/base",
      "_model_module_version": "1.2.0",
      "_model_name": "LayoutModel",
      "_view_count": null,
      "_view_module": "@jupyter-widgets/base",
      "_view_module_version": "1.2.0",
      "_view_name": "LayoutView",
      "align_content": null,
      "align_items": null,
      "align_self": null,
      "border": null,
      "bottom": null,
      "display": null,
      "flex": null,
      "flex_flow": null,
      "grid_area": null,
      "grid_auto_columns": null,
      "grid_auto_flow": null,
      "grid_auto_rows": null,
      "grid_column": null,
      "grid_gap": null,
      "grid_row": null,
      "grid_template_areas": null,
      "grid_template_columns": null,
      "grid_template_rows": null,
      "height": null,
      "justify_content": null,
      "justify_items": null,
      "left": null,
      "margin": null,
      "max_height": null,
      "max_width": null,
      "min_height": null,
      "min_width": null,
      "object_fit": null,
      "object_position": null,
      "order": null,
      "overflow": null,
      "overflow_x": null,
      "overflow_y": null,
      "padding": null,
      "right": null,
      "top": null,
      "visibility": null,
      "width": null
     }
    },
    "3bd0d1caddc74e9a9253c0d4d15b1ff9": {
     "model_module": "@jupyter-widgets/controls",
     "model_module_version": "1.5.0",
     "model_name": "FloatProgressModel",
     "state": {
      "_dom_classes": [],
      "_model_module": "@jupyter-widgets/controls",
      "_model_module_version": "1.5.0",
      "_model_name": "FloatProgressModel",
      "_view_count": null,
      "_view_module": "@jupyter-widgets/controls",
      "_view_module_version": "1.5.0",
      "_view_name": "ProgressView",
      "bar_style": "success",
      "description": "",
      "description_tooltip": null,
      "layout": "IPY_MODEL_a4859e1fa80641b9bc0f5d033c9cb923",
      "max": 15,
      "min": 0,
      "orientation": "horizontal",
      "style": "IPY_MODEL_c315e4e5ecb24bb7b9ed34803d40ac56",
      "value": 15
     }
    },
    "3d638fe0c8944f5bbcc766e33ccc4388": {
     "model_module": "@jupyter-widgets/controls",
     "model_module_version": "1.5.0",
     "model_name": "HTMLModel",
     "state": {
      "_dom_classes": [],
      "_model_module": "@jupyter-widgets/controls",
      "_model_module_version": "1.5.0",
      "_model_name": "HTMLModel",
      "_view_count": null,
      "_view_module": "@jupyter-widgets/controls",
      "_view_module_version": "1.5.0",
      "_view_name": "HTMLView",
      "description": "",
      "description_tooltip": null,
      "layout": "IPY_MODEL_1671afa07ae44da79f10c65c37e744b0",
      "placeholder": "​",
      "style": "IPY_MODEL_e348de68a4394dbc8e93d9cb5d72fc91",
      "value": "100%"
     }
    },
    "40ff878a2af2433ca0067a3da3297b43": {
     "model_module": "@jupyter-widgets/base",
     "model_module_version": "1.2.0",
     "model_name": "LayoutModel",
     "state": {
      "_model_module": "@jupyter-widgets/base",
      "_model_module_version": "1.2.0",
      "_model_name": "LayoutModel",
      "_view_count": null,
      "_view_module": "@jupyter-widgets/base",
      "_view_module_version": "1.2.0",
      "_view_name": "LayoutView",
      "align_content": null,
      "align_items": null,
      "align_self": null,
      "border": null,
      "bottom": null,
      "display": null,
      "flex": null,
      "flex_flow": null,
      "grid_area": null,
      "grid_auto_columns": null,
      "grid_auto_flow": null,
      "grid_auto_rows": null,
      "grid_column": null,
      "grid_gap": null,
      "grid_row": null,
      "grid_template_areas": null,
      "grid_template_columns": null,
      "grid_template_rows": null,
      "height": null,
      "justify_content": null,
      "justify_items": null,
      "left": null,
      "margin": null,
      "max_height": null,
      "max_width": null,
      "min_height": null,
      "min_width": null,
      "object_fit": null,
      "object_position": null,
      "order": null,
      "overflow": null,
      "overflow_x": null,
      "overflow_y": null,
      "padding": null,
      "right": null,
      "top": null,
      "visibility": null,
      "width": null
     }
    },
    "620ca54a977c4fe7a88a906dac07d351": {
     "model_module": "@jupyter-widgets/base",
     "model_module_version": "1.2.0",
     "model_name": "LayoutModel",
     "state": {
      "_model_module": "@jupyter-widgets/base",
      "_model_module_version": "1.2.0",
      "_model_name": "LayoutModel",
      "_view_count": null,
      "_view_module": "@jupyter-widgets/base",
      "_view_module_version": "1.2.0",
      "_view_name": "LayoutView",
      "align_content": null,
      "align_items": null,
      "align_self": null,
      "border": null,
      "bottom": null,
      "display": null,
      "flex": null,
      "flex_flow": null,
      "grid_area": null,
      "grid_auto_columns": null,
      "grid_auto_flow": null,
      "grid_auto_rows": null,
      "grid_column": null,
      "grid_gap": null,
      "grid_row": null,
      "grid_template_areas": null,
      "grid_template_columns": null,
      "grid_template_rows": null,
      "height": null,
      "justify_content": null,
      "justify_items": null,
      "left": null,
      "margin": null,
      "max_height": null,
      "max_width": null,
      "min_height": null,
      "min_width": null,
      "object_fit": null,
      "object_position": null,
      "order": null,
      "overflow": null,
      "overflow_x": null,
      "overflow_y": null,
      "padding": null,
      "right": null,
      "top": null,
      "visibility": null,
      "width": null
     }
    },
    "9895dec0b664479c8c2006331fb0dacd": {
     "model_module": "@jupyter-widgets/controls",
     "model_module_version": "1.5.0",
     "model_name": "DescriptionStyleModel",
     "state": {
      "_model_module": "@jupyter-widgets/controls",
      "_model_module_version": "1.5.0",
      "_model_name": "DescriptionStyleModel",
      "_view_count": null,
      "_view_module": "@jupyter-widgets/base",
      "_view_module_version": "1.2.0",
      "_view_name": "StyleView",
      "description_width": ""
     }
    },
    "a4859e1fa80641b9bc0f5d033c9cb923": {
     "model_module": "@jupyter-widgets/base",
     "model_module_version": "1.2.0",
     "model_name": "LayoutModel",
     "state": {
      "_model_module": "@jupyter-widgets/base",
      "_model_module_version": "1.2.0",
      "_model_name": "LayoutModel",
      "_view_count": null,
      "_view_module": "@jupyter-widgets/base",
      "_view_module_version": "1.2.0",
      "_view_name": "LayoutView",
      "align_content": null,
      "align_items": null,
      "align_self": null,
      "border": null,
      "bottom": null,
      "display": null,
      "flex": null,
      "flex_flow": null,
      "grid_area": null,
      "grid_auto_columns": null,
      "grid_auto_flow": null,
      "grid_auto_rows": null,
      "grid_column": null,
      "grid_gap": null,
      "grid_row": null,
      "grid_template_areas": null,
      "grid_template_columns": null,
      "grid_template_rows": null,
      "height": null,
      "justify_content": null,
      "justify_items": null,
      "left": null,
      "margin": null,
      "max_height": null,
      "max_width": null,
      "min_height": null,
      "min_width": null,
      "object_fit": null,
      "object_position": null,
      "order": null,
      "overflow": null,
      "overflow_x": null,
      "overflow_y": null,
      "padding": null,
      "right": null,
      "top": null,
      "visibility": null,
      "width": null
     }
    },
    "c315e4e5ecb24bb7b9ed34803d40ac56": {
     "model_module": "@jupyter-widgets/controls",
     "model_module_version": "1.5.0",
     "model_name": "ProgressStyleModel",
     "state": {
      "_model_module": "@jupyter-widgets/controls",
      "_model_module_version": "1.5.0",
      "_model_name": "ProgressStyleModel",
      "_view_count": null,
      "_view_module": "@jupyter-widgets/base",
      "_view_module_version": "1.2.0",
      "_view_name": "StyleView",
      "bar_color": null,
      "description_width": ""
     }
    },
    "e348de68a4394dbc8e93d9cb5d72fc91": {
     "model_module": "@jupyter-widgets/controls",
     "model_module_version": "1.5.0",
     "model_name": "DescriptionStyleModel",
     "state": {
      "_model_module": "@jupyter-widgets/controls",
      "_model_module_version": "1.5.0",
      "_model_name": "DescriptionStyleModel",
      "_view_count": null,
      "_view_module": "@jupyter-widgets/base",
      "_view_module_version": "1.2.0",
      "_view_name": "StyleView",
      "description_width": ""
     }
    },
    "f7fe802bfecd491abe7c0899b8761054": {
     "model_module": "@jupyter-widgets/controls",
     "model_module_version": "1.5.0",
     "model_name": "HTMLModel",
     "state": {
      "_dom_classes": [],
      "_model_module": "@jupyter-widgets/controls",
      "_model_module_version": "1.5.0",
      "_model_name": "HTMLModel",
      "_view_count": null,
      "_view_module": "@jupyter-widgets/controls",
      "_view_module_version": "1.5.0",
      "_view_name": "HTMLView",
      "description": "",
      "description_tooltip": null,
      "layout": "IPY_MODEL_620ca54a977c4fe7a88a906dac07d351",
      "placeholder": "​",
      "style": "IPY_MODEL_9895dec0b664479c8c2006331fb0dacd",
      "value": " 15/15 [00:05&lt;00:00,  1.84it/s]"
     }
    },
    "ffae296d0f6c4a59aaca434d98cbeff8": {
     "model_module": "@jupyter-widgets/controls",
     "model_module_version": "1.5.0",
     "model_name": "HBoxModel",
     "state": {
      "_dom_classes": [],
      "_model_module": "@jupyter-widgets/controls",
      "_model_module_version": "1.5.0",
      "_model_name": "HBoxModel",
      "_view_count": null,
      "_view_module": "@jupyter-widgets/controls",
      "_view_module_version": "1.5.0",
      "_view_name": "HBoxView",
      "box_style": "",
      "children": [
       "IPY_MODEL_3d638fe0c8944f5bbcc766e33ccc4388",
       "IPY_MODEL_3bd0d1caddc74e9a9253c0d4d15b1ff9",
       "IPY_MODEL_f7fe802bfecd491abe7c0899b8761054"
      ],
      "layout": "IPY_MODEL_40ff878a2af2433ca0067a3da3297b43"
     }
    }
   }
  }
 },
 "nbformat": 4,
 "nbformat_minor": 1
}
