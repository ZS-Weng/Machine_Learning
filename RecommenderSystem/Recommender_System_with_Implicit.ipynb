{
 "cells": [
  {
   "cell_type": "markdown",
   "metadata": {
    "id": "T6JxD38WapDU"
   },
   "source": [
    "Install the necessary libraries "
   ]
  },
  {
   "cell_type": "code",
   "execution_count": null,
   "metadata": {
    "colab": {
     "base_uri": "https://localhost:8080/"
    },
    "id": "7aG8WST2b7zF",
    "outputId": "a1127f1c-86a2-4db4-c3ba-db7d6daef44f"
   },
   "outputs": [],
   "source": [
    "!pip install implicit"
   ]
  },
  {
   "cell_type": "code",
   "execution_count": null,
   "metadata": {
    "colab": {
     "base_uri": "https://localhost:8080/"
    },
    "id": "A5sWS2S6afV_",
    "outputId": "bcc2b4a5-8f5e-43e5-c4d6-de1c45f41b8b"
   },
   "outputs": [],
   "source": [
    "import pandas as pd \n",
    "import numpy as np \n",
    "import implicit\n",
    "import scipy.sparse as sparse"
   ]
  },
  {
   "cell_type": "code",
   "execution_count": null,
   "metadata": {
    "id": "CoraciRlaodE"
   },
   "outputs": [],
   "source": [
    "#Read in dataset\n",
    "df_raw = pd.read_excel(\"./data/Online Retail.xlsx\")"
   ]
  },
  {
   "cell_type": "code",
   "execution_count": null,
   "metadata": {
    "colab": {
     "base_uri": "https://localhost:8080/"
    },
    "id": "Blrdnp4CAL7q",
    "outputId": "234be418-8028-49a8-95d1-ea9230884d6c"
   },
   "outputs": [],
   "source": [
    "df_raw.info()"
   ]
  },
  {
   "cell_type": "code",
   "execution_count": null,
   "metadata": {
    "id": "ske4ExspeQIY"
   },
   "outputs": [],
   "source": [
    "#Dropping records with no CustomerID\n",
    "df_raw.dropna(subset=['CustomerID'],\n",
    "                      inplace=True)"
   ]
  },
  {
   "cell_type": "code",
   "execution_count": null,
   "metadata": {
    "id": "HQaPVj_jk3MU"
   },
   "outputs": [],
   "source": [
    "df_raw['CustomerID'] = df_raw['CustomerID'].astype('int64')\n",
    "df_raw['StockCode'] = df_raw['StockCode'].astype('str')"
   ]
  },
  {
   "cell_type": "code",
   "execution_count": null,
   "metadata": {
    "id": "O72FzRM1lYJp"
   },
   "outputs": [],
   "source": [
    "df_raw['Sales'] = df_raw['Quantity'] * df_raw['UnitPrice']"
   ]
  },
  {
   "cell_type": "code",
   "execution_count": null,
   "metadata": {
    "colab": {
     "base_uri": "https://localhost:8080/"
    },
    "id": "3HU39F0Edmli",
    "outputId": "d6a4edff-3eb5-4620-8976-469936754afc"
   },
   "outputs": [],
   "source": [
    "df_raw.info()"
   ]
  },
  {
   "cell_type": "markdown",
   "metadata": {
    "id": "7Jj33HpYEoXf"
   },
   "source": [
    "## Filter out records on for Customers who bought more than n items"
   ]
  },
  {
   "cell_type": "code",
   "execution_count": null,
   "metadata": {
    "id": "nCHpUysXuOgu"
   },
   "outputs": [],
   "source": [
    "df_items_per_cust = df_raw.groupby(['CustomerID'])\\\n",
    ".agg({'StockCode': 'nunique'}).reset_index()"
   ]
  },
  {
   "cell_type": "code",
   "execution_count": null,
   "metadata": {
    "id": "YXo-JhGHBCr-"
   },
   "outputs": [],
   "source": [
    "df_items_per_cust.columns = ['CustomerID', 'Count_item_cust']"
   ]
  },
  {
   "cell_type": "code",
   "execution_count": null,
   "metadata": {
    "id": "K9dfIyP_BNKk"
   },
   "outputs": [],
   "source": [
    "#Setting of THreshold\n",
    "item_in_cust_threshold = 6"
   ]
  },
  {
   "cell_type": "code",
   "execution_count": null,
   "metadata": {
    "id": "aBRWlTbnyMed"
   },
   "outputs": [],
   "source": [
    "#Filtering Results\n",
    "mask = df_items_per_cust['Count_item_cust'] >= item_in_cust_threshold\n",
    "valid_cust= set(df_items_per_cust.loc[mask, 'CustomerID'].tolist())"
   ]
  },
  {
   "cell_type": "code",
   "execution_count": null,
   "metadata": {
    "id": "sJ31w-XbD2oE"
   },
   "outputs": [],
   "source": [
    "df_filter_cust = df_raw[df_raw['CustomerID'].isin(valid_cust)].copy()"
   ]
  },
  {
   "cell_type": "code",
   "execution_count": null,
   "metadata": {
    "id": "bXYZesQeyRA0"
   },
   "outputs": [],
   "source": [
    "invoiceno_filter_cust = set(df_filter_cust['InvoiceNo'].tolist())"
   ]
  },
  {
   "cell_type": "markdown",
   "metadata": {
    "id": "D57DRfzVE87W"
   },
   "source": [
    "## Filter out items only for those that are bought by multiple customers"
   ]
  },
  {
   "cell_type": "code",
   "execution_count": null,
   "metadata": {
    "id": "58wD_YMtFGsn"
   },
   "outputs": [],
   "source": [
    "df_custs_per_item = df_raw.groupby(['StockCode'])\\\n",
    ".agg({'CustomerID': 'nunique'}).reset_index()"
   ]
  },
  {
   "cell_type": "code",
   "execution_count": null,
   "metadata": {
    "id": "84bDeuyAFGyn"
   },
   "outputs": [],
   "source": [
    "df_custs_per_item.columns = ['StockCode', 'Count_cust_item']"
   ]
  },
  {
   "cell_type": "code",
   "execution_count": null,
   "metadata": {
    "colab": {
     "base_uri": "https://localhost:8080/"
    },
    "id": "sjp8dddPFgYH",
    "outputId": "8abc905f-0fec-4134-f739-797c339e2174"
   },
   "outputs": [],
   "source": [
    "df_custs_per_item['Count_cust_item'].value_counts()"
   ]
  },
  {
   "cell_type": "code",
   "execution_count": null,
   "metadata": {
    "id": "Q3fs2BmOFggP"
   },
   "outputs": [],
   "source": [
    "# Set threshold \n",
    "cust_in_item_threshold = 6"
   ]
  },
  {
   "cell_type": "code",
   "execution_count": null,
   "metadata": {
    "id": "ce2t_9s1ymOD"
   },
   "outputs": [],
   "source": [
    "mask = df_custs_per_item['Count_cust_item'] >= cust_in_item_threshold\n",
    "valid_stockcode = set(df_custs_per_item.loc[mask, 'StockCode'].tolist())"
   ]
  },
  {
   "cell_type": "code",
   "execution_count": null,
   "metadata": {
    "id": "0WPfiiU_GOCQ"
   },
   "outputs": [],
   "source": [
    "df_filter_item = df_raw[df_raw['StockCode'].isin(valid_stockcode)].copy()"
   ]
  },
  {
   "cell_type": "code",
   "execution_count": null,
   "metadata": {
    "id": "K71Gid3Ay_nA"
   },
   "outputs": [],
   "source": [
    "invoiceno_filter_item = set(df_filter_item['InvoiceNo'].tolist())"
   ]
  },
  {
   "cell_type": "code",
   "execution_count": null,
   "metadata": {
    "id": "Rzf9wIZgzPTM"
   },
   "outputs": [],
   "source": [
    "invoiceno_intersect = set.intersection(invoiceno_filter_item,invoiceno_filter_cust)"
   ]
  },
  {
   "cell_type": "code",
   "execution_count": null,
   "metadata": {
    "colab": {
     "base_uri": "https://localhost:8080/"
    },
    "id": "4e6vVFGKGOJn",
    "outputId": "16cb2227-89b6-4be8-cf36-da7dc5c81220"
   },
   "outputs": [],
   "source": [
    "print(f\"No. of invoice after filtering customer: {len(invoiceno_filter_cust)}\")\n",
    "print(f\"No. of invoice after filtering item: {len(invoiceno_filter_item)}\")\n",
    "print(f\"No. of invoice from intersect: {len(invoiceno_intersect)}\")"
   ]
  },
  {
   "cell_type": "code",
   "execution_count": null,
   "metadata": {
    "id": "zooqgQiPGOMR"
   },
   "outputs": [],
   "source": [
    "df_filter_cust_item = df_raw[df_raw['InvoiceNo'].isin(invoiceno_intersect)].copy()"
   ]
  },
  {
   "cell_type": "code",
   "execution_count": null,
   "metadata": {
    "colab": {
     "base_uri": "https://localhost:8080/"
    },
    "id": "w8fncnQd0pdx",
    "outputId": "95372668-0504-4568-fd18-04b997b8cf2b"
   },
   "outputs": [],
   "source": [
    "df_filter_cust_item.info()"
   ]
  },
  {
   "cell_type": "markdown",
   "metadata": {
    "id": "TUtZKQFPbpQK"
   },
   "source": [
    "## Apply Collaborative Filtering with Implicit LIbrary"
   ]
  },
  {
   "cell_type": "code",
   "execution_count": null,
   "metadata": {
    "id": "kmuSG55pb6t7"
   },
   "outputs": [],
   "source": [
    "unique_customers = df_filter_cust_item['CustomerID'].unique()\n",
    "cust_ids = dict(zip(unique_customers, np.arange(unique_customers.shape[0], dtype=np.int32)))\n",
    "\n",
    "unique_items = df_filter_cust_item['StockCode'].unique()\n",
    "item_ids = dict(zip(unique_items, np.arange(unique_items.shape[0], dtype=np.int32)))\n",
    "\n",
    "df_filter_cust_item['cust_id'] = df_filter_cust_item['CustomerID'].apply(lambda i : cust_ids[i])\n",
    "df_filter_cust_item['item_id'] = df_filter_cust_item['StockCode'].apply(lambda i : item_ids[i])"
   ]
  },
  {
   "cell_type": "code",
   "execution_count": null,
   "metadata": {
    "colab": {
     "base_uri": "https://localhost:8080/"
    },
    "id": "NytFLFqkdgTi",
    "outputId": "65e76082-5666-46dc-9c10-686f963b9dc2"
   },
   "outputs": [],
   "source": [
    "print(f\"{len(cust_ids)}, {len(item_ids)}\")"
   ]
  },
  {
   "cell_type": "code",
   "execution_count": null,
   "metadata": {
    "colab": {
     "base_uri": "https://localhost:8080/",
     "height": 407
    },
    "id": "olA-y-xLkjuV",
    "outputId": "cba2733a-bdf6-4df7-b3e1-a580530e4076"
   },
   "outputs": [],
   "source": [
    "df_filter_cust_item.sort_values(by=['StockCode'], inplace=True)\n",
    "df_filter_cust_item.head(10)"
   ]
  },
  {
   "cell_type": "code",
   "execution_count": null,
   "metadata": {
    "id": "hwbUihCgx48O"
   },
   "outputs": [],
   "source": [
    "df_cust_item_qty = df_filter_cust_item.groupby(['cust_id','item_id'])\\\n",
    ".agg({'Quantity':'sum'}).reset_index()"
   ]
  },
  {
   "cell_type": "code",
   "execution_count": null,
   "metadata": {
    "colab": {
     "base_uri": "https://localhost:8080/",
     "height": 206
    },
    "id": "XGABaNXNyOTj",
    "outputId": "4a019c20-b2c2-4b45-94d3-93d1e175729a"
   },
   "outputs": [],
   "source": [
    "df_cust_item_qty.head()"
   ]
  },
  {
   "cell_type": "code",
   "execution_count": null,
   "metadata": {
    "id": "73ZvqkhfuY6k"
   },
   "outputs": [],
   "source": [
    "#Create Sparse Matrix\n",
    "\n",
    "sparse_customer_item = \\\n",
    "sparse.csr_matrix((df_cust_item_qty['Quantity'].astype(float), (df_cust_item_qty['cust_id'],df_cust_item_qty['item_id'])))"
   ]
  },
  {
   "cell_type": "code",
   "execution_count": null,
   "metadata": {
    "colab": {
     "base_uri": "https://localhost:8080/"
    },
    "id": "AkoztbIZti-l",
    "outputId": "47e2f357-8344-477f-9dde-5f0899700fbc"
   },
   "outputs": [],
   "source": [
    "sparse_customer_item"
   ]
  },
  {
   "cell_type": "code",
   "execution_count": null,
   "metadata": {
    "colab": {
     "base_uri": "https://localhost:8080/"
    },
    "id": "rcVYG4m4t7C5",
    "outputId": "5577cd4d-f251-4a28-c5f9-0dfcf7161669"
   },
   "outputs": [],
   "source": [
    "model = implicit.als.AlternatingLeastSquares(num_threads=1)"
   ]
  },
  {
   "cell_type": "code",
   "execution_count": null,
   "metadata": {
    "colab": {
     "base_uri": "https://localhost:8080/",
     "height": 49,
     "referenced_widgets": [
      "d031940603e643868034e14a7354de32",
      "d4279fdc9925487c93b026f3116024f3",
      "a8cbc1120ff94faf8b91a689921e2bf8",
      "ec59761392a34618b56774eee32b6281",
      "b334cc0424034e7c868a2dc954b2b92b",
      "4769c46a72384094a14308a5d6f5640e",
      "4f0fe547cc174fbc84fe672471a74090",
      "0c9797759ed4408fa0a4eec2b26dd88d",
      "33517a04cde24bb488f7252b24df386a",
      "3ea04febc19d48b28d00a628c0afba3f",
      "6fc46fc360db40458a8e8a5b5eef0c92"
     ]
    },
    "id": "pGKc2RRtyoZG",
    "outputId": "f23521fd-ad17-4689-8efe-48da820e519a"
   },
   "outputs": [],
   "source": [
    "model.fit(sparse_customer_item)"
   ]
  },
  {
   "cell_type": "markdown",
   "metadata": {
    "id": "zoFU7x27zPJO"
   },
   "source": [
    "## Generate Similar Items"
   ]
  },
  {
   "cell_type": "code",
   "execution_count": null,
   "metadata": {
    "id": "JM8UohoozDru"
   },
   "outputs": [],
   "source": [
    "ref_item_id = df_filter_cust_item['item_id'].unique()"
   ]
  },
  {
   "cell_type": "code",
   "execution_count": null,
   "metadata": {
    "id": "9xUVMYHdzdmQ"
   },
   "outputs": [],
   "source": [
    "item_arr, score_arr = model.similar_items(ref_item_id, N=10)"
   ]
  },
  {
   "cell_type": "code",
   "execution_count": null,
   "metadata": {
    "id": "_Enh6DRrzedQ"
   },
   "outputs": [],
   "source": [
    "df_item_temp = pd.DataFrame(item_arr)"
   ]
  },
  {
   "cell_type": "code",
   "execution_count": null,
   "metadata": {
    "id": "QcQ5Ddm00G1u"
   },
   "outputs": [],
   "source": [
    "df_item_temp['Ref Item ID'] = ref_item_id"
   ]
  },
  {
   "cell_type": "code",
   "execution_count": null,
   "metadata": {
    "colab": {
     "base_uri": "https://localhost:8080/",
     "height": 206
    },
    "id": "3Wu9eIN0012i",
    "outputId": "99bdc528-29fb-4d49-f690-edfd0754f034"
   },
   "outputs": [],
   "source": [
    "df_item_temp.head()"
   ]
  },
  {
   "cell_type": "code",
   "execution_count": null,
   "metadata": {
    "id": "xSp6WgXt03hH"
   },
   "outputs": [],
   "source": [
    "df_item_rank= pd.melt(df_item_temp,\n",
    "                  id_vars = ['Ref Item ID'],\n",
    "                  var_name = ['Item Rank'],\n",
    "                  value_name = 'Related Item ID')"
   ]
  },
  {
   "cell_type": "code",
   "execution_count": null,
   "metadata": {
    "colab": {
     "base_uri": "https://localhost:8080/",
     "height": 676
    },
    "id": "EyC90Q5N1KcU",
    "outputId": "eb2e2946-c60d-40df-8ae5-397f884eec6b"
   },
   "outputs": [],
   "source": [
    "df_item_rank.sort_values(['Ref Item ID','Item Rank']).head(20)"
   ]
  },
  {
   "cell_type": "code",
   "execution_count": null,
   "metadata": {
    "id": "JXvxxpZ_1YCB"
   },
   "outputs": [],
   "source": [
    " df_score_temp = pd.DataFrame(score_arr)"
   ]
  },
  {
   "cell_type": "code",
   "execution_count": null,
   "metadata": {
    "id": "nr9HqJU9FaTL"
   },
   "outputs": [],
   "source": [
    "df_score_temp['Ref Item ID'] = ref_item_id"
   ]
  },
  {
   "cell_type": "code",
   "execution_count": null,
   "metadata": {
    "id": "Uh5TCk6dFaV6"
   },
   "outputs": [],
   "source": [
    "df_score_rank= pd.melt(df_score_temp,\n",
    "                  id_vars = ['Ref Item ID'],\n",
    "                  var_name = ['Item Rank'],\n",
    "                  value_name = 'Score')"
   ]
  },
  {
   "cell_type": "code",
   "execution_count": null,
   "metadata": {
    "colab": {
     "base_uri": "https://localhost:8080/",
     "height": 676
    },
    "id": "iFZ0D2t7FaYh",
    "outputId": "05198110-39aa-4129-e558-243384b6a69b"
   },
   "outputs": [],
   "source": [
    "df_score_rank.sort_values(['Ref Item ID','Item Rank']).head(20)"
   ]
  },
  {
   "cell_type": "code",
   "execution_count": null,
   "metadata": {
    "id": "UdAmDnDXFaa2"
   },
   "outputs": [],
   "source": [
    "df_item_score = df_item_rank.merge(df_score_rank,\n",
    "                                   how='inner',\n",
    "                                   on=['Ref Item ID','Item Rank'])"
   ]
  },
  {
   "cell_type": "code",
   "execution_count": null,
   "metadata": {
    "id": "EKR_W2cdFadd"
   },
   "outputs": [],
   "source": [
    "df_item_score.sort_values(['Ref Item ID','Item Rank'],\n",
    "                          inplace=True)"
   ]
  },
  {
   "cell_type": "code",
   "execution_count": null,
   "metadata": {
    "colab": {
     "base_uri": "https://localhost:8080/",
     "height": 676
    },
    "id": "-Ex3byMKGrXW",
    "outputId": "34e9c21a-d19d-494a-b943-ab7d77818df8"
   },
   "outputs": [],
   "source": [
    "df_item_score.head(20)"
   ]
  },
  {
   "cell_type": "code",
   "execution_count": null,
   "metadata": {
    "id": "v2wpMfeNWRwv"
   },
   "outputs": [],
   "source": [
    "df_item_desc = df_filter_cust_item[['item_id','StockCode', 'Description']].copy()"
   ]
  },
  {
   "cell_type": "code",
   "execution_count": null,
   "metadata": {
    "id": "wvHBQ5I4WR0D"
   },
   "outputs": [],
   "source": [
    "df_similar_item_temp = df_item_score.merge(df_item_desc,\n",
    "                    how=\"left\",\n",
    "                    left_on=\"Ref Item ID\",\n",
    "                    right_on=\"item_id\")"
   ]
  },
  {
   "cell_type": "code",
   "execution_count": null,
   "metadata": {
    "id": "u-i8zEiDWR4z"
   },
   "outputs": [],
   "source": [
    "df_similar_item_temp.drop(columns=['item_id'], inplace=True)"
   ]
  },
  {
   "cell_type": "code",
   "execution_count": null,
   "metadata": {
    "id": "ImKZ63_bYd1I"
   },
   "outputs": [],
   "source": [
    "df_similar_item_temp.columns = ['Ref Item ID', 'Item Rank', \n",
    "                                'Related Item ID', 'Score', \n",
    "                                'Ref_StockCode','Ref_Description']"
   ]
  },
  {
   "cell_type": "code",
   "execution_count": null,
   "metadata": {},
   "outputs": [],
   "source": [
    "df_similar_item_temp.shape"
   ]
  },
  {
   "cell_type": "code",
   "execution_count": null,
   "metadata": {},
   "outputs": [],
   "source": [
    "df_similar_item_temp.head()"
   ]
  },
  {
   "cell_type": "code",
   "execution_count": null,
   "metadata": {
    "id": "vSFwjXGnWR8-"
   },
   "outputs": [],
   "source": [
    "df_similar_item = df_similar_item_temp.merge(df_item_desc,\n",
    "                    how=\"left\",\n",
    "                    left_on=\"Related Item ID\",\n",
    "                    right_on=\"item_id\")"
   ]
  },
  {
   "cell_type": "code",
   "execution_count": null,
   "metadata": {
    "id": "Be7xsxvGWSUB"
   },
   "outputs": [],
   "source": [
    "df_similar_item.drop(columns=['item_id'], inplace=True)\n"
   ]
  },
  {
   "cell_type": "code",
   "execution_count": null,
   "metadata": {
    "id": "f1RsVXCEWSWq"
   },
   "outputs": [],
   "source": [
    "df_similar_item_temp.columns"
   ]
  },
  {
   "cell_type": "code",
   "execution_count": null,
   "metadata": {
    "id": "EvkYDQBYWSau"
   },
   "outputs": [],
   "source": []
  },
  {
   "cell_type": "code",
   "execution_count": null,
   "metadata": {
    "id": "v8qfKz6RWM7y"
   },
   "outputs": [],
   "source": []
  }
 ],
 "metadata": {
  "colab": {
   "provenance": []
  },
  "kernelspec": {
   "display_name": "Python [conda env:pytorch_env]",
   "language": "python",
   "name": "conda-env-pytorch_env-py"
  },
  "language_info": {
   "codemirror_mode": {
    "name": "ipython",
    "version": 3
   },
   "file_extension": ".py",
   "mimetype": "text/x-python",
   "name": "python",
   "nbconvert_exporter": "python",
   "pygments_lexer": "ipython3",
   "version": "3.10.4"
  },
  "toc": {
   "base_numbering": 1,
   "nav_menu": {},
   "number_sections": true,
   "sideBar": true,
   "skip_h1_title": false,
   "title_cell": "Table of Contents",
   "title_sidebar": "Contents",
   "toc_cell": false,
   "toc_position": {},
   "toc_section_display": true,
   "toc_window_display": false
  },
  "widgets": {
   "application/vnd.jupyter.widget-state+json": {
    "0c9797759ed4408fa0a4eec2b26dd88d": {
     "model_module": "@jupyter-widgets/base",
     "model_module_version": "1.2.0",
     "model_name": "LayoutModel",
     "state": {
      "_model_module": "@jupyter-widgets/base",
      "_model_module_version": "1.2.0",
      "_model_name": "LayoutModel",
      "_view_count": null,
      "_view_module": "@jupyter-widgets/base",
      "_view_module_version": "1.2.0",
      "_view_name": "LayoutView",
      "align_content": null,
      "align_items": null,
      "align_self": null,
      "border": null,
      "bottom": null,
      "display": null,
      "flex": null,
      "flex_flow": null,
      "grid_area": null,
      "grid_auto_columns": null,
      "grid_auto_flow": null,
      "grid_auto_rows": null,
      "grid_column": null,
      "grid_gap": null,
      "grid_row": null,
      "grid_template_areas": null,
      "grid_template_columns": null,
      "grid_template_rows": null,
      "height": null,
      "justify_content": null,
      "justify_items": null,
      "left": null,
      "margin": null,
      "max_height": null,
      "max_width": null,
      "min_height": null,
      "min_width": null,
      "object_fit": null,
      "object_position": null,
      "order": null,
      "overflow": null,
      "overflow_x": null,
      "overflow_y": null,
      "padding": null,
      "right": null,
      "top": null,
      "visibility": null,
      "width": null
     }
    },
    "33517a04cde24bb488f7252b24df386a": {
     "model_module": "@jupyter-widgets/controls",
     "model_module_version": "1.5.0",
     "model_name": "ProgressStyleModel",
     "state": {
      "_model_module": "@jupyter-widgets/controls",
      "_model_module_version": "1.5.0",
      "_model_name": "ProgressStyleModel",
      "_view_count": null,
      "_view_module": "@jupyter-widgets/base",
      "_view_module_version": "1.2.0",
      "_view_name": "StyleView",
      "bar_color": null,
      "description_width": ""
     }
    },
    "3ea04febc19d48b28d00a628c0afba3f": {
     "model_module": "@jupyter-widgets/base",
     "model_module_version": "1.2.0",
     "model_name": "LayoutModel",
     "state": {
      "_model_module": "@jupyter-widgets/base",
      "_model_module_version": "1.2.0",
      "_model_name": "LayoutModel",
      "_view_count": null,
      "_view_module": "@jupyter-widgets/base",
      "_view_module_version": "1.2.0",
      "_view_name": "LayoutView",
      "align_content": null,
      "align_items": null,
      "align_self": null,
      "border": null,
      "bottom": null,
      "display": null,
      "flex": null,
      "flex_flow": null,
      "grid_area": null,
      "grid_auto_columns": null,
      "grid_auto_flow": null,
      "grid_auto_rows": null,
      "grid_column": null,
      "grid_gap": null,
      "grid_row": null,
      "grid_template_areas": null,
      "grid_template_columns": null,
      "grid_template_rows": null,
      "height": null,
      "justify_content": null,
      "justify_items": null,
      "left": null,
      "margin": null,
      "max_height": null,
      "max_width": null,
      "min_height": null,
      "min_width": null,
      "object_fit": null,
      "object_position": null,
      "order": null,
      "overflow": null,
      "overflow_x": null,
      "overflow_y": null,
      "padding": null,
      "right": null,
      "top": null,
      "visibility": null,
      "width": null
     }
    },
    "4769c46a72384094a14308a5d6f5640e": {
     "model_module": "@jupyter-widgets/base",
     "model_module_version": "1.2.0",
     "model_name": "LayoutModel",
     "state": {
      "_model_module": "@jupyter-widgets/base",
      "_model_module_version": "1.2.0",
      "_model_name": "LayoutModel",
      "_view_count": null,
      "_view_module": "@jupyter-widgets/base",
      "_view_module_version": "1.2.0",
      "_view_name": "LayoutView",
      "align_content": null,
      "align_items": null,
      "align_self": null,
      "border": null,
      "bottom": null,
      "display": null,
      "flex": null,
      "flex_flow": null,
      "grid_area": null,
      "grid_auto_columns": null,
      "grid_auto_flow": null,
      "grid_auto_rows": null,
      "grid_column": null,
      "grid_gap": null,
      "grid_row": null,
      "grid_template_areas": null,
      "grid_template_columns": null,
      "grid_template_rows": null,
      "height": null,
      "justify_content": null,
      "justify_items": null,
      "left": null,
      "margin": null,
      "max_height": null,
      "max_width": null,
      "min_height": null,
      "min_width": null,
      "object_fit": null,
      "object_position": null,
      "order": null,
      "overflow": null,
      "overflow_x": null,
      "overflow_y": null,
      "padding": null,
      "right": null,
      "top": null,
      "visibility": null,
      "width": null
     }
    },
    "4f0fe547cc174fbc84fe672471a74090": {
     "model_module": "@jupyter-widgets/controls",
     "model_module_version": "1.5.0",
     "model_name": "DescriptionStyleModel",
     "state": {
      "_model_module": "@jupyter-widgets/controls",
      "_model_module_version": "1.5.0",
      "_model_name": "DescriptionStyleModel",
      "_view_count": null,
      "_view_module": "@jupyter-widgets/base",
      "_view_module_version": "1.2.0",
      "_view_name": "StyleView",
      "description_width": ""
     }
    },
    "6fc46fc360db40458a8e8a5b5eef0c92": {
     "model_module": "@jupyter-widgets/controls",
     "model_module_version": "1.5.0",
     "model_name": "DescriptionStyleModel",
     "state": {
      "_model_module": "@jupyter-widgets/controls",
      "_model_module_version": "1.5.0",
      "_model_name": "DescriptionStyleModel",
      "_view_count": null,
      "_view_module": "@jupyter-widgets/base",
      "_view_module_version": "1.2.0",
      "_view_name": "StyleView",
      "description_width": ""
     }
    },
    "a8cbc1120ff94faf8b91a689921e2bf8": {
     "model_module": "@jupyter-widgets/controls",
     "model_module_version": "1.5.0",
     "model_name": "FloatProgressModel",
     "state": {
      "_dom_classes": [],
      "_model_module": "@jupyter-widgets/controls",
      "_model_module_version": "1.5.0",
      "_model_name": "FloatProgressModel",
      "_view_count": null,
      "_view_module": "@jupyter-widgets/controls",
      "_view_module_version": "1.5.0",
      "_view_name": "ProgressView",
      "bar_style": "success",
      "description": "",
      "description_tooltip": null,
      "layout": "IPY_MODEL_0c9797759ed4408fa0a4eec2b26dd88d",
      "max": 15,
      "min": 0,
      "orientation": "horizontal",
      "style": "IPY_MODEL_33517a04cde24bb488f7252b24df386a",
      "value": 15
     }
    },
    "b334cc0424034e7c868a2dc954b2b92b": {
     "model_module": "@jupyter-widgets/base",
     "model_module_version": "1.2.0",
     "model_name": "LayoutModel",
     "state": {
      "_model_module": "@jupyter-widgets/base",
      "_model_module_version": "1.2.0",
      "_model_name": "LayoutModel",
      "_view_count": null,
      "_view_module": "@jupyter-widgets/base",
      "_view_module_version": "1.2.0",
      "_view_name": "LayoutView",
      "align_content": null,
      "align_items": null,
      "align_self": null,
      "border": null,
      "bottom": null,
      "display": null,
      "flex": null,
      "flex_flow": null,
      "grid_area": null,
      "grid_auto_columns": null,
      "grid_auto_flow": null,
      "grid_auto_rows": null,
      "grid_column": null,
      "grid_gap": null,
      "grid_row": null,
      "grid_template_areas": null,
      "grid_template_columns": null,
      "grid_template_rows": null,
      "height": null,
      "justify_content": null,
      "justify_items": null,
      "left": null,
      "margin": null,
      "max_height": null,
      "max_width": null,
      "min_height": null,
      "min_width": null,
      "object_fit": null,
      "object_position": null,
      "order": null,
      "overflow": null,
      "overflow_x": null,
      "overflow_y": null,
      "padding": null,
      "right": null,
      "top": null,
      "visibility": null,
      "width": null
     }
    },
    "d031940603e643868034e14a7354de32": {
     "model_module": "@jupyter-widgets/controls",
     "model_module_version": "1.5.0",
     "model_name": "HBoxModel",
     "state": {
      "_dom_classes": [],
      "_model_module": "@jupyter-widgets/controls",
      "_model_module_version": "1.5.0",
      "_model_name": "HBoxModel",
      "_view_count": null,
      "_view_module": "@jupyter-widgets/controls",
      "_view_module_version": "1.5.0",
      "_view_name": "HBoxView",
      "box_style": "",
      "children": [
       "IPY_MODEL_d4279fdc9925487c93b026f3116024f3",
       "IPY_MODEL_a8cbc1120ff94faf8b91a689921e2bf8",
       "IPY_MODEL_ec59761392a34618b56774eee32b6281"
      ],
      "layout": "IPY_MODEL_b334cc0424034e7c868a2dc954b2b92b"
     }
    },
    "d4279fdc9925487c93b026f3116024f3": {
     "model_module": "@jupyter-widgets/controls",
     "model_module_version": "1.5.0",
     "model_name": "HTMLModel",
     "state": {
      "_dom_classes": [],
      "_model_module": "@jupyter-widgets/controls",
      "_model_module_version": "1.5.0",
      "_model_name": "HTMLModel",
      "_view_count": null,
      "_view_module": "@jupyter-widgets/controls",
      "_view_module_version": "1.5.0",
      "_view_name": "HTMLView",
      "description": "",
      "description_tooltip": null,
      "layout": "IPY_MODEL_4769c46a72384094a14308a5d6f5640e",
      "placeholder": "​",
      "style": "IPY_MODEL_4f0fe547cc174fbc84fe672471a74090",
      "value": "100%"
     }
    },
    "ec59761392a34618b56774eee32b6281": {
     "model_module": "@jupyter-widgets/controls",
     "model_module_version": "1.5.0",
     "model_name": "HTMLModel",
     "state": {
      "_dom_classes": [],
      "_model_module": "@jupyter-widgets/controls",
      "_model_module_version": "1.5.0",
      "_model_name": "HTMLModel",
      "_view_count": null,
      "_view_module": "@jupyter-widgets/controls",
      "_view_module_version": "1.5.0",
      "_view_name": "HTMLView",
      "description": "",
      "description_tooltip": null,
      "layout": "IPY_MODEL_3ea04febc19d48b28d00a628c0afba3f",
      "placeholder": "​",
      "style": "IPY_MODEL_6fc46fc360db40458a8e8a5b5eef0c92",
      "value": " 15/15 [00:09&lt;00:00,  1.17it/s]"
     }
    }
   }
  }
 },
 "nbformat": 4,
 "nbformat_minor": 1
}
