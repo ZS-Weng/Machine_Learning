{
 "cells": [
  {
   "cell_type": "markdown",
   "metadata": {},
   "source": [
    "## Introduction\n",
    "\n",
    "- This is a concise notebook on running the implicit library\n",
    "- Data can be found from the following link: https://archive.ics.uci.edu/ml/datasets/online+retail\n",
    "- More details can be found in the medium article: https://medium.com/@zaishanweng/quick-start-guide-to-build-a-collaborative-filtering-recommendation-system-with-implicit-library-in-c5e79e35dfb8"
   ]
  },
  {
   "cell_type": "code",
   "execution_count": 1,
   "metadata": {
    "colab": {
     "base_uri": "https://localhost:8080/"
    },
    "id": "A5sWS2S6afV_",
    "outputId": "bcc2b4a5-8f5e-43e5-c4d6-de1c45f41b8b"
   },
   "outputs": [],
   "source": [
    "import pandas as pd\n",
    "import numpy as np\n",
    "import implicit\n",
    "import scipy.sparse as sparse"
   ]
  },
  {
   "cell_type": "code",
   "execution_count": 2,
   "metadata": {
    "id": "CoraciRlaodE"
   },
   "outputs": [],
   "source": [
    "# Read in dataset\n",
    "df_raw = pd.read_excel(\"./data/Online Retail.xlsx\")"
   ]
  },
  {
   "cell_type": "code",
   "execution_count": 3,
   "metadata": {
    "colab": {
     "base_uri": "https://localhost:8080/"
    },
    "id": "Blrdnp4CAL7q",
    "outputId": "234be418-8028-49a8-95d1-ea9230884d6c"
   },
   "outputs": [
    {
     "name": "stdout",
     "output_type": "stream",
     "text": [
      "<class 'pandas.core.frame.DataFrame'>\n",
      "RangeIndex: 541909 entries, 0 to 541908\n",
      "Data columns (total 8 columns):\n",
      " #   Column       Non-Null Count   Dtype         \n",
      "---  ------       --------------   -----         \n",
      " 0   InvoiceNo    541909 non-null  object        \n",
      " 1   StockCode    541909 non-null  object        \n",
      " 2   Description  540455 non-null  object        \n",
      " 3   Quantity     541909 non-null  int64         \n",
      " 4   InvoiceDate  541909 non-null  datetime64[ns]\n",
      " 5   UnitPrice    541909 non-null  float64       \n",
      " 6   CustomerID   406829 non-null  float64       \n",
      " 7   Country      541909 non-null  object        \n",
      "dtypes: datetime64[ns](1), float64(2), int64(1), object(4)\n",
      "memory usage: 33.1+ MB\n"
     ]
    }
   ],
   "source": [
    "df_raw.info()"
   ]
  },
  {
   "cell_type": "code",
   "execution_count": 4,
   "metadata": {
    "id": "ske4ExspeQIY"
   },
   "outputs": [],
   "source": [
    "# Dropping records with no CustomerID\n",
    "df_raw.dropna(subset=[\"CustomerID\"], inplace=True)"
   ]
  },
  {
   "cell_type": "code",
   "execution_count": 5,
   "metadata": {
    "id": "HQaPVj_jk3MU"
   },
   "outputs": [],
   "source": [
    "df_raw[\"CustomerID\"] = df_raw[\"CustomerID\"].astype(\"int64\")\n",
    "df_raw[\"StockCode\"] = df_raw[\"StockCode\"].astype(\"str\")"
   ]
  },
  {
   "cell_type": "code",
   "execution_count": 6,
   "metadata": {
    "id": "O72FzRM1lYJp"
   },
   "outputs": [],
   "source": [
    "df_raw[\"Sales\"] = df_raw[\"Quantity\"] * df_raw[\"UnitPrice\"]"
   ]
  },
  {
   "cell_type": "code",
   "execution_count": 7,
   "metadata": {
    "colab": {
     "base_uri": "https://localhost:8080/"
    },
    "id": "3HU39F0Edmli",
    "outputId": "d6a4edff-3eb5-4620-8976-469936754afc"
   },
   "outputs": [
    {
     "name": "stdout",
     "output_type": "stream",
     "text": [
      "<class 'pandas.core.frame.DataFrame'>\n",
      "Int64Index: 406829 entries, 0 to 541908\n",
      "Data columns (total 9 columns):\n",
      " #   Column       Non-Null Count   Dtype         \n",
      "---  ------       --------------   -----         \n",
      " 0   InvoiceNo    406829 non-null  object        \n",
      " 1   StockCode    406829 non-null  object        \n",
      " 2   Description  406829 non-null  object        \n",
      " 3   Quantity     406829 non-null  int64         \n",
      " 4   InvoiceDate  406829 non-null  datetime64[ns]\n",
      " 5   UnitPrice    406829 non-null  float64       \n",
      " 6   CustomerID   406829 non-null  int64         \n",
      " 7   Country      406829 non-null  object        \n",
      " 8   Sales        406829 non-null  float64       \n",
      "dtypes: datetime64[ns](1), float64(2), int64(2), object(4)\n",
      "memory usage: 31.0+ MB\n"
     ]
    }
   ],
   "source": [
    "df_raw.info()"
   ]
  },
  {
   "cell_type": "markdown",
   "metadata": {
    "id": "7Jj33HpYEoXf"
   },
   "source": [
    "## Filter out records on for Customers who bought more than n items"
   ]
  },
  {
   "cell_type": "code",
   "execution_count": 8,
   "metadata": {
    "id": "nCHpUysXuOgu"
   },
   "outputs": [],
   "source": [
    "df_items_per_cust = (\n",
    "    df_raw.groupby([\"CustomerID\"]).agg({\"StockCode\": \"nunique\"}).reset_index()\n",
    ")"
   ]
  },
  {
   "cell_type": "code",
   "execution_count": 9,
   "metadata": {
    "id": "YXo-JhGHBCr-"
   },
   "outputs": [],
   "source": [
    "df_items_per_cust.columns = [\"CustomerID\", \"Count_item_cust\"]"
   ]
  },
  {
   "cell_type": "code",
   "execution_count": 10,
   "metadata": {
    "id": "K9dfIyP_BNKk"
   },
   "outputs": [],
   "source": [
    "# Setting of Threshold\n",
    "item_in_cust_threshold = 6"
   ]
  },
  {
   "cell_type": "code",
   "execution_count": 11,
   "metadata": {
    "id": "aBRWlTbnyMed"
   },
   "outputs": [],
   "source": [
    "# Filtering Results\n",
    "mask = df_items_per_cust[\"Count_item_cust\"] >= item_in_cust_threshold\n",
    "valid_cust = set(df_items_per_cust.loc[mask, \"CustomerID\"].tolist())"
   ]
  },
  {
   "cell_type": "code",
   "execution_count": 12,
   "metadata": {
    "id": "sJ31w-XbD2oE"
   },
   "outputs": [],
   "source": [
    "df_filter_cust = df_raw[df_raw[\"CustomerID\"].isin(valid_cust)].copy()"
   ]
  },
  {
   "cell_type": "code",
   "execution_count": 13,
   "metadata": {
    "id": "bXYZesQeyRA0"
   },
   "outputs": [],
   "source": [
    "invoiceno_filter_cust = set(df_filter_cust[\"InvoiceNo\"].tolist())"
   ]
  },
  {
   "cell_type": "markdown",
   "metadata": {
    "id": "D57DRfzVE87W"
   },
   "source": [
    "## Filter out items only for those that are bought by multiple customers"
   ]
  },
  {
   "cell_type": "code",
   "execution_count": 14,
   "metadata": {
    "id": "58wD_YMtFGsn"
   },
   "outputs": [],
   "source": [
    "df_custs_per_item = (\n",
    "    df_raw.groupby([\"StockCode\"]).agg({\"CustomerID\": \"nunique\"}).reset_index()\n",
    ")"
   ]
  },
  {
   "cell_type": "code",
   "execution_count": 15,
   "metadata": {
    "id": "84bDeuyAFGyn"
   },
   "outputs": [],
   "source": [
    "df_custs_per_item.columns = [\"StockCode\", \"Count_cust_item\"]"
   ]
  },
  {
   "cell_type": "code",
   "execution_count": 16,
   "metadata": {
    "colab": {
     "base_uri": "https://localhost:8080/"
    },
    "id": "sjp8dddPFgYH",
    "outputId": "8abc905f-0fec-4134-f739-797c339e2174"
   },
   "outputs": [
    {
     "data": {
      "text/plain": [
       "1      189\n",
       "2      145\n",
       "3      116\n",
       "6       83\n",
       "5       81\n",
       "      ... \n",
       "407      1\n",
       "274      1\n",
       "319      1\n",
       "256      1\n",
       "379      1\n",
       "Name: Count_cust_item, Length: 379, dtype: int64"
      ]
     },
     "execution_count": 16,
     "metadata": {},
     "output_type": "execute_result"
    }
   ],
   "source": [
    "df_custs_per_item[\"Count_cust_item\"].value_counts()"
   ]
  },
  {
   "cell_type": "code",
   "execution_count": 17,
   "metadata": {
    "id": "Q3fs2BmOFggP"
   },
   "outputs": [],
   "source": [
    "# Set threshold\n",
    "cust_in_item_threshold = 6"
   ]
  },
  {
   "cell_type": "code",
   "execution_count": 18,
   "metadata": {
    "id": "ce2t_9s1ymOD"
   },
   "outputs": [],
   "source": [
    "# Filter Results\n",
    "mask = df_custs_per_item[\"Count_cust_item\"] >= cust_in_item_threshold\n",
    "valid_stockcode = set(df_custs_per_item.loc[mask, \"StockCode\"].tolist())"
   ]
  },
  {
   "cell_type": "code",
   "execution_count": 19,
   "metadata": {
    "id": "0WPfiiU_GOCQ"
   },
   "outputs": [],
   "source": [
    "df_filter_item = df_raw[df_raw[\"StockCode\"].isin(valid_stockcode)].copy()"
   ]
  },
  {
   "cell_type": "code",
   "execution_count": 20,
   "metadata": {
    "id": "K71Gid3Ay_nA"
   },
   "outputs": [],
   "source": [
    "invoiceno_filter_item = set(df_filter_item[\"InvoiceNo\"].tolist())"
   ]
  },
  {
   "cell_type": "code",
   "execution_count": 21,
   "metadata": {
    "id": "Rzf9wIZgzPTM"
   },
   "outputs": [],
   "source": [
    "invoiceno_intersect = set.intersection(invoiceno_filter_item, invoiceno_filter_cust)"
   ]
  },
  {
   "cell_type": "code",
   "execution_count": 22,
   "metadata": {
    "colab": {
     "base_uri": "https://localhost:8080/"
    },
    "id": "4e6vVFGKGOJn",
    "outputId": "16cb2227-89b6-4be8-cf36-da7dc5c81220"
   },
   "outputs": [
    {
     "name": "stdout",
     "output_type": "stream",
     "text": [
      "No. of invoice after filtering customer: 21604\n",
      "No. of invoice after filtering item: 22136\n",
      "No. of invoice from intersect: 21557\n"
     ]
    }
   ],
   "source": [
    "print(f\"No. of invoice after filtering customer: {len(invoiceno_filter_cust)}\")\n",
    "print(f\"No. of invoice after filtering item: {len(invoiceno_filter_item)}\")\n",
    "print(f\"No. of invoice from intersect: {len(invoiceno_intersect)}\")"
   ]
  },
  {
   "cell_type": "code",
   "execution_count": 23,
   "metadata": {
    "id": "zooqgQiPGOMR"
   },
   "outputs": [],
   "source": [
    "df_filter_cust_item = df_raw[df_raw[\"InvoiceNo\"].isin(invoiceno_intersect)].copy()"
   ]
  },
  {
   "cell_type": "code",
   "execution_count": 24,
   "metadata": {
    "colab": {
     "base_uri": "https://localhost:8080/"
    },
    "id": "w8fncnQd0pdx",
    "outputId": "95372668-0504-4568-fd18-04b997b8cf2b"
   },
   "outputs": [
    {
     "name": "stdout",
     "output_type": "stream",
     "text": [
      "<class 'pandas.core.frame.DataFrame'>\n",
      "Int64Index: 405521 entries, 0 to 541908\n",
      "Data columns (total 9 columns):\n",
      " #   Column       Non-Null Count   Dtype         \n",
      "---  ------       --------------   -----         \n",
      " 0   InvoiceNo    405521 non-null  object        \n",
      " 1   StockCode    405521 non-null  object        \n",
      " 2   Description  405521 non-null  object        \n",
      " 3   Quantity     405521 non-null  int64         \n",
      " 4   InvoiceDate  405521 non-null  datetime64[ns]\n",
      " 5   UnitPrice    405521 non-null  float64       \n",
      " 6   CustomerID   405521 non-null  int64         \n",
      " 7   Country      405521 non-null  object        \n",
      " 8   Sales        405521 non-null  float64       \n",
      "dtypes: datetime64[ns](1), float64(2), int64(2), object(4)\n",
      "memory usage: 30.9+ MB\n"
     ]
    }
   ],
   "source": [
    "df_filter_cust_item.info()"
   ]
  },
  {
   "cell_type": "markdown",
   "metadata": {
    "id": "TUtZKQFPbpQK"
   },
   "source": [
    "## Apply Collaborative Filtering with Implicit LIbrary"
   ]
  },
  {
   "cell_type": "code",
   "execution_count": 25,
   "metadata": {
    "id": "kmuSG55pb6t7"
   },
   "outputs": [],
   "source": [
    "unique_customers = df_filter_cust_item[\"CustomerID\"].unique()\n",
    "cust_ids = dict(\n",
    "    zip(unique_customers, np.arange(unique_customers.shape[0], dtype=np.int32))\n",
    ")\n",
    "\n",
    "unique_items = df_filter_cust_item[\"StockCode\"].unique()\n",
    "item_ids = dict(zip(unique_items, np.arange(unique_items.shape[0], dtype=np.int32)))\n",
    "\n",
    "df_filter_cust_item[\"cust_id\"] = df_filter_cust_item[\"CustomerID\"].apply(\n",
    "    lambda i: cust_ids[i]\n",
    ")\n",
    "df_filter_cust_item[\"item_id\"] = df_filter_cust_item[\"StockCode\"].apply(\n",
    "    lambda i: item_ids[i]\n",
    ")"
   ]
  },
  {
   "cell_type": "code",
   "execution_count": 26,
   "metadata": {
    "colab": {
     "base_uri": "https://localhost:8080/"
    },
    "id": "NytFLFqkdgTi",
    "outputId": "65e76082-5666-46dc-9c10-686f963b9dc2"
   },
   "outputs": [
    {
     "name": "stdout",
     "output_type": "stream",
     "text": [
      "4017, 3671\n"
     ]
    }
   ],
   "source": [
    "print(f\"{len(cust_ids)}, {len(item_ids)}\")"
   ]
  },
  {
   "cell_type": "code",
   "execution_count": 27,
   "metadata": {
    "colab": {
     "base_uri": "https://localhost:8080/",
     "height": 407
    },
    "id": "olA-y-xLkjuV",
    "outputId": "cba2733a-bdf6-4df7-b3e1-a580530e4076"
   },
   "outputs": [
    {
     "data": {
      "text/html": [
       "<div>\n",
       "<style scoped>\n",
       "    .dataframe tbody tr th:only-of-type {\n",
       "        vertical-align: middle;\n",
       "    }\n",
       "\n",
       "    .dataframe tbody tr th {\n",
       "        vertical-align: top;\n",
       "    }\n",
       "\n",
       "    .dataframe thead th {\n",
       "        text-align: right;\n",
       "    }\n",
       "</style>\n",
       "<table border=\"1\" class=\"dataframe\">\n",
       "  <thead>\n",
       "    <tr style=\"text-align: right;\">\n",
       "      <th></th>\n",
       "      <th>InvoiceNo</th>\n",
       "      <th>StockCode</th>\n",
       "      <th>Description</th>\n",
       "      <th>Quantity</th>\n",
       "      <th>InvoiceDate</th>\n",
       "      <th>UnitPrice</th>\n",
       "      <th>CustomerID</th>\n",
       "      <th>Country</th>\n",
       "      <th>Sales</th>\n",
       "      <th>cust_id</th>\n",
       "      <th>item_id</th>\n",
       "    </tr>\n",
       "  </thead>\n",
       "  <tbody>\n",
       "    <tr>\n",
       "      <th>143930</th>\n",
       "      <td>548714</td>\n",
       "      <td>10002</td>\n",
       "      <td>INFLATABLE POLITICAL GLOBE</td>\n",
       "      <td>2</td>\n",
       "      <td>2011-04-03 15:07:00</td>\n",
       "      <td>0.85</td>\n",
       "      <td>17337</td>\n",
       "      <td>United Kingdom</td>\n",
       "      <td>1.70</td>\n",
       "      <td>1329</td>\n",
       "      <td>31</td>\n",
       "    </tr>\n",
       "    <tr>\n",
       "      <th>160128</th>\n",
       "      <td>550452</td>\n",
       "      <td>10002</td>\n",
       "      <td>INFLATABLE POLITICAL GLOBE</td>\n",
       "      <td>1</td>\n",
       "      <td>2011-04-18 12:56:00</td>\n",
       "      <td>0.85</td>\n",
       "      <td>14525</td>\n",
       "      <td>United Kingdom</td>\n",
       "      <td>0.85</td>\n",
       "      <td>679</td>\n",
       "      <td>31</td>\n",
       "    </tr>\n",
       "    <tr>\n",
       "      <th>5466</th>\n",
       "      <td>536863</td>\n",
       "      <td>10002</td>\n",
       "      <td>INFLATABLE POLITICAL GLOBE</td>\n",
       "      <td>1</td>\n",
       "      <td>2010-12-03 11:19:00</td>\n",
       "      <td>0.85</td>\n",
       "      <td>17967</td>\n",
       "      <td>United Kingdom</td>\n",
       "      <td>0.85</td>\n",
       "      <td>202</td>\n",
       "      <td>31</td>\n",
       "    </tr>\n",
       "    <tr>\n",
       "      <th>75792</th>\n",
       "      <td>542610</td>\n",
       "      <td>10002</td>\n",
       "      <td>INFLATABLE POLITICAL GLOBE</td>\n",
       "      <td>14</td>\n",
       "      <td>2011-01-30 14:05:00</td>\n",
       "      <td>0.85</td>\n",
       "      <td>13148</td>\n",
       "      <td>United Kingdom</td>\n",
       "      <td>11.90</td>\n",
       "      <td>602</td>\n",
       "      <td>31</td>\n",
       "    </tr>\n",
       "    <tr>\n",
       "      <th>20617</th>\n",
       "      <td>538069</td>\n",
       "      <td>10002</td>\n",
       "      <td>INFLATABLE POLITICAL GLOBE</td>\n",
       "      <td>8</td>\n",
       "      <td>2010-12-09 14:08:00</td>\n",
       "      <td>0.85</td>\n",
       "      <td>16795</td>\n",
       "      <td>United Kingdom</td>\n",
       "      <td>6.80</td>\n",
       "      <td>544</td>\n",
       "      <td>31</td>\n",
       "    </tr>\n",
       "    <tr>\n",
       "      <th>21507</th>\n",
       "      <td>538086</td>\n",
       "      <td>10002</td>\n",
       "      <td>INFLATABLE POLITICAL GLOBE</td>\n",
       "      <td>10</td>\n",
       "      <td>2010-12-09 14:44:00</td>\n",
       "      <td>0.85</td>\n",
       "      <td>12872</td>\n",
       "      <td>United Kingdom</td>\n",
       "      <td>8.50</td>\n",
       "      <td>553</td>\n",
       "      <td>31</td>\n",
       "    </tr>\n",
       "    <tr>\n",
       "      <th>21551</th>\n",
       "      <td>538093</td>\n",
       "      <td>10002</td>\n",
       "      <td>INFLATABLE POLITICAL GLOBE</td>\n",
       "      <td>12</td>\n",
       "      <td>2010-12-09 14:49:00</td>\n",
       "      <td>0.85</td>\n",
       "      <td>12682</td>\n",
       "      <td>France</td>\n",
       "      <td>10.20</td>\n",
       "      <td>217</td>\n",
       "      <td>31</td>\n",
       "    </tr>\n",
       "    <tr>\n",
       "      <th>77513</th>\n",
       "      <td>542735</td>\n",
       "      <td>10002</td>\n",
       "      <td>INFLATABLE POLITICAL GLOBE</td>\n",
       "      <td>12</td>\n",
       "      <td>2011-01-31 15:36:00</td>\n",
       "      <td>0.85</td>\n",
       "      <td>12681</td>\n",
       "      <td>France</td>\n",
       "      <td>10.20</td>\n",
       "      <td>380</td>\n",
       "      <td>31</td>\n",
       "    </tr>\n",
       "    <tr>\n",
       "      <th>22380</th>\n",
       "      <td>538167</td>\n",
       "      <td>10002</td>\n",
       "      <td>INFLATABLE POLITICAL GLOBE</td>\n",
       "      <td>12</td>\n",
       "      <td>2010-12-09 18:58:00</td>\n",
       "      <td>0.85</td>\n",
       "      <td>14713</td>\n",
       "      <td>United Kingdom</td>\n",
       "      <td>10.20</td>\n",
       "      <td>575</td>\n",
       "      <td>31</td>\n",
       "    </tr>\n",
       "    <tr>\n",
       "      <th>23275</th>\n",
       "      <td>538196</td>\n",
       "      <td>10002</td>\n",
       "      <td>INFLATABLE POLITICAL GLOBE</td>\n",
       "      <td>36</td>\n",
       "      <td>2010-12-10 10:56:00</td>\n",
       "      <td>0.85</td>\n",
       "      <td>12731</td>\n",
       "      <td>France</td>\n",
       "      <td>30.60</td>\n",
       "      <td>588</td>\n",
       "      <td>31</td>\n",
       "    </tr>\n",
       "  </tbody>\n",
       "</table>\n",
       "</div>"
      ],
      "text/plain": [
       "       InvoiceNo StockCode                  Description  Quantity  \\\n",
       "143930    548714     10002  INFLATABLE POLITICAL GLOBE          2   \n",
       "160128    550452     10002  INFLATABLE POLITICAL GLOBE          1   \n",
       "5466      536863     10002  INFLATABLE POLITICAL GLOBE          1   \n",
       "75792     542610     10002  INFLATABLE POLITICAL GLOBE         14   \n",
       "20617     538069     10002  INFLATABLE POLITICAL GLOBE          8   \n",
       "21507     538086     10002  INFLATABLE POLITICAL GLOBE         10   \n",
       "21551     538093     10002  INFLATABLE POLITICAL GLOBE         12   \n",
       "77513     542735     10002  INFLATABLE POLITICAL GLOBE         12   \n",
       "22380     538167     10002  INFLATABLE POLITICAL GLOBE         12   \n",
       "23275     538196     10002  INFLATABLE POLITICAL GLOBE         36   \n",
       "\n",
       "               InvoiceDate  UnitPrice  CustomerID         Country  Sales  \\\n",
       "143930 2011-04-03 15:07:00       0.85       17337  United Kingdom   1.70   \n",
       "160128 2011-04-18 12:56:00       0.85       14525  United Kingdom   0.85   \n",
       "5466   2010-12-03 11:19:00       0.85       17967  United Kingdom   0.85   \n",
       "75792  2011-01-30 14:05:00       0.85       13148  United Kingdom  11.90   \n",
       "20617  2010-12-09 14:08:00       0.85       16795  United Kingdom   6.80   \n",
       "21507  2010-12-09 14:44:00       0.85       12872  United Kingdom   8.50   \n",
       "21551  2010-12-09 14:49:00       0.85       12682          France  10.20   \n",
       "77513  2011-01-31 15:36:00       0.85       12681          France  10.20   \n",
       "22380  2010-12-09 18:58:00       0.85       14713  United Kingdom  10.20   \n",
       "23275  2010-12-10 10:56:00       0.85       12731          France  30.60   \n",
       "\n",
       "        cust_id  item_id  \n",
       "143930     1329       31  \n",
       "160128      679       31  \n",
       "5466        202       31  \n",
       "75792       602       31  \n",
       "20617       544       31  \n",
       "21507       553       31  \n",
       "21551       217       31  \n",
       "77513       380       31  \n",
       "22380       575       31  \n",
       "23275       588       31  "
      ]
     },
     "execution_count": 27,
     "metadata": {},
     "output_type": "execute_result"
    }
   ],
   "source": [
    "df_filter_cust_item.sort_values(by=[\"StockCode\"], inplace=True)\n",
    "df_filter_cust_item.head(10)"
   ]
  },
  {
   "cell_type": "code",
   "execution_count": 28,
   "metadata": {
    "id": "hwbUihCgx48O"
   },
   "outputs": [],
   "source": [
    "df_cust_item_qty = (\n",
    "    df_filter_cust_item.groupby([\"cust_id\", \"item_id\"])\n",
    "    .agg({\"Quantity\": \"sum\"})\n",
    "    .reset_index()\n",
    ")"
   ]
  },
  {
   "cell_type": "code",
   "execution_count": 29,
   "metadata": {
    "colab": {
     "base_uri": "https://localhost:8080/",
     "height": 206
    },
    "id": "XGABaNXNyOTj",
    "outputId": "4a019c20-b2c2-4b45-94d3-93d1e175729a"
   },
   "outputs": [
    {
     "data": {
      "text/html": [
       "<div>\n",
       "<style scoped>\n",
       "    .dataframe tbody tr th:only-of-type {\n",
       "        vertical-align: middle;\n",
       "    }\n",
       "\n",
       "    .dataframe tbody tr th {\n",
       "        vertical-align: top;\n",
       "    }\n",
       "\n",
       "    .dataframe thead th {\n",
       "        text-align: right;\n",
       "    }\n",
       "</style>\n",
       "<table border=\"1\" class=\"dataframe\">\n",
       "  <thead>\n",
       "    <tr style=\"text-align: right;\">\n",
       "      <th></th>\n",
       "      <th>cust_id</th>\n",
       "      <th>item_id</th>\n",
       "      <th>Quantity</th>\n",
       "    </tr>\n",
       "  </thead>\n",
       "  <tbody>\n",
       "    <tr>\n",
       "      <th>0</th>\n",
       "      <td>0</td>\n",
       "      <td>0</td>\n",
       "      <td>122</td>\n",
       "    </tr>\n",
       "    <tr>\n",
       "      <th>1</th>\n",
       "      <td>0</td>\n",
       "      <td>1</td>\n",
       "      <td>122</td>\n",
       "    </tr>\n",
       "    <tr>\n",
       "      <th>2</th>\n",
       "      <td>0</td>\n",
       "      <td>2</td>\n",
       "      <td>108</td>\n",
       "    </tr>\n",
       "    <tr>\n",
       "      <th>3</th>\n",
       "      <td>0</td>\n",
       "      <td>3</td>\n",
       "      <td>110</td>\n",
       "    </tr>\n",
       "    <tr>\n",
       "      <th>4</th>\n",
       "      <td>0</td>\n",
       "      <td>4</td>\n",
       "      <td>104</td>\n",
       "    </tr>\n",
       "  </tbody>\n",
       "</table>\n",
       "</div>"
      ],
      "text/plain": [
       "   cust_id  item_id  Quantity\n",
       "0        0        0       122\n",
       "1        0        1       122\n",
       "2        0        2       108\n",
       "3        0        3       110\n",
       "4        0        4       104"
      ]
     },
     "execution_count": 29,
     "metadata": {},
     "output_type": "execute_result"
    }
   ],
   "source": [
    "df_cust_item_qty.head()"
   ]
  },
  {
   "cell_type": "code",
   "execution_count": 30,
   "metadata": {
    "id": "73ZvqkhfuY6k"
   },
   "outputs": [],
   "source": [
    "# Create Sparse Matrix\n",
    "\n",
    "sparse_customer_item = sparse.csr_matrix(\n",
    "    (\n",
    "        df_cust_item_qty[\"Quantity\"].astype(float),\n",
    "        (df_cust_item_qty[\"cust_id\"], df_cust_item_qty[\"item_id\"]),\n",
    "    )\n",
    ")"
   ]
  },
  {
   "cell_type": "code",
   "execution_count": 31,
   "metadata": {
    "colab": {
     "base_uri": "https://localhost:8080/"
    },
    "id": "AkoztbIZti-l",
    "outputId": "47e2f357-8344-477f-9dde-5f0899700fbc"
   },
   "outputs": [
    {
     "data": {
      "text/plain": [
       "<4017x3671 sparse matrix of type '<class 'numpy.float64'>'\n",
       "\twith 266596 stored elements in Compressed Sparse Row format>"
      ]
     },
     "execution_count": 31,
     "metadata": {},
     "output_type": "execute_result"
    }
   ],
   "source": [
    "sparse_customer_item"
   ]
  },
  {
   "cell_type": "code",
   "execution_count": 32,
   "metadata": {
    "colab": {
     "base_uri": "https://localhost:8080/"
    },
    "id": "rcVYG4m4t7C5",
    "outputId": "5577cd4d-f251-4a28-c5f9-0dfcf7161669"
   },
   "outputs": [],
   "source": [
    "model = implicit.als.AlternatingLeastSquares(num_threads=1)"
   ]
  },
  {
   "cell_type": "code",
   "execution_count": 33,
   "metadata": {
    "colab": {
     "base_uri": "https://localhost:8080/",
     "height": 49,
     "referenced_widgets": [
      "d031940603e643868034e14a7354de32",
      "d4279fdc9925487c93b026f3116024f3",
      "a8cbc1120ff94faf8b91a689921e2bf8",
      "ec59761392a34618b56774eee32b6281",
      "b334cc0424034e7c868a2dc954b2b92b",
      "4769c46a72384094a14308a5d6f5640e",
      "4f0fe547cc174fbc84fe672471a74090",
      "0c9797759ed4408fa0a4eec2b26dd88d",
      "33517a04cde24bb488f7252b24df386a",
      "3ea04febc19d48b28d00a628c0afba3f",
      "6fc46fc360db40458a8e8a5b5eef0c92"
     ]
    },
    "id": "pGKc2RRtyoZG",
    "outputId": "f23521fd-ad17-4689-8efe-48da820e519a"
   },
   "outputs": [
    {
     "data": {
      "application/vnd.jupyter.widget-view+json": {
       "model_id": "1adaf1616b124d9988b7f37f6d18ad55",
       "version_major": 2,
       "version_minor": 0
      },
      "text/plain": [
       "  0%|          | 0/15 [00:00<?, ?it/s]"
      ]
     },
     "metadata": {},
     "output_type": "display_data"
    }
   ],
   "source": [
    "model.fit(sparse_customer_item)"
   ]
  },
  {
   "cell_type": "markdown",
   "metadata": {
    "id": "zoFU7x27zPJO"
   },
   "source": [
    "## Generate Similar Items"
   ]
  },
  {
   "cell_type": "code",
   "execution_count": 34,
   "metadata": {
    "id": "JM8UohoozDru"
   },
   "outputs": [],
   "source": [
    "ref_item_id = df_filter_cust_item[\"item_id\"].unique()"
   ]
  },
  {
   "cell_type": "code",
   "execution_count": 35,
   "metadata": {},
   "outputs": [
    {
     "data": {
      "text/plain": [
       "numpy.ndarray"
      ]
     },
     "execution_count": 35,
     "metadata": {},
     "output_type": "execute_result"
    }
   ],
   "source": [
    "type(ref_item_id)"
   ]
  },
  {
   "cell_type": "code",
   "execution_count": 36,
   "metadata": {
    "id": "9xUVMYHdzdmQ"
   },
   "outputs": [],
   "source": [
    "item_arr, score_arr = model.similar_items(ref_item_id, N=10)"
   ]
  },
  {
   "cell_type": "code",
   "execution_count": 37,
   "metadata": {
    "id": "_Enh6DRrzedQ"
   },
   "outputs": [],
   "source": [
    "df_item_temp = pd.DataFrame(item_arr)"
   ]
  },
  {
   "cell_type": "code",
   "execution_count": 38,
   "metadata": {
    "id": "QcQ5Ddm00G1u"
   },
   "outputs": [],
   "source": [
    "df_item_temp[\"Ref Item ID\"] = ref_item_id"
   ]
  },
  {
   "cell_type": "code",
   "execution_count": 39,
   "metadata": {
    "colab": {
     "base_uri": "https://localhost:8080/",
     "height": 206
    },
    "id": "3Wu9eIN0012i",
    "outputId": "99bdc528-29fb-4d49-f690-edfd0754f034"
   },
   "outputs": [
    {
     "data": {
      "text/html": [
       "<div>\n",
       "<style scoped>\n",
       "    .dataframe tbody tr th:only-of-type {\n",
       "        vertical-align: middle;\n",
       "    }\n",
       "\n",
       "    .dataframe tbody tr th {\n",
       "        vertical-align: top;\n",
       "    }\n",
       "\n",
       "    .dataframe thead th {\n",
       "        text-align: right;\n",
       "    }\n",
       "</style>\n",
       "<table border=\"1\" class=\"dataframe\">\n",
       "  <thead>\n",
       "    <tr style=\"text-align: right;\">\n",
       "      <th></th>\n",
       "      <th>0</th>\n",
       "      <th>1</th>\n",
       "      <th>2</th>\n",
       "      <th>3</th>\n",
       "      <th>4</th>\n",
       "      <th>5</th>\n",
       "      <th>6</th>\n",
       "      <th>7</th>\n",
       "      <th>8</th>\n",
       "      <th>9</th>\n",
       "      <th>Ref Item ID</th>\n",
       "    </tr>\n",
       "  </thead>\n",
       "  <tbody>\n",
       "    <tr>\n",
       "      <th>0</th>\n",
       "      <td>31</td>\n",
       "      <td>2830</td>\n",
       "      <td>2915</td>\n",
       "      <td>372</td>\n",
       "      <td>2692</td>\n",
       "      <td>2543</td>\n",
       "      <td>3188</td>\n",
       "      <td>802</td>\n",
       "      <td>2685</td>\n",
       "      <td>2279</td>\n",
       "      <td>31</td>\n",
       "    </tr>\n",
       "    <tr>\n",
       "      <th>1</th>\n",
       "      <td>2761</td>\n",
       "      <td>2296</td>\n",
       "      <td>3143</td>\n",
       "      <td>1002</td>\n",
       "      <td>2309</td>\n",
       "      <td>1810</td>\n",
       "      <td>1659</td>\n",
       "      <td>220</td>\n",
       "      <td>1238</td>\n",
       "      <td>1660</td>\n",
       "      <td>2761</td>\n",
       "    </tr>\n",
       "    <tr>\n",
       "      <th>2</th>\n",
       "      <td>1334</td>\n",
       "      <td>1890</td>\n",
       "      <td>2814</td>\n",
       "      <td>2105</td>\n",
       "      <td>316</td>\n",
       "      <td>2876</td>\n",
       "      <td>1085</td>\n",
       "      <td>2033</td>\n",
       "      <td>3382</td>\n",
       "      <td>2068</td>\n",
       "      <td>1334</td>\n",
       "    </tr>\n",
       "    <tr>\n",
       "      <th>3</th>\n",
       "      <td>1333</td>\n",
       "      <td>2736</td>\n",
       "      <td>2733</td>\n",
       "      <td>2794</td>\n",
       "      <td>2904</td>\n",
       "      <td>3500</td>\n",
       "      <td>2452</td>\n",
       "      <td>3496</td>\n",
       "      <td>3637</td>\n",
       "      <td>2433</td>\n",
       "      <td>1333</td>\n",
       "    </tr>\n",
       "    <tr>\n",
       "      <th>4</th>\n",
       "      <td>1790</td>\n",
       "      <td>1125</td>\n",
       "      <td>2752</td>\n",
       "      <td>1674</td>\n",
       "      <td>1157</td>\n",
       "      <td>1673</td>\n",
       "      <td>944</td>\n",
       "      <td>2546</td>\n",
       "      <td>2708</td>\n",
       "      <td>3423</td>\n",
       "      <td>1790</td>\n",
       "    </tr>\n",
       "  </tbody>\n",
       "</table>\n",
       "</div>"
      ],
      "text/plain": [
       "      0     1     2     3     4     5     6     7     8     9  Ref Item ID\n",
       "0    31  2830  2915   372  2692  2543  3188   802  2685  2279           31\n",
       "1  2761  2296  3143  1002  2309  1810  1659   220  1238  1660         2761\n",
       "2  1334  1890  2814  2105   316  2876  1085  2033  3382  2068         1334\n",
       "3  1333  2736  2733  2794  2904  3500  2452  3496  3637  2433         1333\n",
       "4  1790  1125  2752  1674  1157  1673   944  2546  2708  3423         1790"
      ]
     },
     "execution_count": 39,
     "metadata": {},
     "output_type": "execute_result"
    }
   ],
   "source": [
    "df_item_temp.head()"
   ]
  },
  {
   "cell_type": "code",
   "execution_count": 40,
   "metadata": {
    "id": "xSp6WgXt03hH"
   },
   "outputs": [],
   "source": [
    "df_item_rank = pd.melt(\n",
    "    df_item_temp,\n",
    "    id_vars=[\"Ref Item ID\"],\n",
    "    var_name=[\"Item Rank\"],\n",
    "    value_name=\"Related Item ID\",\n",
    ")"
   ]
  },
  {
   "cell_type": "code",
   "execution_count": 41,
   "metadata": {
    "colab": {
     "base_uri": "https://localhost:8080/",
     "height": 676
    },
    "id": "EyC90Q5N1KcU",
    "outputId": "eb2e2946-c60d-40df-8ae5-397f884eec6b"
   },
   "outputs": [
    {
     "data": {
      "text/html": [
       "<div>\n",
       "<style scoped>\n",
       "    .dataframe tbody tr th:only-of-type {\n",
       "        vertical-align: middle;\n",
       "    }\n",
       "\n",
       "    .dataframe tbody tr th {\n",
       "        vertical-align: top;\n",
       "    }\n",
       "\n",
       "    .dataframe thead th {\n",
       "        text-align: right;\n",
       "    }\n",
       "</style>\n",
       "<table border=\"1\" class=\"dataframe\">\n",
       "  <thead>\n",
       "    <tr style=\"text-align: right;\">\n",
       "      <th></th>\n",
       "      <th>Ref Item ID</th>\n",
       "      <th>Item Rank</th>\n",
       "      <th>Related Item ID</th>\n",
       "    </tr>\n",
       "  </thead>\n",
       "  <tbody>\n",
       "    <tr>\n",
       "      <th>3239</th>\n",
       "      <td>0</td>\n",
       "      <td>0</td>\n",
       "      <td>0</td>\n",
       "    </tr>\n",
       "    <tr>\n",
       "      <th>6910</th>\n",
       "      <td>0</td>\n",
       "      <td>1</td>\n",
       "      <td>57</td>\n",
       "    </tr>\n",
       "    <tr>\n",
       "      <th>10581</th>\n",
       "      <td>0</td>\n",
       "      <td>2</td>\n",
       "      <td>260</td>\n",
       "    </tr>\n",
       "    <tr>\n",
       "      <th>14252</th>\n",
       "      <td>0</td>\n",
       "      <td>3</td>\n",
       "      <td>2807</td>\n",
       "    </tr>\n",
       "    <tr>\n",
       "      <th>17923</th>\n",
       "      <td>0</td>\n",
       "      <td>4</td>\n",
       "      <td>127</td>\n",
       "    </tr>\n",
       "    <tr>\n",
       "      <th>21594</th>\n",
       "      <td>0</td>\n",
       "      <td>5</td>\n",
       "      <td>130</td>\n",
       "    </tr>\n",
       "    <tr>\n",
       "      <th>25265</th>\n",
       "      <td>0</td>\n",
       "      <td>6</td>\n",
       "      <td>1286</td>\n",
       "    </tr>\n",
       "    <tr>\n",
       "      <th>28936</th>\n",
       "      <td>0</td>\n",
       "      <td>7</td>\n",
       "      <td>126</td>\n",
       "    </tr>\n",
       "    <tr>\n",
       "      <th>32607</th>\n",
       "      <td>0</td>\n",
       "      <td>8</td>\n",
       "      <td>2950</td>\n",
       "    </tr>\n",
       "    <tr>\n",
       "      <th>36278</th>\n",
       "      <td>0</td>\n",
       "      <td>9</td>\n",
       "      <td>125</td>\n",
       "    </tr>\n",
       "    <tr>\n",
       "      <th>2642</th>\n",
       "      <td>1</td>\n",
       "      <td>0</td>\n",
       "      <td>1</td>\n",
       "    </tr>\n",
       "    <tr>\n",
       "      <th>6313</th>\n",
       "      <td>1</td>\n",
       "      <td>1</td>\n",
       "      <td>551</td>\n",
       "    </tr>\n",
       "    <tr>\n",
       "      <th>9984</th>\n",
       "      <td>1</td>\n",
       "      <td>2</td>\n",
       "      <td>718</td>\n",
       "    </tr>\n",
       "    <tr>\n",
       "      <th>13655</th>\n",
       "      <td>1</td>\n",
       "      <td>3</td>\n",
       "      <td>1288</td>\n",
       "    </tr>\n",
       "    <tr>\n",
       "      <th>17326</th>\n",
       "      <td>1</td>\n",
       "      <td>4</td>\n",
       "      <td>1971</td>\n",
       "    </tr>\n",
       "    <tr>\n",
       "      <th>20997</th>\n",
       "      <td>1</td>\n",
       "      <td>5</td>\n",
       "      <td>2688</td>\n",
       "    </tr>\n",
       "    <tr>\n",
       "      <th>24668</th>\n",
       "      <td>1</td>\n",
       "      <td>6</td>\n",
       "      <td>1485</td>\n",
       "    </tr>\n",
       "    <tr>\n",
       "      <th>28339</th>\n",
       "      <td>1</td>\n",
       "      <td>7</td>\n",
       "      <td>2318</td>\n",
       "    </tr>\n",
       "    <tr>\n",
       "      <th>32010</th>\n",
       "      <td>1</td>\n",
       "      <td>8</td>\n",
       "      <td>3095</td>\n",
       "    </tr>\n",
       "    <tr>\n",
       "      <th>35681</th>\n",
       "      <td>1</td>\n",
       "      <td>9</td>\n",
       "      <td>1619</td>\n",
       "    </tr>\n",
       "  </tbody>\n",
       "</table>\n",
       "</div>"
      ],
      "text/plain": [
       "       Ref Item ID Item Rank  Related Item ID\n",
       "3239             0         0                0\n",
       "6910             0         1               57\n",
       "10581            0         2              260\n",
       "14252            0         3             2807\n",
       "17923            0         4              127\n",
       "21594            0         5              130\n",
       "25265            0         6             1286\n",
       "28936            0         7              126\n",
       "32607            0         8             2950\n",
       "36278            0         9              125\n",
       "2642             1         0                1\n",
       "6313             1         1              551\n",
       "9984             1         2              718\n",
       "13655            1         3             1288\n",
       "17326            1         4             1971\n",
       "20997            1         5             2688\n",
       "24668            1         6             1485\n",
       "28339            1         7             2318\n",
       "32010            1         8             3095\n",
       "35681            1         9             1619"
      ]
     },
     "execution_count": 41,
     "metadata": {},
     "output_type": "execute_result"
    }
   ],
   "source": [
    "df_item_rank.sort_values([\"Ref Item ID\", \"Item Rank\"]).head(20)"
   ]
  },
  {
   "cell_type": "code",
   "execution_count": 42,
   "metadata": {
    "id": "JXvxxpZ_1YCB"
   },
   "outputs": [],
   "source": [
    "df_score_temp = pd.DataFrame(score_arr)"
   ]
  },
  {
   "cell_type": "code",
   "execution_count": 43,
   "metadata": {
    "id": "nr9HqJU9FaTL"
   },
   "outputs": [],
   "source": [
    "df_score_temp[\"Ref Item ID\"] = ref_item_id"
   ]
  },
  {
   "cell_type": "code",
   "execution_count": 44,
   "metadata": {
    "id": "Uh5TCk6dFaV6"
   },
   "outputs": [],
   "source": [
    "df_score_rank = pd.melt(\n",
    "    df_score_temp, id_vars=[\"Ref Item ID\"], var_name=[\"Item Rank\"], value_name=\"Score\"\n",
    ")"
   ]
  },
  {
   "cell_type": "code",
   "execution_count": 45,
   "metadata": {
    "colab": {
     "base_uri": "https://localhost:8080/",
     "height": 676
    },
    "id": "iFZ0D2t7FaYh",
    "outputId": "05198110-39aa-4129-e558-243384b6a69b"
   },
   "outputs": [
    {
     "data": {
      "text/html": [
       "<div>\n",
       "<style scoped>\n",
       "    .dataframe tbody tr th:only-of-type {\n",
       "        vertical-align: middle;\n",
       "    }\n",
       "\n",
       "    .dataframe tbody tr th {\n",
       "        vertical-align: top;\n",
       "    }\n",
       "\n",
       "    .dataframe thead th {\n",
       "        text-align: right;\n",
       "    }\n",
       "</style>\n",
       "<table border=\"1\" class=\"dataframe\">\n",
       "  <thead>\n",
       "    <tr style=\"text-align: right;\">\n",
       "      <th></th>\n",
       "      <th>Ref Item ID</th>\n",
       "      <th>Item Rank</th>\n",
       "      <th>Score</th>\n",
       "    </tr>\n",
       "  </thead>\n",
       "  <tbody>\n",
       "    <tr>\n",
       "      <th>3239</th>\n",
       "      <td>0</td>\n",
       "      <td>0</td>\n",
       "      <td>1.000000</td>\n",
       "    </tr>\n",
       "    <tr>\n",
       "      <th>6910</th>\n",
       "      <td>0</td>\n",
       "      <td>1</td>\n",
       "      <td>0.711047</td>\n",
       "    </tr>\n",
       "    <tr>\n",
       "      <th>10581</th>\n",
       "      <td>0</td>\n",
       "      <td>2</td>\n",
       "      <td>0.628523</td>\n",
       "    </tr>\n",
       "    <tr>\n",
       "      <th>14252</th>\n",
       "      <td>0</td>\n",
       "      <td>3</td>\n",
       "      <td>0.451945</td>\n",
       "    </tr>\n",
       "    <tr>\n",
       "      <th>17923</th>\n",
       "      <td>0</td>\n",
       "      <td>4</td>\n",
       "      <td>0.438483</td>\n",
       "    </tr>\n",
       "    <tr>\n",
       "      <th>21594</th>\n",
       "      <td>0</td>\n",
       "      <td>5</td>\n",
       "      <td>0.431154</td>\n",
       "    </tr>\n",
       "    <tr>\n",
       "      <th>25265</th>\n",
       "      <td>0</td>\n",
       "      <td>6</td>\n",
       "      <td>0.407431</td>\n",
       "    </tr>\n",
       "    <tr>\n",
       "      <th>28936</th>\n",
       "      <td>0</td>\n",
       "      <td>7</td>\n",
       "      <td>0.406546</td>\n",
       "    </tr>\n",
       "    <tr>\n",
       "      <th>32607</th>\n",
       "      <td>0</td>\n",
       "      <td>8</td>\n",
       "      <td>0.389352</td>\n",
       "    </tr>\n",
       "    <tr>\n",
       "      <th>36278</th>\n",
       "      <td>0</td>\n",
       "      <td>9</td>\n",
       "      <td>0.386939</td>\n",
       "    </tr>\n",
       "    <tr>\n",
       "      <th>2642</th>\n",
       "      <td>1</td>\n",
       "      <td>0</td>\n",
       "      <td>1.000000</td>\n",
       "    </tr>\n",
       "    <tr>\n",
       "      <th>6313</th>\n",
       "      <td>1</td>\n",
       "      <td>1</td>\n",
       "      <td>0.625760</td>\n",
       "    </tr>\n",
       "    <tr>\n",
       "      <th>9984</th>\n",
       "      <td>1</td>\n",
       "      <td>2</td>\n",
       "      <td>0.604438</td>\n",
       "    </tr>\n",
       "    <tr>\n",
       "      <th>13655</th>\n",
       "      <td>1</td>\n",
       "      <td>3</td>\n",
       "      <td>0.595448</td>\n",
       "    </tr>\n",
       "    <tr>\n",
       "      <th>17326</th>\n",
       "      <td>1</td>\n",
       "      <td>4</td>\n",
       "      <td>0.585303</td>\n",
       "    </tr>\n",
       "    <tr>\n",
       "      <th>20997</th>\n",
       "      <td>1</td>\n",
       "      <td>5</td>\n",
       "      <td>0.580857</td>\n",
       "    </tr>\n",
       "    <tr>\n",
       "      <th>24668</th>\n",
       "      <td>1</td>\n",
       "      <td>6</td>\n",
       "      <td>0.576867</td>\n",
       "    </tr>\n",
       "    <tr>\n",
       "      <th>28339</th>\n",
       "      <td>1</td>\n",
       "      <td>7</td>\n",
       "      <td>0.574496</td>\n",
       "    </tr>\n",
       "    <tr>\n",
       "      <th>32010</th>\n",
       "      <td>1</td>\n",
       "      <td>8</td>\n",
       "      <td>0.570925</td>\n",
       "    </tr>\n",
       "    <tr>\n",
       "      <th>35681</th>\n",
       "      <td>1</td>\n",
       "      <td>9</td>\n",
       "      <td>0.569306</td>\n",
       "    </tr>\n",
       "  </tbody>\n",
       "</table>\n",
       "</div>"
      ],
      "text/plain": [
       "       Ref Item ID Item Rank     Score\n",
       "3239             0         0  1.000000\n",
       "6910             0         1  0.711047\n",
       "10581            0         2  0.628523\n",
       "14252            0         3  0.451945\n",
       "17923            0         4  0.438483\n",
       "21594            0         5  0.431154\n",
       "25265            0         6  0.407431\n",
       "28936            0         7  0.406546\n",
       "32607            0         8  0.389352\n",
       "36278            0         9  0.386939\n",
       "2642             1         0  1.000000\n",
       "6313             1         1  0.625760\n",
       "9984             1         2  0.604438\n",
       "13655            1         3  0.595448\n",
       "17326            1         4  0.585303\n",
       "20997            1         5  0.580857\n",
       "24668            1         6  0.576867\n",
       "28339            1         7  0.574496\n",
       "32010            1         8  0.570925\n",
       "35681            1         9  0.569306"
      ]
     },
     "execution_count": 45,
     "metadata": {},
     "output_type": "execute_result"
    }
   ],
   "source": [
    "df_score_rank.sort_values([\"Ref Item ID\", \"Item Rank\"]).head(20)"
   ]
  },
  {
   "cell_type": "code",
   "execution_count": 46,
   "metadata": {
    "id": "UdAmDnDXFaa2"
   },
   "outputs": [],
   "source": [
    "df_item_score = df_item_rank.merge(\n",
    "    df_score_rank, how=\"inner\", on=[\"Ref Item ID\", \"Item Rank\"]\n",
    ")"
   ]
  },
  {
   "cell_type": "code",
   "execution_count": 47,
   "metadata": {
    "id": "EKR_W2cdFadd"
   },
   "outputs": [],
   "source": [
    "df_item_score.sort_values([\"Ref Item ID\", \"Item Rank\"], inplace=True)"
   ]
  },
  {
   "cell_type": "code",
   "execution_count": 48,
   "metadata": {
    "colab": {
     "base_uri": "https://localhost:8080/",
     "height": 676
    },
    "id": "-Ex3byMKGrXW",
    "outputId": "34e9c21a-d19d-494a-b943-ab7d77818df8"
   },
   "outputs": [
    {
     "data": {
      "text/html": [
       "<div>\n",
       "<style scoped>\n",
       "    .dataframe tbody tr th:only-of-type {\n",
       "        vertical-align: middle;\n",
       "    }\n",
       "\n",
       "    .dataframe tbody tr th {\n",
       "        vertical-align: top;\n",
       "    }\n",
       "\n",
       "    .dataframe thead th {\n",
       "        text-align: right;\n",
       "    }\n",
       "</style>\n",
       "<table border=\"1\" class=\"dataframe\">\n",
       "  <thead>\n",
       "    <tr style=\"text-align: right;\">\n",
       "      <th></th>\n",
       "      <th>Ref Item ID</th>\n",
       "      <th>Item Rank</th>\n",
       "      <th>Related Item ID</th>\n",
       "      <th>Score</th>\n",
       "    </tr>\n",
       "  </thead>\n",
       "  <tbody>\n",
       "    <tr>\n",
       "      <th>3239</th>\n",
       "      <td>0</td>\n",
       "      <td>0</td>\n",
       "      <td>0</td>\n",
       "      <td>1.000000</td>\n",
       "    </tr>\n",
       "    <tr>\n",
       "      <th>6910</th>\n",
       "      <td>0</td>\n",
       "      <td>1</td>\n",
       "      <td>57</td>\n",
       "      <td>0.711047</td>\n",
       "    </tr>\n",
       "    <tr>\n",
       "      <th>10581</th>\n",
       "      <td>0</td>\n",
       "      <td>2</td>\n",
       "      <td>260</td>\n",
       "      <td>0.628523</td>\n",
       "    </tr>\n",
       "    <tr>\n",
       "      <th>14252</th>\n",
       "      <td>0</td>\n",
       "      <td>3</td>\n",
       "      <td>2807</td>\n",
       "      <td>0.451945</td>\n",
       "    </tr>\n",
       "    <tr>\n",
       "      <th>17923</th>\n",
       "      <td>0</td>\n",
       "      <td>4</td>\n",
       "      <td>127</td>\n",
       "      <td>0.438483</td>\n",
       "    </tr>\n",
       "    <tr>\n",
       "      <th>21594</th>\n",
       "      <td>0</td>\n",
       "      <td>5</td>\n",
       "      <td>130</td>\n",
       "      <td>0.431154</td>\n",
       "    </tr>\n",
       "    <tr>\n",
       "      <th>25265</th>\n",
       "      <td>0</td>\n",
       "      <td>6</td>\n",
       "      <td>1286</td>\n",
       "      <td>0.407431</td>\n",
       "    </tr>\n",
       "    <tr>\n",
       "      <th>28936</th>\n",
       "      <td>0</td>\n",
       "      <td>7</td>\n",
       "      <td>126</td>\n",
       "      <td>0.406546</td>\n",
       "    </tr>\n",
       "    <tr>\n",
       "      <th>32607</th>\n",
       "      <td>0</td>\n",
       "      <td>8</td>\n",
       "      <td>2950</td>\n",
       "      <td>0.389352</td>\n",
       "    </tr>\n",
       "    <tr>\n",
       "      <th>36278</th>\n",
       "      <td>0</td>\n",
       "      <td>9</td>\n",
       "      <td>125</td>\n",
       "      <td>0.386939</td>\n",
       "    </tr>\n",
       "    <tr>\n",
       "      <th>2642</th>\n",
       "      <td>1</td>\n",
       "      <td>0</td>\n",
       "      <td>1</td>\n",
       "      <td>1.000000</td>\n",
       "    </tr>\n",
       "    <tr>\n",
       "      <th>6313</th>\n",
       "      <td>1</td>\n",
       "      <td>1</td>\n",
       "      <td>551</td>\n",
       "      <td>0.625760</td>\n",
       "    </tr>\n",
       "    <tr>\n",
       "      <th>9984</th>\n",
       "      <td>1</td>\n",
       "      <td>2</td>\n",
       "      <td>718</td>\n",
       "      <td>0.604438</td>\n",
       "    </tr>\n",
       "    <tr>\n",
       "      <th>13655</th>\n",
       "      <td>1</td>\n",
       "      <td>3</td>\n",
       "      <td>1288</td>\n",
       "      <td>0.595448</td>\n",
       "    </tr>\n",
       "    <tr>\n",
       "      <th>17326</th>\n",
       "      <td>1</td>\n",
       "      <td>4</td>\n",
       "      <td>1971</td>\n",
       "      <td>0.585303</td>\n",
       "    </tr>\n",
       "    <tr>\n",
       "      <th>20997</th>\n",
       "      <td>1</td>\n",
       "      <td>5</td>\n",
       "      <td>2688</td>\n",
       "      <td>0.580857</td>\n",
       "    </tr>\n",
       "    <tr>\n",
       "      <th>24668</th>\n",
       "      <td>1</td>\n",
       "      <td>6</td>\n",
       "      <td>1485</td>\n",
       "      <td>0.576867</td>\n",
       "    </tr>\n",
       "    <tr>\n",
       "      <th>28339</th>\n",
       "      <td>1</td>\n",
       "      <td>7</td>\n",
       "      <td>2318</td>\n",
       "      <td>0.574496</td>\n",
       "    </tr>\n",
       "    <tr>\n",
       "      <th>32010</th>\n",
       "      <td>1</td>\n",
       "      <td>8</td>\n",
       "      <td>3095</td>\n",
       "      <td>0.570925</td>\n",
       "    </tr>\n",
       "    <tr>\n",
       "      <th>35681</th>\n",
       "      <td>1</td>\n",
       "      <td>9</td>\n",
       "      <td>1619</td>\n",
       "      <td>0.569306</td>\n",
       "    </tr>\n",
       "  </tbody>\n",
       "</table>\n",
       "</div>"
      ],
      "text/plain": [
       "       Ref Item ID Item Rank  Related Item ID     Score\n",
       "3239             0         0                0  1.000000\n",
       "6910             0         1               57  0.711047\n",
       "10581            0         2              260  0.628523\n",
       "14252            0         3             2807  0.451945\n",
       "17923            0         4              127  0.438483\n",
       "21594            0         5              130  0.431154\n",
       "25265            0         6             1286  0.407431\n",
       "28936            0         7              126  0.406546\n",
       "32607            0         8             2950  0.389352\n",
       "36278            0         9              125  0.386939\n",
       "2642             1         0                1  1.000000\n",
       "6313             1         1              551  0.625760\n",
       "9984             1         2              718  0.604438\n",
       "13655            1         3             1288  0.595448\n",
       "17326            1         4             1971  0.585303\n",
       "20997            1         5             2688  0.580857\n",
       "24668            1         6             1485  0.576867\n",
       "28339            1         7             2318  0.574496\n",
       "32010            1         8             3095  0.570925\n",
       "35681            1         9             1619  0.569306"
      ]
     },
     "execution_count": 48,
     "metadata": {},
     "output_type": "execute_result"
    }
   ],
   "source": [
    "df_item_score.head(20)"
   ]
  },
  {
   "cell_type": "code",
   "execution_count": 49,
   "metadata": {
    "id": "v2wpMfeNWRwv"
   },
   "outputs": [],
   "source": [
    "df_item_desc = df_filter_cust_item[\n",
    "    [\"item_id\", \"StockCode\", \"Description\"]\n",
    "].drop_duplicates(subset=[\"item_id\"])"
   ]
  },
  {
   "cell_type": "code",
   "execution_count": 50,
   "metadata": {
    "id": "wvHBQ5I4WR0D"
   },
   "outputs": [],
   "source": [
    "df_similar_item_temp = df_item_score.merge(\n",
    "    df_item_desc, how=\"left\", left_on=\"Ref Item ID\", right_on=\"item_id\"\n",
    ")"
   ]
  },
  {
   "cell_type": "code",
   "execution_count": 51,
   "metadata": {
    "id": "u-i8zEiDWR4z"
   },
   "outputs": [],
   "source": [
    "df_similar_item_temp.drop(columns=[\"item_id\"], inplace=True)"
   ]
  },
  {
   "cell_type": "code",
   "execution_count": 52,
   "metadata": {
    "id": "ImKZ63_bYd1I"
   },
   "outputs": [],
   "source": [
    "df_similar_item_temp.columns = [\n",
    "    \"Ref Item ID\",\n",
    "    \"Item Rank\",\n",
    "    \"Related Item ID\",\n",
    "    \"Score\",\n",
    "    \"Ref_StockCode\",\n",
    "    \"Ref_Description\",\n",
    "]"
   ]
  },
  {
   "cell_type": "code",
   "execution_count": 53,
   "metadata": {},
   "outputs": [
    {
     "data": {
      "text/plain": [
       "(36710, 6)"
      ]
     },
     "execution_count": 53,
     "metadata": {},
     "output_type": "execute_result"
    }
   ],
   "source": [
    "df_similar_item_temp.shape"
   ]
  },
  {
   "cell_type": "code",
   "execution_count": 54,
   "metadata": {},
   "outputs": [
    {
     "data": {
      "text/html": [
       "<div>\n",
       "<style scoped>\n",
       "    .dataframe tbody tr th:only-of-type {\n",
       "        vertical-align: middle;\n",
       "    }\n",
       "\n",
       "    .dataframe tbody tr th {\n",
       "        vertical-align: top;\n",
       "    }\n",
       "\n",
       "    .dataframe thead th {\n",
       "        text-align: right;\n",
       "    }\n",
       "</style>\n",
       "<table border=\"1\" class=\"dataframe\">\n",
       "  <thead>\n",
       "    <tr style=\"text-align: right;\">\n",
       "      <th></th>\n",
       "      <th>Ref Item ID</th>\n",
       "      <th>Item Rank</th>\n",
       "      <th>Related Item ID</th>\n",
       "      <th>Score</th>\n",
       "      <th>Ref_StockCode</th>\n",
       "      <th>Ref_Description</th>\n",
       "    </tr>\n",
       "  </thead>\n",
       "  <tbody>\n",
       "    <tr>\n",
       "      <th>0</th>\n",
       "      <td>0</td>\n",
       "      <td>0</td>\n",
       "      <td>0</td>\n",
       "      <td>1.000000</td>\n",
       "      <td>85123A</td>\n",
       "      <td>WHITE HANGING HEART T-LIGHT HOLDER</td>\n",
       "    </tr>\n",
       "    <tr>\n",
       "      <th>1</th>\n",
       "      <td>0</td>\n",
       "      <td>1</td>\n",
       "      <td>57</td>\n",
       "      <td>0.711047</td>\n",
       "      <td>85123A</td>\n",
       "      <td>WHITE HANGING HEART T-LIGHT HOLDER</td>\n",
       "    </tr>\n",
       "    <tr>\n",
       "      <th>2</th>\n",
       "      <td>0</td>\n",
       "      <td>2</td>\n",
       "      <td>260</td>\n",
       "      <td>0.628523</td>\n",
       "      <td>85123A</td>\n",
       "      <td>WHITE HANGING HEART T-LIGHT HOLDER</td>\n",
       "    </tr>\n",
       "    <tr>\n",
       "      <th>3</th>\n",
       "      <td>0</td>\n",
       "      <td>3</td>\n",
       "      <td>2807</td>\n",
       "      <td>0.451945</td>\n",
       "      <td>85123A</td>\n",
       "      <td>WHITE HANGING HEART T-LIGHT HOLDER</td>\n",
       "    </tr>\n",
       "    <tr>\n",
       "      <th>4</th>\n",
       "      <td>0</td>\n",
       "      <td>4</td>\n",
       "      <td>127</td>\n",
       "      <td>0.438483</td>\n",
       "      <td>85123A</td>\n",
       "      <td>WHITE HANGING HEART T-LIGHT HOLDER</td>\n",
       "    </tr>\n",
       "  </tbody>\n",
       "</table>\n",
       "</div>"
      ],
      "text/plain": [
       "   Ref Item ID Item Rank  Related Item ID     Score Ref_StockCode  \\\n",
       "0            0         0                0  1.000000        85123A   \n",
       "1            0         1               57  0.711047        85123A   \n",
       "2            0         2              260  0.628523        85123A   \n",
       "3            0         3             2807  0.451945        85123A   \n",
       "4            0         4              127  0.438483        85123A   \n",
       "\n",
       "                      Ref_Description  \n",
       "0  WHITE HANGING HEART T-LIGHT HOLDER  \n",
       "1  WHITE HANGING HEART T-LIGHT HOLDER  \n",
       "2  WHITE HANGING HEART T-LIGHT HOLDER  \n",
       "3  WHITE HANGING HEART T-LIGHT HOLDER  \n",
       "4  WHITE HANGING HEART T-LIGHT HOLDER  "
      ]
     },
     "execution_count": 54,
     "metadata": {},
     "output_type": "execute_result"
    }
   ],
   "source": [
    "df_similar_item_temp.head()"
   ]
  },
  {
   "cell_type": "code",
   "execution_count": 55,
   "metadata": {
    "id": "vSFwjXGnWR8-"
   },
   "outputs": [],
   "source": [
    "df_similar_item_final = df_similar_item_temp.merge(\n",
    "    df_item_desc, how=\"left\", left_on=\"Related Item ID\", right_on=\"item_id\"\n",
    ")"
   ]
  },
  {
   "cell_type": "code",
   "execution_count": 56,
   "metadata": {
    "id": "Be7xsxvGWSUB"
   },
   "outputs": [],
   "source": [
    "df_similar_item_final.drop(columns=[\"item_id\"], inplace=True)"
   ]
  },
  {
   "cell_type": "code",
   "execution_count": 57,
   "metadata": {
    "id": "v8qfKz6RWM7y"
   },
   "outputs": [],
   "source": [
    "df_similar_item_final.columns = [\n",
    "    \"Ref Item ID\",\n",
    "    \"Item Rank\",\n",
    "    \"Related Item ID\",\n",
    "    \"Score\",\n",
    "    \"Ref_StockCode\",\n",
    "    \"Ref_Description\",\n",
    "    \"Related_StockCode\",\n",
    "    \"Related_Description\",\n",
    "]"
   ]
  },
  {
   "cell_type": "code",
   "execution_count": 58,
   "metadata": {},
   "outputs": [
    {
     "data": {
      "text/html": [
       "<div>\n",
       "<style scoped>\n",
       "    .dataframe tbody tr th:only-of-type {\n",
       "        vertical-align: middle;\n",
       "    }\n",
       "\n",
       "    .dataframe tbody tr th {\n",
       "        vertical-align: top;\n",
       "    }\n",
       "\n",
       "    .dataframe thead th {\n",
       "        text-align: right;\n",
       "    }\n",
       "</style>\n",
       "<table border=\"1\" class=\"dataframe\">\n",
       "  <thead>\n",
       "    <tr style=\"text-align: right;\">\n",
       "      <th></th>\n",
       "      <th>Ref Item ID</th>\n",
       "      <th>Item Rank</th>\n",
       "      <th>Related Item ID</th>\n",
       "      <th>Score</th>\n",
       "      <th>Ref_StockCode</th>\n",
       "      <th>Ref_Description</th>\n",
       "      <th>Related_StockCode</th>\n",
       "      <th>Related_Description</th>\n",
       "    </tr>\n",
       "  </thead>\n",
       "  <tbody>\n",
       "    <tr>\n",
       "      <th>0</th>\n",
       "      <td>0</td>\n",
       "      <td>0</td>\n",
       "      <td>0</td>\n",
       "      <td>1.000000</td>\n",
       "      <td>85123A</td>\n",
       "      <td>WHITE HANGING HEART T-LIGHT HOLDER</td>\n",
       "      <td>85123A</td>\n",
       "      <td>WHITE HANGING HEART T-LIGHT HOLDER</td>\n",
       "    </tr>\n",
       "    <tr>\n",
       "      <th>1</th>\n",
       "      <td>0</td>\n",
       "      <td>1</td>\n",
       "      <td>57</td>\n",
       "      <td>0.711047</td>\n",
       "      <td>85123A</td>\n",
       "      <td>WHITE HANGING HEART T-LIGHT HOLDER</td>\n",
       "      <td>21733</td>\n",
       "      <td>RED HANGING HEART T-LIGHT HOLDER</td>\n",
       "    </tr>\n",
       "    <tr>\n",
       "      <th>2</th>\n",
       "      <td>0</td>\n",
       "      <td>2</td>\n",
       "      <td>260</td>\n",
       "      <td>0.628523</td>\n",
       "      <td>85123A</td>\n",
       "      <td>WHITE HANGING HEART T-LIGHT HOLDER</td>\n",
       "      <td>22804</td>\n",
       "      <td>CANDLEHOLDER PINK HANGING HEART</td>\n",
       "    </tr>\n",
       "    <tr>\n",
       "      <th>3</th>\n",
       "      <td>0</td>\n",
       "      <td>3</td>\n",
       "      <td>2807</td>\n",
       "      <td>0.451945</td>\n",
       "      <td>85123A</td>\n",
       "      <td>WHITE HANGING HEART T-LIGHT HOLDER</td>\n",
       "      <td>84798B</td>\n",
       "      <td>PURPLE FOXGLOVE ARTIIFCIAL FLOWER</td>\n",
       "    </tr>\n",
       "    <tr>\n",
       "      <th>4</th>\n",
       "      <td>0</td>\n",
       "      <td>4</td>\n",
       "      <td>127</td>\n",
       "      <td>0.438483</td>\n",
       "      <td>85123A</td>\n",
       "      <td>WHITE HANGING HEART T-LIGHT HOLDER</td>\n",
       "      <td>22470</td>\n",
       "      <td>HEART OF WICKER LARGE</td>\n",
       "    </tr>\n",
       "  </tbody>\n",
       "</table>\n",
       "</div>"
      ],
      "text/plain": [
       "   Ref Item ID Item Rank  Related Item ID     Score Ref_StockCode  \\\n",
       "0            0         0                0  1.000000        85123A   \n",
       "1            0         1               57  0.711047        85123A   \n",
       "2            0         2              260  0.628523        85123A   \n",
       "3            0         3             2807  0.451945        85123A   \n",
       "4            0         4              127  0.438483        85123A   \n",
       "\n",
       "                      Ref_Description Related_StockCode  \\\n",
       "0  WHITE HANGING HEART T-LIGHT HOLDER            85123A   \n",
       "1  WHITE HANGING HEART T-LIGHT HOLDER             21733   \n",
       "2  WHITE HANGING HEART T-LIGHT HOLDER             22804   \n",
       "3  WHITE HANGING HEART T-LIGHT HOLDER            84798B   \n",
       "4  WHITE HANGING HEART T-LIGHT HOLDER             22470   \n",
       "\n",
       "                  Related_Description  \n",
       "0  WHITE HANGING HEART T-LIGHT HOLDER  \n",
       "1    RED HANGING HEART T-LIGHT HOLDER  \n",
       "2     CANDLEHOLDER PINK HANGING HEART  \n",
       "3   PURPLE FOXGLOVE ARTIIFCIAL FLOWER  \n",
       "4               HEART OF WICKER LARGE  "
      ]
     },
     "execution_count": 58,
     "metadata": {},
     "output_type": "execute_result"
    }
   ],
   "source": [
    "df_similar_item_final.head()"
   ]
  },
  {
   "cell_type": "markdown",
   "metadata": {},
   "source": [
    "## Generate recommendation for a given user"
   ]
  },
  {
   "cell_type": "code",
   "execution_count": 59,
   "metadata": {},
   "outputs": [],
   "source": [
    "# Generate user library\n",
    "df_cust_id_map = df_filter_cust_item[[\"CustomerID\", \"cust_id\"]].drop_duplicates(\n",
    "    subset=\"cust_id\"\n",
    ")"
   ]
  },
  {
   "cell_type": "code",
   "execution_count": 60,
   "metadata": {},
   "outputs": [
    {
     "data": {
      "text/html": [
       "<div>\n",
       "<style scoped>\n",
       "    .dataframe tbody tr th:only-of-type {\n",
       "        vertical-align: middle;\n",
       "    }\n",
       "\n",
       "    .dataframe tbody tr th {\n",
       "        vertical-align: top;\n",
       "    }\n",
       "\n",
       "    .dataframe thead th {\n",
       "        text-align: right;\n",
       "    }\n",
       "</style>\n",
       "<table border=\"1\" class=\"dataframe\">\n",
       "  <thead>\n",
       "    <tr style=\"text-align: right;\">\n",
       "      <th></th>\n",
       "      <th>CustomerID</th>\n",
       "      <th>cust_id</th>\n",
       "    </tr>\n",
       "  </thead>\n",
       "  <tbody>\n",
       "    <tr>\n",
       "      <th>143930</th>\n",
       "      <td>17337</td>\n",
       "      <td>1329</td>\n",
       "    </tr>\n",
       "    <tr>\n",
       "      <th>160128</th>\n",
       "      <td>14525</td>\n",
       "      <td>679</td>\n",
       "    </tr>\n",
       "    <tr>\n",
       "      <th>5466</th>\n",
       "      <td>17967</td>\n",
       "      <td>202</td>\n",
       "    </tr>\n",
       "    <tr>\n",
       "      <th>75792</th>\n",
       "      <td>13148</td>\n",
       "      <td>602</td>\n",
       "    </tr>\n",
       "    <tr>\n",
       "      <th>20617</th>\n",
       "      <td>16795</td>\n",
       "      <td>544</td>\n",
       "    </tr>\n",
       "  </tbody>\n",
       "</table>\n",
       "</div>"
      ],
      "text/plain": [
       "        CustomerID  cust_id\n",
       "143930       17337     1329\n",
       "160128       14525      679\n",
       "5466         17967      202\n",
       "75792        13148      602\n",
       "20617        16795      544"
      ]
     },
     "execution_count": 60,
     "metadata": {},
     "output_type": "execute_result"
    }
   ],
   "source": [
    "df_cust_id_map.head()"
   ]
  },
  {
   "cell_type": "code",
   "execution_count": 61,
   "metadata": {},
   "outputs": [
    {
     "name": "stdout",
     "output_type": "stream",
     "text": [
      "1329\n"
     ]
    }
   ],
   "source": [
    "CustomerID = 17337\n",
    "cust_id = df_cust_id_map[df_cust_id_map[\"CustomerID\"] == CustomerID][\"cust_id\"].item()\n",
    "print(cust_id)"
   ]
  },
  {
   "cell_type": "code",
   "execution_count": 62,
   "metadata": {},
   "outputs": [
    {
     "data": {
      "text/html": [
       "<div>\n",
       "<style scoped>\n",
       "    .dataframe tbody tr th:only-of-type {\n",
       "        vertical-align: middle;\n",
       "    }\n",
       "\n",
       "    .dataframe tbody tr th {\n",
       "        vertical-align: top;\n",
       "    }\n",
       "\n",
       "    .dataframe thead th {\n",
       "        text-align: right;\n",
       "    }\n",
       "</style>\n",
       "<table border=\"1\" class=\"dataframe\">\n",
       "  <thead>\n",
       "    <tr style=\"text-align: right;\">\n",
       "      <th></th>\n",
       "      <th>InvoiceNo</th>\n",
       "      <th>StockCode</th>\n",
       "      <th>Description</th>\n",
       "      <th>Quantity</th>\n",
       "      <th>InvoiceDate</th>\n",
       "      <th>UnitPrice</th>\n",
       "      <th>CustomerID</th>\n",
       "      <th>Country</th>\n",
       "      <th>Sales</th>\n",
       "      <th>cust_id</th>\n",
       "      <th>item_id</th>\n",
       "    </tr>\n",
       "  </thead>\n",
       "  <tbody>\n",
       "    <tr>\n",
       "      <th>143930</th>\n",
       "      <td>548714</td>\n",
       "      <td>10002</td>\n",
       "      <td>INFLATABLE POLITICAL GLOBE</td>\n",
       "      <td>2</td>\n",
       "      <td>2011-04-03 15:07:00</td>\n",
       "      <td>0.85</td>\n",
       "      <td>17337</td>\n",
       "      <td>United Kingdom</td>\n",
       "      <td>1.70</td>\n",
       "      <td>1329</td>\n",
       "      <td>31</td>\n",
       "    </tr>\n",
       "    <tr>\n",
       "      <th>143834</th>\n",
       "      <td>548714</td>\n",
       "      <td>11001</td>\n",
       "      <td>ASSTD DESIGN RACING CAR PEN</td>\n",
       "      <td>16</td>\n",
       "      <td>2011-04-03 15:07:00</td>\n",
       "      <td>1.69</td>\n",
       "      <td>17337</td>\n",
       "      <td>United Kingdom</td>\n",
       "      <td>27.04</td>\n",
       "      <td>1329</td>\n",
       "      <td>1489</td>\n",
       "    </tr>\n",
       "    <tr>\n",
       "      <th>143835</th>\n",
       "      <td>548714</td>\n",
       "      <td>15044B</td>\n",
       "      <td>BLUE PAPER PARASOL</td>\n",
       "      <td>1</td>\n",
       "      <td>2011-04-03 15:07:00</td>\n",
       "      <td>2.95</td>\n",
       "      <td>17337</td>\n",
       "      <td>United Kingdom</td>\n",
       "      <td>2.95</td>\n",
       "      <td>1329</td>\n",
       "      <td>631</td>\n",
       "    </tr>\n",
       "    <tr>\n",
       "      <th>143836</th>\n",
       "      <td>548714</td>\n",
       "      <td>15044D</td>\n",
       "      <td>RED PAPER PARASOL</td>\n",
       "      <td>1</td>\n",
       "      <td>2011-04-03 15:07:00</td>\n",
       "      <td>2.95</td>\n",
       "      <td>17337</td>\n",
       "      <td>United Kingdom</td>\n",
       "      <td>2.95</td>\n",
       "      <td>1329</td>\n",
       "      <td>2555</td>\n",
       "    </tr>\n",
       "    <tr>\n",
       "      <th>80348</th>\n",
       "      <td>543040</td>\n",
       "      <td>16010</td>\n",
       "      <td>FOLDING CAMPING SCISSOR W/KNIF &amp; S</td>\n",
       "      <td>12</td>\n",
       "      <td>2011-02-02 17:06:00</td>\n",
       "      <td>0.12</td>\n",
       "      <td>17337</td>\n",
       "      <td>United Kingdom</td>\n",
       "      <td>1.44</td>\n",
       "      <td>1329</td>\n",
       "      <td>1712</td>\n",
       "    </tr>\n",
       "    <tr>\n",
       "      <th>...</th>\n",
       "      <td>...</td>\n",
       "      <td>...</td>\n",
       "      <td>...</td>\n",
       "      <td>...</td>\n",
       "      <td>...</td>\n",
       "      <td>...</td>\n",
       "      <td>...</td>\n",
       "      <td>...</td>\n",
       "      <td>...</td>\n",
       "      <td>...</td>\n",
       "      <td>...</td>\n",
       "    </tr>\n",
       "    <tr>\n",
       "      <th>80437</th>\n",
       "      <td>543040</td>\n",
       "      <td>85176</td>\n",
       "      <td>SEWING SUSAN 21 NEEDLE SET</td>\n",
       "      <td>2</td>\n",
       "      <td>2011-02-02 17:06:00</td>\n",
       "      <td>0.85</td>\n",
       "      <td>17337</td>\n",
       "      <td>United Kingdom</td>\n",
       "      <td>1.70</td>\n",
       "      <td>1329</td>\n",
       "      <td>1866</td>\n",
       "    </tr>\n",
       "    <tr>\n",
       "      <th>188411</th>\n",
       "      <td>553035</td>\n",
       "      <td>85184C</td>\n",
       "      <td>S/4 VALENTINE DECOUPAGE HEART BOX</td>\n",
       "      <td>1</td>\n",
       "      <td>2011-05-12 20:13:00</td>\n",
       "      <td>2.95</td>\n",
       "      <td>17337</td>\n",
       "      <td>United Kingdom</td>\n",
       "      <td>2.95</td>\n",
       "      <td>1329</td>\n",
       "      <td>388</td>\n",
       "    </tr>\n",
       "    <tr>\n",
       "      <th>143935</th>\n",
       "      <td>548714</td>\n",
       "      <td>85194S</td>\n",
       "      <td>HANGING SPRING FLOWER EGG SMALL</td>\n",
       "      <td>2</td>\n",
       "      <td>2011-04-03 15:07:00</td>\n",
       "      <td>0.65</td>\n",
       "      <td>17337</td>\n",
       "      <td>United Kingdom</td>\n",
       "      <td>1.30</td>\n",
       "      <td>1329</td>\n",
       "      <td>2419</td>\n",
       "    </tr>\n",
       "    <tr>\n",
       "      <th>143885</th>\n",
       "      <td>548714</td>\n",
       "      <td>85202</td>\n",
       "      <td>HANGING WOOD AND FELT HEART</td>\n",
       "      <td>4</td>\n",
       "      <td>2011-04-03 15:07:00</td>\n",
       "      <td>0.42</td>\n",
       "      <td>17337</td>\n",
       "      <td>United Kingdom</td>\n",
       "      <td>1.68</td>\n",
       "      <td>1329</td>\n",
       "      <td>2601</td>\n",
       "    </tr>\n",
       "    <tr>\n",
       "      <th>188349</th>\n",
       "      <td>553035</td>\n",
       "      <td>M</td>\n",
       "      <td>Manual</td>\n",
       "      <td>1</td>\n",
       "      <td>2011-05-12 20:13:00</td>\n",
       "      <td>1.45</td>\n",
       "      <td>17337</td>\n",
       "      <td>United Kingdom</td>\n",
       "      <td>1.45</td>\n",
       "      <td>1329</td>\n",
       "      <td>858</td>\n",
       "    </tr>\n",
       "  </tbody>\n",
       "</table>\n",
       "<p>548 rows × 11 columns</p>\n",
       "</div>"
      ],
      "text/plain": [
       "       InvoiceNo StockCode                         Description  Quantity  \\\n",
       "143930    548714     10002         INFLATABLE POLITICAL GLOBE          2   \n",
       "143834    548714     11001         ASSTD DESIGN RACING CAR PEN        16   \n",
       "143835    548714    15044B                 BLUE PAPER PARASOL          1   \n",
       "143836    548714    15044D                   RED PAPER PARASOL         1   \n",
       "80348     543040     16010  FOLDING CAMPING SCISSOR W/KNIF & S        12   \n",
       "...          ...       ...                                 ...       ...   \n",
       "80437     543040     85176          SEWING SUSAN 21 NEEDLE SET         2   \n",
       "188411    553035    85184C   S/4 VALENTINE DECOUPAGE HEART BOX         1   \n",
       "143935    548714    85194S     HANGING SPRING FLOWER EGG SMALL         2   \n",
       "143885    548714     85202         HANGING WOOD AND FELT HEART         4   \n",
       "188349    553035         M                              Manual         1   \n",
       "\n",
       "               InvoiceDate  UnitPrice  CustomerID         Country  Sales  \\\n",
       "143930 2011-04-03 15:07:00       0.85       17337  United Kingdom   1.70   \n",
       "143834 2011-04-03 15:07:00       1.69       17337  United Kingdom  27.04   \n",
       "143835 2011-04-03 15:07:00       2.95       17337  United Kingdom   2.95   \n",
       "143836 2011-04-03 15:07:00       2.95       17337  United Kingdom   2.95   \n",
       "80348  2011-02-02 17:06:00       0.12       17337  United Kingdom   1.44   \n",
       "...                    ...        ...         ...             ...    ...   \n",
       "80437  2011-02-02 17:06:00       0.85       17337  United Kingdom   1.70   \n",
       "188411 2011-05-12 20:13:00       2.95       17337  United Kingdom   2.95   \n",
       "143935 2011-04-03 15:07:00       0.65       17337  United Kingdom   1.30   \n",
       "143885 2011-04-03 15:07:00       0.42       17337  United Kingdom   1.68   \n",
       "188349 2011-05-12 20:13:00       1.45       17337  United Kingdom   1.45   \n",
       "\n",
       "        cust_id  item_id  \n",
       "143930     1329       31  \n",
       "143834     1329     1489  \n",
       "143835     1329      631  \n",
       "143836     1329     2555  \n",
       "80348      1329     1712  \n",
       "...         ...      ...  \n",
       "80437      1329     1866  \n",
       "188411     1329      388  \n",
       "143935     1329     2419  \n",
       "143885     1329     2601  \n",
       "188349     1329      858  \n",
       "\n",
       "[548 rows x 11 columns]"
      ]
     },
     "execution_count": 62,
     "metadata": {},
     "output_type": "execute_result"
    }
   ],
   "source": [
    "df_filter_cust_item[df_filter_cust_item[\"cust_id\"] == cust_id]"
   ]
  },
  {
   "cell_type": "code",
   "execution_count": 63,
   "metadata": {},
   "outputs": [],
   "source": [
    "ids, scores = model.recommend(\n",
    "    cust_id, sparse_customer_item[cust_id], N=20, filter_already_liked_items=False\n",
    ")"
   ]
  },
  {
   "cell_type": "code",
   "execution_count": 64,
   "metadata": {},
   "outputs": [],
   "source": [
    "list_stockcode = df_item_desc[df_item_desc[\"item_id\"].isin(ids)][\"StockCode\"].tolist()\n",
    "list_desc = df_item_desc[df_item_desc[\"item_id\"].isin(ids)][\"Description\"].tolist()\n",
    "df_recommendations = pd.DataFrame(\n",
    "    {\n",
    "        \"Stockcode\": list_stockcode,\n",
    "        \"Description\": list_desc,\n",
    "        \"score\": scores,\n",
    "        \"already_liked\": np.in1d(ids, sparse_customer_item[cust_id].indices),\n",
    "    }\n",
    ")"
   ]
  },
  {
   "cell_type": "code",
   "execution_count": 65,
   "metadata": {},
   "outputs": [
    {
     "data": {
      "text/html": [
       "<div>\n",
       "<style scoped>\n",
       "    .dataframe tbody tr th:only-of-type {\n",
       "        vertical-align: middle;\n",
       "    }\n",
       "\n",
       "    .dataframe tbody tr th {\n",
       "        vertical-align: top;\n",
       "    }\n",
       "\n",
       "    .dataframe thead th {\n",
       "        text-align: right;\n",
       "    }\n",
       "</style>\n",
       "<table border=\"1\" class=\"dataframe\">\n",
       "  <thead>\n",
       "    <tr style=\"text-align: right;\">\n",
       "      <th></th>\n",
       "      <th>Stockcode</th>\n",
       "      <th>Description</th>\n",
       "      <th>score</th>\n",
       "      <th>already_liked</th>\n",
       "    </tr>\n",
       "  </thead>\n",
       "  <tbody>\n",
       "    <tr>\n",
       "      <th>0</th>\n",
       "      <td>20914</td>\n",
       "      <td>SET/5 RED RETROSPOT LID GLASS BOWLS</td>\n",
       "      <td>1.344945</td>\n",
       "      <td>True</td>\n",
       "    </tr>\n",
       "    <tr>\n",
       "      <th>1</th>\n",
       "      <td>20983</td>\n",
       "      <td>12 PENCILS TALL TUBE RED RETROSPOT</td>\n",
       "      <td>1.301106</td>\n",
       "      <td>True</td>\n",
       "    </tr>\n",
       "    <tr>\n",
       "      <th>2</th>\n",
       "      <td>21080</td>\n",
       "      <td>SET/20 RED RETROSPOT PAPER NAPKINS</td>\n",
       "      <td>1.245094</td>\n",
       "      <td>True</td>\n",
       "    </tr>\n",
       "    <tr>\n",
       "      <th>3</th>\n",
       "      <td>21212</td>\n",
       "      <td>PACK OF 72 RETROSPOT CAKE CASES</td>\n",
       "      <td>1.188693</td>\n",
       "      <td>True</td>\n",
       "    </tr>\n",
       "    <tr>\n",
       "      <th>4</th>\n",
       "      <td>21877</td>\n",
       "      <td>HOME SWEET HOME MUG</td>\n",
       "      <td>1.105531</td>\n",
       "      <td>True</td>\n",
       "    </tr>\n",
       "    <tr>\n",
       "      <th>5</th>\n",
       "      <td>21891</td>\n",
       "      <td>TRADITIONAL WOODEN SKIPPING ROPE</td>\n",
       "      <td>1.062009</td>\n",
       "      <td>True</td>\n",
       "    </tr>\n",
       "    <tr>\n",
       "      <th>6</th>\n",
       "      <td>21914</td>\n",
       "      <td>BLUE HARMONICA IN BOX</td>\n",
       "      <td>1.053307</td>\n",
       "      <td>True</td>\n",
       "    </tr>\n",
       "    <tr>\n",
       "      <th>7</th>\n",
       "      <td>21967</td>\n",
       "      <td>PACK OF 12 SKULL TISSUES</td>\n",
       "      <td>1.048815</td>\n",
       "      <td>True</td>\n",
       "    </tr>\n",
       "    <tr>\n",
       "      <th>8</th>\n",
       "      <td>21980</td>\n",
       "      <td>PACK OF 12 RED RETROSPOT TISSUES</td>\n",
       "      <td>1.020712</td>\n",
       "      <td>True</td>\n",
       "    </tr>\n",
       "    <tr>\n",
       "      <th>9</th>\n",
       "      <td>21983</td>\n",
       "      <td>PACK OF 12 BLUE PAISLEY TISSUES</td>\n",
       "      <td>1.009332</td>\n",
       "      <td>True</td>\n",
       "    </tr>\n",
       "    <tr>\n",
       "      <th>10</th>\n",
       "      <td>21985</td>\n",
       "      <td>PACK OF 12 HEARTS DESIGN TISSUES</td>\n",
       "      <td>1.008744</td>\n",
       "      <td>True</td>\n",
       "    </tr>\n",
       "    <tr>\n",
       "      <th>11</th>\n",
       "      <td>22417</td>\n",
       "      <td>PACK OF 60 SPACEBOY CAKE CASES</td>\n",
       "      <td>1.007698</td>\n",
       "      <td>False</td>\n",
       "    </tr>\n",
       "    <tr>\n",
       "      <th>12</th>\n",
       "      <td>22558</td>\n",
       "      <td>CLOTHES PEGS RETROSPOT PACK 24</td>\n",
       "      <td>1.007637</td>\n",
       "      <td>True</td>\n",
       "    </tr>\n",
       "    <tr>\n",
       "      <th>13</th>\n",
       "      <td>22614</td>\n",
       "      <td>PACK OF 12 SPACEBOY TISSUES</td>\n",
       "      <td>1.006178</td>\n",
       "      <td>True</td>\n",
       "    </tr>\n",
       "    <tr>\n",
       "      <th>14</th>\n",
       "      <td>22616</td>\n",
       "      <td>PACK OF 12 LONDON TISSUES</td>\n",
       "      <td>1.005469</td>\n",
       "      <td>True</td>\n",
       "    </tr>\n",
       "    <tr>\n",
       "      <th>15</th>\n",
       "      <td>22659</td>\n",
       "      <td>LUNCH BOX I LOVE LONDON</td>\n",
       "      <td>1.000192</td>\n",
       "      <td>True</td>\n",
       "    </tr>\n",
       "    <tr>\n",
       "      <th>16</th>\n",
       "      <td>22923</td>\n",
       "      <td>FRIDGE MAGNETS LES ENFANTS ASSORTED</td>\n",
       "      <td>0.994898</td>\n",
       "      <td>True</td>\n",
       "    </tr>\n",
       "    <tr>\n",
       "      <th>17</th>\n",
       "      <td>22988</td>\n",
       "      <td>SOLDIERS EGG CUP</td>\n",
       "      <td>0.991320</td>\n",
       "      <td>True</td>\n",
       "    </tr>\n",
       "    <tr>\n",
       "      <th>18</th>\n",
       "      <td>22998</td>\n",
       "      <td>TRAVEL CARD WALLET KEEP CALM</td>\n",
       "      <td>0.990958</td>\n",
       "      <td>True</td>\n",
       "    </tr>\n",
       "    <tr>\n",
       "      <th>19</th>\n",
       "      <td>M</td>\n",
       "      <td>Manual</td>\n",
       "      <td>0.989975</td>\n",
       "      <td>True</td>\n",
       "    </tr>\n",
       "  </tbody>\n",
       "</table>\n",
       "</div>"
      ],
      "text/plain": [
       "   Stockcode                          Description     score  already_liked\n",
       "0      20914  SET/5 RED RETROSPOT LID GLASS BOWLS  1.344945           True\n",
       "1      20983   12 PENCILS TALL TUBE RED RETROSPOT  1.301106           True\n",
       "2      21080  SET/20 RED RETROSPOT PAPER NAPKINS   1.245094           True\n",
       "3      21212      PACK OF 72 RETROSPOT CAKE CASES  1.188693           True\n",
       "4      21877                  HOME SWEET HOME MUG  1.105531           True\n",
       "5      21891     TRADITIONAL WOODEN SKIPPING ROPE  1.062009           True\n",
       "6      21914               BLUE HARMONICA IN BOX   1.053307           True\n",
       "7      21967             PACK OF 12 SKULL TISSUES  1.048815           True\n",
       "8      21980    PACK OF 12 RED RETROSPOT TISSUES   1.020712           True\n",
       "9      21983     PACK OF 12 BLUE PAISLEY TISSUES   1.009332           True\n",
       "10     21985    PACK OF 12 HEARTS DESIGN TISSUES   1.008744           True\n",
       "11     22417       PACK OF 60 SPACEBOY CAKE CASES  1.007698          False\n",
       "12     22558      CLOTHES PEGS RETROSPOT PACK 24   1.007637           True\n",
       "13     22614          PACK OF 12 SPACEBOY TISSUES  1.006178           True\n",
       "14     22616           PACK OF 12 LONDON TISSUES   1.005469           True\n",
       "15     22659              LUNCH BOX I LOVE LONDON  1.000192           True\n",
       "16     22923  FRIDGE MAGNETS LES ENFANTS ASSORTED  0.994898           True\n",
       "17     22988                    SOLDIERS EGG CUP   0.991320           True\n",
       "18     22998         TRAVEL CARD WALLET KEEP CALM  0.990958           True\n",
       "19         M                               Manual  0.989975           True"
      ]
     },
     "execution_count": 65,
     "metadata": {},
     "output_type": "execute_result"
    }
   ],
   "source": [
    "df_recommendations"
   ]
  },
  {
   "cell_type": "code",
   "execution_count": null,
   "metadata": {},
   "outputs": [],
   "source": []
  }
 ],
 "metadata": {
  "colab": {
   "provenance": []
  },
  "kernelspec": {
   "display_name": "Python [conda env:pytorch_env]",
   "language": "python",
   "name": "conda-env-pytorch_env-py"
  },
  "language_info": {
   "codemirror_mode": {
    "name": "ipython",
    "version": 3
   },
   "file_extension": ".py",
   "mimetype": "text/x-python",
   "name": "python",
   "nbconvert_exporter": "python",
   "pygments_lexer": "ipython3",
   "version": "3.10.4"
  },
  "toc": {
   "base_numbering": 1,
   "nav_menu": {},
   "number_sections": true,
   "sideBar": true,
   "skip_h1_title": false,
   "title_cell": "Table of Contents",
   "title_sidebar": "Contents",
   "toc_cell": false,
   "toc_position": {},
   "toc_section_display": true,
   "toc_window_display": false
  },
  "widgets": {
   "application/vnd.jupyter.widget-state+json": {
    "0c9797759ed4408fa0a4eec2b26dd88d": {
     "model_module": "@jupyter-widgets/base",
     "model_module_version": "1.2.0",
     "model_name": "LayoutModel",
     "state": {
      "_model_module": "@jupyter-widgets/base",
      "_model_module_version": "1.2.0",
      "_model_name": "LayoutModel",
      "_view_count": null,
      "_view_module": "@jupyter-widgets/base",
      "_view_module_version": "1.2.0",
      "_view_name": "LayoutView",
      "align_content": null,
      "align_items": null,
      "align_self": null,
      "border": null,
      "bottom": null,
      "display": null,
      "flex": null,
      "flex_flow": null,
      "grid_area": null,
      "grid_auto_columns": null,
      "grid_auto_flow": null,
      "grid_auto_rows": null,
      "grid_column": null,
      "grid_gap": null,
      "grid_row": null,
      "grid_template_areas": null,
      "grid_template_columns": null,
      "grid_template_rows": null,
      "height": null,
      "justify_content": null,
      "justify_items": null,
      "left": null,
      "margin": null,
      "max_height": null,
      "max_width": null,
      "min_height": null,
      "min_width": null,
      "object_fit": null,
      "object_position": null,
      "order": null,
      "overflow": null,
      "overflow_x": null,
      "overflow_y": null,
      "padding": null,
      "right": null,
      "top": null,
      "visibility": null,
      "width": null
     }
    },
    "33517a04cde24bb488f7252b24df386a": {
     "model_module": "@jupyter-widgets/controls",
     "model_module_version": "1.5.0",
     "model_name": "ProgressStyleModel",
     "state": {
      "_model_module": "@jupyter-widgets/controls",
      "_model_module_version": "1.5.0",
      "_model_name": "ProgressStyleModel",
      "_view_count": null,
      "_view_module": "@jupyter-widgets/base",
      "_view_module_version": "1.2.0",
      "_view_name": "StyleView",
      "bar_color": null,
      "description_width": ""
     }
    },
    "3ea04febc19d48b28d00a628c0afba3f": {
     "model_module": "@jupyter-widgets/base",
     "model_module_version": "1.2.0",
     "model_name": "LayoutModel",
     "state": {
      "_model_module": "@jupyter-widgets/base",
      "_model_module_version": "1.2.0",
      "_model_name": "LayoutModel",
      "_view_count": null,
      "_view_module": "@jupyter-widgets/base",
      "_view_module_version": "1.2.0",
      "_view_name": "LayoutView",
      "align_content": null,
      "align_items": null,
      "align_self": null,
      "border": null,
      "bottom": null,
      "display": null,
      "flex": null,
      "flex_flow": null,
      "grid_area": null,
      "grid_auto_columns": null,
      "grid_auto_flow": null,
      "grid_auto_rows": null,
      "grid_column": null,
      "grid_gap": null,
      "grid_row": null,
      "grid_template_areas": null,
      "grid_template_columns": null,
      "grid_template_rows": null,
      "height": null,
      "justify_content": null,
      "justify_items": null,
      "left": null,
      "margin": null,
      "max_height": null,
      "max_width": null,
      "min_height": null,
      "min_width": null,
      "object_fit": null,
      "object_position": null,
      "order": null,
      "overflow": null,
      "overflow_x": null,
      "overflow_y": null,
      "padding": null,
      "right": null,
      "top": null,
      "visibility": null,
      "width": null
     }
    },
    "4769c46a72384094a14308a5d6f5640e": {
     "model_module": "@jupyter-widgets/base",
     "model_module_version": "1.2.0",
     "model_name": "LayoutModel",
     "state": {
      "_model_module": "@jupyter-widgets/base",
      "_model_module_version": "1.2.0",
      "_model_name": "LayoutModel",
      "_view_count": null,
      "_view_module": "@jupyter-widgets/base",
      "_view_module_version": "1.2.0",
      "_view_name": "LayoutView",
      "align_content": null,
      "align_items": null,
      "align_self": null,
      "border": null,
      "bottom": null,
      "display": null,
      "flex": null,
      "flex_flow": null,
      "grid_area": null,
      "grid_auto_columns": null,
      "grid_auto_flow": null,
      "grid_auto_rows": null,
      "grid_column": null,
      "grid_gap": null,
      "grid_row": null,
      "grid_template_areas": null,
      "grid_template_columns": null,
      "grid_template_rows": null,
      "height": null,
      "justify_content": null,
      "justify_items": null,
      "left": null,
      "margin": null,
      "max_height": null,
      "max_width": null,
      "min_height": null,
      "min_width": null,
      "object_fit": null,
      "object_position": null,
      "order": null,
      "overflow": null,
      "overflow_x": null,
      "overflow_y": null,
      "padding": null,
      "right": null,
      "top": null,
      "visibility": null,
      "width": null
     }
    },
    "4f0fe547cc174fbc84fe672471a74090": {
     "model_module": "@jupyter-widgets/controls",
     "model_module_version": "1.5.0",
     "model_name": "DescriptionStyleModel",
     "state": {
      "_model_module": "@jupyter-widgets/controls",
      "_model_module_version": "1.5.0",
      "_model_name": "DescriptionStyleModel",
      "_view_count": null,
      "_view_module": "@jupyter-widgets/base",
      "_view_module_version": "1.2.0",
      "_view_name": "StyleView",
      "description_width": ""
     }
    },
    "6fc46fc360db40458a8e8a5b5eef0c92": {
     "model_module": "@jupyter-widgets/controls",
     "model_module_version": "1.5.0",
     "model_name": "DescriptionStyleModel",
     "state": {
      "_model_module": "@jupyter-widgets/controls",
      "_model_module_version": "1.5.0",
      "_model_name": "DescriptionStyleModel",
      "_view_count": null,
      "_view_module": "@jupyter-widgets/base",
      "_view_module_version": "1.2.0",
      "_view_name": "StyleView",
      "description_width": ""
     }
    },
    "a8cbc1120ff94faf8b91a689921e2bf8": {
     "model_module": "@jupyter-widgets/controls",
     "model_module_version": "1.5.0",
     "model_name": "FloatProgressModel",
     "state": {
      "_dom_classes": [],
      "_model_module": "@jupyter-widgets/controls",
      "_model_module_version": "1.5.0",
      "_model_name": "FloatProgressModel",
      "_view_count": null,
      "_view_module": "@jupyter-widgets/controls",
      "_view_module_version": "1.5.0",
      "_view_name": "ProgressView",
      "bar_style": "success",
      "description": "",
      "description_tooltip": null,
      "layout": "IPY_MODEL_0c9797759ed4408fa0a4eec2b26dd88d",
      "max": 15,
      "min": 0,
      "orientation": "horizontal",
      "style": "IPY_MODEL_33517a04cde24bb488f7252b24df386a",
      "value": 15
     }
    },
    "b334cc0424034e7c868a2dc954b2b92b": {
     "model_module": "@jupyter-widgets/base",
     "model_module_version": "1.2.0",
     "model_name": "LayoutModel",
     "state": {
      "_model_module": "@jupyter-widgets/base",
      "_model_module_version": "1.2.0",
      "_model_name": "LayoutModel",
      "_view_count": null,
      "_view_module": "@jupyter-widgets/base",
      "_view_module_version": "1.2.0",
      "_view_name": "LayoutView",
      "align_content": null,
      "align_items": null,
      "align_self": null,
      "border": null,
      "bottom": null,
      "display": null,
      "flex": null,
      "flex_flow": null,
      "grid_area": null,
      "grid_auto_columns": null,
      "grid_auto_flow": null,
      "grid_auto_rows": null,
      "grid_column": null,
      "grid_gap": null,
      "grid_row": null,
      "grid_template_areas": null,
      "grid_template_columns": null,
      "grid_template_rows": null,
      "height": null,
      "justify_content": null,
      "justify_items": null,
      "left": null,
      "margin": null,
      "max_height": null,
      "max_width": null,
      "min_height": null,
      "min_width": null,
      "object_fit": null,
      "object_position": null,
      "order": null,
      "overflow": null,
      "overflow_x": null,
      "overflow_y": null,
      "padding": null,
      "right": null,
      "top": null,
      "visibility": null,
      "width": null
     }
    },
    "d031940603e643868034e14a7354de32": {
     "model_module": "@jupyter-widgets/controls",
     "model_module_version": "1.5.0",
     "model_name": "HBoxModel",
     "state": {
      "_dom_classes": [],
      "_model_module": "@jupyter-widgets/controls",
      "_model_module_version": "1.5.0",
      "_model_name": "HBoxModel",
      "_view_count": null,
      "_view_module": "@jupyter-widgets/controls",
      "_view_module_version": "1.5.0",
      "_view_name": "HBoxView",
      "box_style": "",
      "children": [
       "IPY_MODEL_d4279fdc9925487c93b026f3116024f3",
       "IPY_MODEL_a8cbc1120ff94faf8b91a689921e2bf8",
       "IPY_MODEL_ec59761392a34618b56774eee32b6281"
      ],
      "layout": "IPY_MODEL_b334cc0424034e7c868a2dc954b2b92b"
     }
    },
    "d4279fdc9925487c93b026f3116024f3": {
     "model_module": "@jupyter-widgets/controls",
     "model_module_version": "1.5.0",
     "model_name": "HTMLModel",
     "state": {
      "_dom_classes": [],
      "_model_module": "@jupyter-widgets/controls",
      "_model_module_version": "1.5.0",
      "_model_name": "HTMLModel",
      "_view_count": null,
      "_view_module": "@jupyter-widgets/controls",
      "_view_module_version": "1.5.0",
      "_view_name": "HTMLView",
      "description": "",
      "description_tooltip": null,
      "layout": "IPY_MODEL_4769c46a72384094a14308a5d6f5640e",
      "placeholder": "​",
      "style": "IPY_MODEL_4f0fe547cc174fbc84fe672471a74090",
      "value": "100%"
     }
    },
    "ec59761392a34618b56774eee32b6281": {
     "model_module": "@jupyter-widgets/controls",
     "model_module_version": "1.5.0",
     "model_name": "HTMLModel",
     "state": {
      "_dom_classes": [],
      "_model_module": "@jupyter-widgets/controls",
      "_model_module_version": "1.5.0",
      "_model_name": "HTMLModel",
      "_view_count": null,
      "_view_module": "@jupyter-widgets/controls",
      "_view_module_version": "1.5.0",
      "_view_name": "HTMLView",
      "description": "",
      "description_tooltip": null,
      "layout": "IPY_MODEL_3ea04febc19d48b28d00a628c0afba3f",
      "placeholder": "​",
      "style": "IPY_MODEL_6fc46fc360db40458a8e8a5b5eef0c92",
      "value": " 15/15 [00:09&lt;00:00,  1.17it/s]"
     }
    }
   }
  }
 },
 "nbformat": 4,
 "nbformat_minor": 1
}
