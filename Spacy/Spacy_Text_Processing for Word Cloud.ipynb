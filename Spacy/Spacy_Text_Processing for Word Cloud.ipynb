{
 "cells": [
  {
   "cell_type": "code",
   "execution_count": 2,
   "metadata": {
    "colab": {
     "base_uri": "https://localhost:8080/"
    },
    "id": "0Cncq0o9w__W",
    "outputId": "551be62d-e039-48af-aab7-bb7333a0ca57"
   },
   "outputs": [
    {
     "name": "stdout",
     "output_type": "stream",
     "text": [
      "Requirement already satisfied: spacy in c:\\users\\wengz\\anaconda3\\envs\\pytorch_env\\lib\\site-packages (3.4.1)\n",
      "Requirement already satisfied: preshed<3.1.0,>=3.0.2 in c:\\users\\wengz\\anaconda3\\envs\\pytorch_env\\lib\\site-packages (from spacy) (3.0.7)\n",
      "Requirement already satisfied: pathy>=0.3.5 in c:\\users\\wengz\\anaconda3\\envs\\pytorch_env\\lib\\site-packages (from spacy) (0.6.2)\n",
      "Requirement already satisfied: tqdm<5.0.0,>=4.38.0 in c:\\users\\wengz\\anaconda3\\envs\\pytorch_env\\lib\\site-packages (from spacy) (4.64.1)\n",
      "Requirement already satisfied: jinja2 in c:\\users\\wengz\\anaconda3\\envs\\pytorch_env\\lib\\site-packages (from spacy) (3.1.2)\n",
      "Requirement already satisfied: catalogue<2.1.0,>=2.0.6 in c:\\users\\wengz\\anaconda3\\envs\\pytorch_env\\lib\\site-packages (from spacy) (2.0.8)\n",
      "Requirement already satisfied: setuptools in c:\\users\\wengz\\anaconda3\\envs\\pytorch_env\\lib\\site-packages (from spacy) (59.8.0)\n",
      "Requirement already satisfied: spacy-legacy<3.1.0,>=3.0.9 in c:\\users\\wengz\\anaconda3\\envs\\pytorch_env\\lib\\site-packages (from spacy) (3.0.10)\n",
      "Requirement already satisfied: murmurhash<1.1.0,>=0.28.0 in c:\\users\\wengz\\anaconda3\\envs\\pytorch_env\\lib\\site-packages (from spacy) (1.0.8)\n",
      "Requirement already satisfied: requests<3.0.0,>=2.13.0 in c:\\users\\wengz\\anaconda3\\envs\\pytorch_env\\lib\\site-packages (from spacy) (2.28.1)\n",
      "Requirement already satisfied: spacy-loggers<2.0.0,>=1.0.0 in c:\\users\\wengz\\anaconda3\\envs\\pytorch_env\\lib\\site-packages (from spacy) (1.0.3)\n",
      "Requirement already satisfied: langcodes<4.0.0,>=3.2.0 in c:\\users\\wengz\\anaconda3\\envs\\pytorch_env\\lib\\site-packages (from spacy) (3.3.0)\n",
      "Requirement already satisfied: numpy>=1.15.0 in c:\\users\\wengz\\anaconda3\\envs\\pytorch_env\\lib\\site-packages (from spacy) (1.23.2)\n",
      "Requirement already satisfied: pydantic!=1.8,!=1.8.1,<1.10.0,>=1.7.4 in c:\\users\\wengz\\anaconda3\\envs\\pytorch_env\\lib\\site-packages (from spacy) (1.9.2)\n",
      "Requirement already satisfied: packaging>=20.0 in c:\\users\\wengz\\anaconda3\\envs\\pytorch_env\\lib\\site-packages (from spacy) (21.3)\n",
      "Requirement already satisfied: thinc<8.2.0,>=8.1.0 in c:\\users\\wengz\\anaconda3\\envs\\pytorch_env\\lib\\site-packages (from spacy) (8.1.0)\n",
      "Requirement already satisfied: cymem<2.1.0,>=2.0.2 in c:\\users\\wengz\\anaconda3\\envs\\pytorch_env\\lib\\site-packages (from spacy) (2.0.6)\n",
      "Requirement already satisfied: typer<0.5.0,>=0.3.0 in c:\\users\\wengz\\anaconda3\\envs\\pytorch_env\\lib\\site-packages (from spacy) (0.4.2)\n",
      "Requirement already satisfied: wasabi<1.1.0,>=0.9.1 in c:\\users\\wengz\\anaconda3\\envs\\pytorch_env\\lib\\site-packages (from spacy) (0.10.1)\n",
      "Requirement already satisfied: srsly<3.0.0,>=2.4.3 in c:\\users\\wengz\\anaconda3\\envs\\pytorch_env\\lib\\site-packages (from spacy) (2.4.4)\n",
      "Requirement already satisfied: pyparsing!=3.0.5,>=2.0.2 in c:\\users\\wengz\\anaconda3\\envs\\pytorch_env\\lib\\site-packages (from packaging>=20.0->spacy) (3.0.9)\n",
      "Requirement already satisfied: smart-open<6.0.0,>=5.2.1 in c:\\users\\wengz\\anaconda3\\envs\\pytorch_env\\lib\\site-packages (from pathy>=0.3.5->spacy) (5.2.1)\n",
      "Requirement already satisfied: typing-extensions>=3.7.4.3 in c:\\users\\wengz\\anaconda3\\envs\\pytorch_env\\lib\\site-packages (from pydantic!=1.8,!=1.8.1,<1.10.0,>=1.7.4->spacy) (4.3.0)\n",
      "Requirement already satisfied: urllib3<1.27,>=1.21.1 in c:\\users\\wengz\\anaconda3\\envs\\pytorch_env\\lib\\site-packages (from requests<3.0.0,>=2.13.0->spacy) (1.26.11)\n",
      "Requirement already satisfied: certifi>=2017.4.17 in c:\\users\\wengz\\anaconda3\\envs\\pytorch_env\\lib\\site-packages (from requests<3.0.0,>=2.13.0->spacy) (2022.9.24)\n",
      "Requirement already satisfied: idna<4,>=2.5 in c:\\users\\wengz\\anaconda3\\envs\\pytorch_env\\lib\\site-packages (from requests<3.0.0,>=2.13.0->spacy) (3.4)\n",
      "Requirement already satisfied: charset-normalizer<3,>=2 in c:\\users\\wengz\\anaconda3\\envs\\pytorch_env\\lib\\site-packages (from requests<3.0.0,>=2.13.0->spacy) (2.1.1)\n",
      "Requirement already satisfied: blis<0.8.0,>=0.7.8 in c:\\users\\wengz\\anaconda3\\envs\\pytorch_env\\lib\\site-packages (from thinc<8.2.0,>=8.1.0->spacy) (0.7.8)\n",
      "Requirement already satisfied: colorama in c:\\users\\wengz\\anaconda3\\envs\\pytorch_env\\lib\\site-packages (from tqdm<5.0.0,>=4.38.0->spacy) (0.4.5)\n",
      "Requirement already satisfied: click<9.0.0,>=7.1.1 in c:\\users\\wengz\\anaconda3\\envs\\pytorch_env\\lib\\site-packages (from typer<0.5.0,>=0.3.0->spacy) (8.1.3)\n",
      "Requirement already satisfied: MarkupSafe>=2.0 in c:\\users\\wengz\\anaconda3\\envs\\pytorch_env\\lib\\site-packages (from jinja2->spacy) (2.1.1)\n"
     ]
    }
   ],
   "source": [
    "#!pip install spacy"
   ]
  },
  {
   "cell_type": "code",
   "execution_count": 1,
   "metadata": {
    "colab": {
     "base_uri": "https://localhost:8080/"
    },
    "id": "fzVtLqFYxFSw",
    "outputId": "4b0fae6b-6470-4312-8a98-6c61d3f35ca4"
   },
   "outputs": [
    {
     "name": "stdout",
     "output_type": "stream",
     "text": [
      "Collecting textblob\n",
      "  Downloading textblob-0.17.1-py2.py3-none-any.whl (636 kB)\n",
      "     -------------------------------------- 636.8/636.8 kB 8.0 MB/s eta 0:00:00\n",
      "Collecting nltk>=3.1\n",
      "  Downloading nltk-3.7-py3-none-any.whl (1.5 MB)\n",
      "     ---------------------------------------- 1.5/1.5 MB 10.6 MB/s eta 0:00:00\n",
      "Requirement already satisfied: click in c:\\users\\wengz\\anaconda3\\envs\\pytorch_env\\lib\\site-packages (from nltk>=3.1->textblob) (8.1.3)\n",
      "Requirement already satisfied: joblib in c:\\users\\wengz\\anaconda3\\envs\\pytorch_env\\lib\\site-packages (from nltk>=3.1->textblob) (1.1.0)\n",
      "Requirement already satisfied: tqdm in c:\\users\\wengz\\anaconda3\\envs\\pytorch_env\\lib\\site-packages (from nltk>=3.1->textblob) (4.64.1)\n",
      "Requirement already satisfied: regex>=2021.8.3 in c:\\users\\wengz\\anaconda3\\envs\\pytorch_env\\lib\\site-packages (from nltk>=3.1->textblob) (2022.9.13)\n",
      "Requirement already satisfied: colorama in c:\\users\\wengz\\anaconda3\\envs\\pytorch_env\\lib\\site-packages (from click->nltk>=3.1->textblob) (0.4.5)\n",
      "Installing collected packages: nltk, textblob\n",
      "Successfully installed nltk-3.7 textblob-0.17.1\n"
     ]
    }
   ],
   "source": [
    "#!pip install textblob"
   ]
  },
  {
   "cell_type": "code",
   "execution_count": 3,
   "metadata": {
    "colab": {
     "base_uri": "https://localhost:8080/"
    },
    "id": "1Hojw52exIHs",
    "outputId": "db3e16af-358e-4967-8a56-58c57f917da3"
   },
   "outputs": [
    {
     "name": "stdout",
     "output_type": "stream",
     "text": [
      "Collecting en-core-web-lg==3.4.1\n",
      "  Downloading https://github.com/explosion/spacy-models/releases/download/en_core_web_lg-3.4.1/en_core_web_lg-3.4.1-py3-none-any.whl (587.7 MB)\n",
      "     -------------------------------------- 587.7/587.7 MB 4.2 MB/s eta 0:00:00\n",
      "Requirement already satisfied: spacy<3.5.0,>=3.4.0 in c:\\users\\wengz\\anaconda3\\envs\\pytorch_env\\lib\\site-packages (from en-core-web-lg==3.4.1) (3.4.1)\n",
      "Requirement already satisfied: tqdm<5.0.0,>=4.38.0 in c:\\users\\wengz\\anaconda3\\envs\\pytorch_env\\lib\\site-packages (from spacy<3.5.0,>=3.4.0->en-core-web-lg==3.4.1) (4.64.1)\n",
      "Requirement already satisfied: pydantic!=1.8,!=1.8.1,<1.10.0,>=1.7.4 in c:\\users\\wengz\\anaconda3\\envs\\pytorch_env\\lib\\site-packages (from spacy<3.5.0,>=3.4.0->en-core-web-lg==3.4.1) (1.9.2)\n",
      "Requirement already satisfied: requests<3.0.0,>=2.13.0 in c:\\users\\wengz\\anaconda3\\envs\\pytorch_env\\lib\\site-packages (from spacy<3.5.0,>=3.4.0->en-core-web-lg==3.4.1) (2.28.1)\n",
      "Requirement already satisfied: srsly<3.0.0,>=2.4.3 in c:\\users\\wengz\\anaconda3\\envs\\pytorch_env\\lib\\site-packages (from spacy<3.5.0,>=3.4.0->en-core-web-lg==3.4.1) (2.4.4)\n",
      "Requirement already satisfied: langcodes<4.0.0,>=3.2.0 in c:\\users\\wengz\\anaconda3\\envs\\pytorch_env\\lib\\site-packages (from spacy<3.5.0,>=3.4.0->en-core-web-lg==3.4.1) (3.3.0)\n",
      "Requirement already satisfied: spacy-legacy<3.1.0,>=3.0.9 in c:\\users\\wengz\\anaconda3\\envs\\pytorch_env\\lib\\site-packages (from spacy<3.5.0,>=3.4.0->en-core-web-lg==3.4.1) (3.0.10)\n",
      "Requirement already satisfied: packaging>=20.0 in c:\\users\\wengz\\anaconda3\\envs\\pytorch_env\\lib\\site-packages (from spacy<3.5.0,>=3.4.0->en-core-web-lg==3.4.1) (21.3)\n",
      "Requirement already satisfied: numpy>=1.15.0 in c:\\users\\wengz\\anaconda3\\envs\\pytorch_env\\lib\\site-packages (from spacy<3.5.0,>=3.4.0->en-core-web-lg==3.4.1) (1.23.2)\n",
      "Requirement already satisfied: setuptools in c:\\users\\wengz\\anaconda3\\envs\\pytorch_env\\lib\\site-packages (from spacy<3.5.0,>=3.4.0->en-core-web-lg==3.4.1) (59.8.0)\n",
      "Requirement already satisfied: jinja2 in c:\\users\\wengz\\anaconda3\\envs\\pytorch_env\\lib\\site-packages (from spacy<3.5.0,>=3.4.0->en-core-web-lg==3.4.1) (3.1.2)\n",
      "Requirement already satisfied: preshed<3.1.0,>=3.0.2 in c:\\users\\wengz\\anaconda3\\envs\\pytorch_env\\lib\\site-packages (from spacy<3.5.0,>=3.4.0->en-core-web-lg==3.4.1) (3.0.7)\n",
      "Requirement already satisfied: catalogue<2.1.0,>=2.0.6 in c:\\users\\wengz\\anaconda3\\envs\\pytorch_env\\lib\\site-packages (from spacy<3.5.0,>=3.4.0->en-core-web-lg==3.4.1) (2.0.8)\n",
      "Requirement already satisfied: cymem<2.1.0,>=2.0.2 in c:\\users\\wengz\\anaconda3\\envs\\pytorch_env\\lib\\site-packages (from spacy<3.5.0,>=3.4.0->en-core-web-lg==3.4.1) (2.0.6)\n",
      "Requirement already satisfied: pathy>=0.3.5 in c:\\users\\wengz\\anaconda3\\envs\\pytorch_env\\lib\\site-packages (from spacy<3.5.0,>=3.4.0->en-core-web-lg==3.4.1) (0.6.2)\n",
      "Requirement already satisfied: thinc<8.2.0,>=8.1.0 in c:\\users\\wengz\\anaconda3\\envs\\pytorch_env\\lib\\site-packages (from spacy<3.5.0,>=3.4.0->en-core-web-lg==3.4.1) (8.1.0)\n",
      "Requirement already satisfied: typer<0.5.0,>=0.3.0 in c:\\users\\wengz\\anaconda3\\envs\\pytorch_env\\lib\\site-packages (from spacy<3.5.0,>=3.4.0->en-core-web-lg==3.4.1) (0.4.2)\n",
      "Requirement already satisfied: wasabi<1.1.0,>=0.9.1 in c:\\users\\wengz\\anaconda3\\envs\\pytorch_env\\lib\\site-packages (from spacy<3.5.0,>=3.4.0->en-core-web-lg==3.4.1) (0.10.1)\n",
      "Requirement already satisfied: murmurhash<1.1.0,>=0.28.0 in c:\\users\\wengz\\anaconda3\\envs\\pytorch_env\\lib\\site-packages (from spacy<3.5.0,>=3.4.0->en-core-web-lg==3.4.1) (1.0.8)\n",
      "Requirement already satisfied: spacy-loggers<2.0.0,>=1.0.0 in c:\\users\\wengz\\anaconda3\\envs\\pytorch_env\\lib\\site-packages (from spacy<3.5.0,>=3.4.0->en-core-web-lg==3.4.1) (1.0.3)\n",
      "Requirement already satisfied: pyparsing!=3.0.5,>=2.0.2 in c:\\users\\wengz\\anaconda3\\envs\\pytorch_env\\lib\\site-packages (from packaging>=20.0->spacy<3.5.0,>=3.4.0->en-core-web-lg==3.4.1) (3.0.9)\n",
      "Requirement already satisfied: smart-open<6.0.0,>=5.2.1 in c:\\users\\wengz\\anaconda3\\envs\\pytorch_env\\lib\\site-packages (from pathy>=0.3.5->spacy<3.5.0,>=3.4.0->en-core-web-lg==3.4.1) (5.2.1)\n",
      "Requirement already satisfied: typing-extensions>=3.7.4.3 in c:\\users\\wengz\\anaconda3\\envs\\pytorch_env\\lib\\site-packages (from pydantic!=1.8,!=1.8.1,<1.10.0,>=1.7.4->spacy<3.5.0,>=3.4.0->en-core-web-lg==3.4.1) (4.3.0)\n",
      "Requirement already satisfied: idna<4,>=2.5 in c:\\users\\wengz\\anaconda3\\envs\\pytorch_env\\lib\\site-packages (from requests<3.0.0,>=2.13.0->spacy<3.5.0,>=3.4.0->en-core-web-lg==3.4.1) (3.4)\n",
      "Requirement already satisfied: charset-normalizer<3,>=2 in c:\\users\\wengz\\anaconda3\\envs\\pytorch_env\\lib\\site-packages (from requests<3.0.0,>=2.13.0->spacy<3.5.0,>=3.4.0->en-core-web-lg==3.4.1) (2.1.1)\n",
      "Requirement already satisfied: urllib3<1.27,>=1.21.1 in c:\\users\\wengz\\anaconda3\\envs\\pytorch_env\\lib\\site-packages (from requests<3.0.0,>=2.13.0->spacy<3.5.0,>=3.4.0->en-core-web-lg==3.4.1) (1.26.11)\n",
      "Requirement already satisfied: certifi>=2017.4.17 in c:\\users\\wengz\\anaconda3\\envs\\pytorch_env\\lib\\site-packages (from requests<3.0.0,>=2.13.0->spacy<3.5.0,>=3.4.0->en-core-web-lg==3.4.1) (2022.9.24)\n",
      "Requirement already satisfied: blis<0.8.0,>=0.7.8 in c:\\users\\wengz\\anaconda3\\envs\\pytorch_env\\lib\\site-packages (from thinc<8.2.0,>=8.1.0->spacy<3.5.0,>=3.4.0->en-core-web-lg==3.4.1) (0.7.8)\n",
      "Requirement already satisfied: colorama in c:\\users\\wengz\\anaconda3\\envs\\pytorch_env\\lib\\site-packages (from tqdm<5.0.0,>=4.38.0->spacy<3.5.0,>=3.4.0->en-core-web-lg==3.4.1) (0.4.5)\n",
      "Requirement already satisfied: click<9.0.0,>=7.1.1 in c:\\users\\wengz\\anaconda3\\envs\\pytorch_env\\lib\\site-packages (from typer<0.5.0,>=0.3.0->spacy<3.5.0,>=3.4.0->en-core-web-lg==3.4.1) (8.1.3)\n",
      "Requirement already satisfied: MarkupSafe>=2.0 in c:\\users\\wengz\\anaconda3\\envs\\pytorch_env\\lib\\site-packages (from jinja2->spacy<3.5.0,>=3.4.0->en-core-web-lg==3.4.1) (2.1.1)\n",
      "Installing collected packages: en-core-web-lg\n",
      "Successfully installed en-core-web-lg-3.4.1\n",
      "[+] Download and installation successful\n",
      "You can now load the package via spacy.load('en_core_web_lg')\n"
     ]
    }
   ],
   "source": [
    "!python -m spacy download en_core_web_lg"
   ]
  },
  {
   "cell_type": "code",
   "execution_count": 4,
   "metadata": {
    "id": "WS4Bo7vK3usN"
   },
   "outputs": [],
   "source": [
    "import spacy \n",
    "from textblob import Word\n",
    "import re\n",
    "import pandas as pd\n",
    "from collections import Counter"
   ]
  },
  {
   "cell_type": "code",
   "execution_count": 5,
   "metadata": {
    "id": "WCbcrH-tzHi-"
   },
   "outputs": [],
   "source": [
    "nlp = spacy.load(\"en_core_web_lg\")"
   ]
  },
  {
   "cell_type": "code",
   "execution_count": 6,
   "metadata": {
    "id": "vHpSbKh74FL1"
   },
   "outputs": [],
   "source": [
    "text = \"10 running tshirts | 20 dry fit tshirts replacement for departmentA | 4 runnin shorts replacmnt for departmentB \""
   ]
  },
  {
   "cell_type": "code",
   "execution_count": 7,
   "metadata": {
    "id": "t2O7hCw25PeB"
   },
   "outputs": [],
   "source": [
    "my_doc = nlp(text)"
   ]
  },
  {
   "cell_type": "code",
   "execution_count": 8,
   "metadata": {
    "id": "rtWD-O-W5Uh9"
   },
   "outputs": [],
   "source": [
    "word_list = [token.lemma_ for token in my_doc if not token.is_punct | token.is_stop | token.is_space]"
   ]
  },
  {
   "cell_type": "code",
   "execution_count": 9,
   "metadata": {
    "colab": {
     "base_uri": "https://localhost:8080/"
    },
    "id": "yONsGsFq5i2f",
    "outputId": "a3e2d162-8162-4755-dfa6-2f13c8ff26b4"
   },
   "outputs": [
    {
     "data": {
      "text/plain": [
       "['10',\n",
       " 'run',\n",
       " 'tshirt',\n",
       " '|',\n",
       " '20',\n",
       " 'dry',\n",
       " 'fit',\n",
       " 'tshirt',\n",
       " 'replacement',\n",
       " 'departmenta',\n",
       " '|',\n",
       " '4',\n",
       " 'runnin',\n",
       " 'short',\n",
       " 'replacmnt',\n",
       " 'departmentB']"
      ]
     },
     "execution_count": 9,
     "metadata": {},
     "output_type": "execute_result"
    }
   ],
   "source": [
    "word_list"
   ]
  },
  {
   "cell_type": "code",
   "execution_count": 10,
   "metadata": {
    "colab": {
     "base_uri": "https://localhost:8080/",
     "height": 312
    },
    "id": "w_v3jtXP7ROI",
    "outputId": "0813e6e0-7477-4ef7-a078-b597b1129196"
   },
   "outputs": [],
   "source": [
    "word_list2 = [re.sub(r\"[^\\w\\s]+\",\"\",word) for word in word_list]"
   ]
  },
  {
   "cell_type": "code",
   "execution_count": 11,
   "metadata": {
    "colab": {
     "base_uri": "https://localhost:8080/"
    },
    "id": "IpTDZhA-7xiN",
    "outputId": "1aaf0487-a4e1-4ea8-f2df-9e1493b753f2"
   },
   "outputs": [
    {
     "data": {
      "text/plain": [
       "['10',\n",
       " 'run',\n",
       " 'tshirt',\n",
       " '',\n",
       " '20',\n",
       " 'dry',\n",
       " 'fit',\n",
       " 'tshirt',\n",
       " 'replacement',\n",
       " 'departmenta',\n",
       " '',\n",
       " '4',\n",
       " 'runnin',\n",
       " 'short',\n",
       " 'replacmnt',\n",
       " 'departmentB']"
      ]
     },
     "execution_count": 11,
     "metadata": {},
     "output_type": "execute_result"
    }
   ],
   "source": [
    "word_list2"
   ]
  },
  {
   "cell_type": "code",
   "execution_count": 12,
   "metadata": {
    "id": "dhdFn2QJ5j0W"
   },
   "outputs": [],
   "source": [
    "word_list3 = [word.lower() for word in word_list2]"
   ]
  },
  {
   "cell_type": "code",
   "execution_count": 13,
   "metadata": {
    "colab": {
     "base_uri": "https://localhost:8080/"
    },
    "id": "1z8HgylV5_6Q",
    "outputId": "39cd822c-2ec3-4a64-a6eb-095d8b617bb3"
   },
   "outputs": [
    {
     "data": {
      "text/plain": [
       "['10',\n",
       " 'run',\n",
       " 'tshirt',\n",
       " '',\n",
       " '20',\n",
       " 'dry',\n",
       " 'fit',\n",
       " 'tshirt',\n",
       " 'replacement',\n",
       " 'departmenta',\n",
       " '',\n",
       " '4',\n",
       " 'runnin',\n",
       " 'short',\n",
       " 'replacmnt',\n",
       " 'departmentb']"
      ]
     },
     "execution_count": 13,
     "metadata": {},
     "output_type": "execute_result"
    }
   ],
   "source": [
    "word_list3"
   ]
  },
  {
   "cell_type": "code",
   "execution_count": 14,
   "metadata": {
    "id": "kKC5HHLa7E_h"
   },
   "outputs": [],
   "source": [
    "word_list4 = [re.sub(\"\\d+\",\"\", word ) for word in word_list3]"
   ]
  },
  {
   "cell_type": "code",
   "execution_count": 15,
   "metadata": {
    "colab": {
     "base_uri": "https://localhost:8080/"
    },
    "id": "M_0asKBJ8kwN",
    "outputId": "721a2922-e713-4924-d662-4fdd99284ab9"
   },
   "outputs": [
    {
     "data": {
      "text/plain": [
       "['',\n",
       " 'run',\n",
       " 'tshirt',\n",
       " '',\n",
       " '',\n",
       " 'dry',\n",
       " 'fit',\n",
       " 'tshirt',\n",
       " 'replacement',\n",
       " 'departmenta',\n",
       " '',\n",
       " '',\n",
       " 'runnin',\n",
       " 'short',\n",
       " 'replacmnt',\n",
       " 'departmentb']"
      ]
     },
     "execution_count": 15,
     "metadata": {},
     "output_type": "execute_result"
    }
   ],
   "source": [
    "word_list4"
   ]
  },
  {
   "cell_type": "code",
   "execution_count": 16,
   "metadata": {
    "id": "nLUsdOdO8l6B"
   },
   "outputs": [],
   "source": [
    "word_set = set(word_list4)"
   ]
  },
  {
   "cell_type": "code",
   "execution_count": 17,
   "metadata": {
    "id": "GLHYCnti-GgF"
   },
   "outputs": [],
   "source": [
    "def word_correct(word, word_set):\n",
    "    corrected_word = Word(word).correct()\n",
    "    if corrected_word in word_set:\n",
    "        return corrected_word\n",
    "    else:\n",
    "        return word"
   ]
  },
  {
   "cell_type": "code",
   "execution_count": 18,
   "metadata": {
    "id": "VFba8s0p9GYj"
   },
   "outputs": [],
   "source": [
    "word_list5 = [word_correct(word,word_set) for word in word_list4]"
   ]
  },
  {
   "cell_type": "code",
   "execution_count": 19,
   "metadata": {
    "colab": {
     "base_uri": "https://localhost:8080/"
    },
    "id": "nU8gv2U--hB9",
    "outputId": "d8d6f9ca-62d3-41bb-96f4-bff74ea24adf"
   },
   "outputs": [
    {
     "data": {
      "text/plain": [
       "['',\n",
       " 'run',\n",
       " 'tshirt',\n",
       " '',\n",
       " '',\n",
       " 'dry',\n",
       " 'fit',\n",
       " 'tshirt',\n",
       " 'replacement',\n",
       " 'departmenta',\n",
       " '',\n",
       " '',\n",
       " 'runnin',\n",
       " 'short',\n",
       " 'replacement',\n",
       " 'departmentb']"
      ]
     },
     "execution_count": 19,
     "metadata": {},
     "output_type": "execute_result"
    }
   ],
   "source": [
    "word_list5"
   ]
  },
  {
   "cell_type": "code",
   "execution_count": 20,
   "metadata": {
    "id": "1wbOgFKg-0pD"
   },
   "outputs": [],
   "source": [
    "# Need to do up the word count in a list "
   ]
  },
  {
   "cell_type": "code",
   "execution_count": 21,
   "metadata": {
    "id": "oD5A7dwC_IPc"
   },
   "outputs": [],
   "source": [
    "word_count = Counter()"
   ]
  },
  {
   "cell_type": "code",
   "execution_count": 22,
   "metadata": {
    "id": "XuIwCM4nP2Lw"
   },
   "outputs": [],
   "source": [
    "word_count.update(word_list5)"
   ]
  },
  {
   "cell_type": "code",
   "execution_count": 23,
   "metadata": {
    "colab": {
     "base_uri": "https://localhost:8080/"
    },
    "id": "tRExfDhqQsj0",
    "outputId": "686c697e-154f-4a70-84f1-060b48d97e80"
   },
   "outputs": [
    {
     "data": {
      "text/plain": [
       "Counter({'': 5,\n",
       "         'run': 1,\n",
       "         'tshirt': 2,\n",
       "         'dry': 1,\n",
       "         'fit': 1,\n",
       "         'replacement': 2,\n",
       "         'departmenta': 1,\n",
       "         'runnin': 1,\n",
       "         'short': 1,\n",
       "         'departmentb': 1})"
      ]
     },
     "execution_count": 23,
     "metadata": {},
     "output_type": "execute_result"
    }
   ],
   "source": [
    "word_count"
   ]
  },
  {
   "cell_type": "code",
   "execution_count": null,
   "metadata": {
    "id": "FLMwyAFkQ2ek"
   },
   "outputs": [],
   "source": []
  }
 ],
 "metadata": {
  "colab": {
   "provenance": []
  },
  "kernelspec": {
   "display_name": "Python [conda env:pytorch_env]",
   "language": "python",
   "name": "conda-env-pytorch_env-py"
  },
  "language_info": {
   "codemirror_mode": {
    "name": "ipython",
    "version": 3
   },
   "file_extension": ".py",
   "mimetype": "text/x-python",
   "name": "python",
   "nbconvert_exporter": "python",
   "pygments_lexer": "ipython3",
   "version": "3.10.4"
  },
  "toc": {
   "base_numbering": 1,
   "nav_menu": {},
   "number_sections": true,
   "sideBar": true,
   "skip_h1_title": false,
   "title_cell": "Table of Contents",
   "title_sidebar": "Contents",
   "toc_cell": false,
   "toc_position": {},
   "toc_section_display": true,
   "toc_window_display": false
  }
 },
 "nbformat": 4,
 "nbformat_minor": 1
}
